{
 "cells": [
  {
   "cell_type": "markdown",
   "id": "a78152bc-36be-4d2e-9f93-84fc2a82004c",
   "metadata": {
    "tags": []
   },
   "source": [
    "Ames Home Pricing Notebook\n",
    "="
   ]
  },
  {
   "cell_type": "markdown",
   "id": "82bf2b1e-9c58-4c86-a262-3f957dc7678c",
   "metadata": {},
   "source": [
    "This notebook contains everything for the project from EDA all the way to the predictive model.  Please note that there is an issue with the kaggle submission code that I have not been able to debug, I was able to submit my first model and cannot submit subsequent sadly. "
   ]
  },
  {
   "cell_type": "markdown",
   "id": "3f7062dc-fe2b-4eda-a092-1327707acd83",
   "metadata": {
    "tags": []
   },
   "source": [
    "**Importing Libraries**"
   ]
  },
  {
   "cell_type": "code",
   "execution_count": 1,
   "id": "85d3e32a-3642-4df5-9b94-a5f15e9d1882",
   "metadata": {},
   "outputs": [],
   "source": [
    "#imports\n",
    "import numpy as np\n",
    "import seaborn as sns\n",
    "import matplotlib.pyplot as plt\n",
    "import pandas as pd\n",
    "from sklearn.model_selection import train_test_split, cross_val_score\n",
    "from sklearn.linear_model import LinearRegression, LassoCV, RidgeCV\n",
    "from sklearn.preprocessing import PolynomialFeatures, StandardScaler\n",
    "from scipy.stats import ttest_ind\n",
    "from sklearn import metrics as ms\n",
    "import statsmodels.api as sm"
   ]
  },
  {
   "cell_type": "markdown",
   "id": "ae76e4b2-29e4-4ea7-a679-d06e72dcc284",
   "metadata": {},
   "source": [
    "**Sources Used**"
   ]
  },
  {
   "cell_type": "markdown",
   "id": "3917662c-2e75-494e-ab70-2da9391f616b",
   "metadata": {
    "tags": []
   },
   "source": [
    "https://www.pythonpool.com/python-scientific-notation/  I prefer looking at the MSE in scientific notation\n",
    "so that I do not have to figure out the order of magnitude.\n",
    "\n",
    "A pluralsight guide on regression\n",
    "https://www.pluralsight.com/guides/linear-lasso-ridge-regression-scikit-learn\n",
    "\n",
    "Tutorial on pulling the column names to list\n",
    "https://datatofish.com/list-column-names-pandas-dataframe/\n",
    "\n",
    "I forgot how to save images to files for my presentation lol\n",
    "https://stackoverflow.com/questions/9622163/save-plot-to-image-file-instead-of-displaying-it-using-matplotlib"
   ]
  },
  {
   "cell_type": "code",
   "execution_count": 2,
   "id": "008d54b2-90bc-4b44-a064-ad10c3c15f40",
   "metadata": {},
   "outputs": [],
   "source": [
    "#function imports\n",
    "#converting column names to snake_case, this was a function I developed in project one\n",
    "def to_snake_case(input_string, to_lower = True):\n",
    "    \"\"\"Takes a string and converts the spaces to underscores\n",
    "    input_sting is the string input variable\n",
    "    default option to lowercase all the string characters\"\"\"\n",
    "    if to_lower:\n",
    "        output_string='_'.join(input_string.lower().split())\n",
    "    else:\n",
    "        output_string='_'.join(input_string.lower().split())\n",
    "    return output_string"
   ]
  },
  {
   "cell_type": "markdown",
   "id": "634eda79-d465-4974-98c1-2cb56ebb101c",
   "metadata": {},
   "source": [
    "Initial Data Import and Overall Reivew\n",
    "="
   ]
  },
  {
   "cell_type": "markdown",
   "id": "3932d1c2-2b37-4095-8cab-0c2c7d886fdf",
   "metadata": {},
   "source": [
    "Bringing in training and test sets, then proceeding to getting an overview of the data."
   ]
  },
  {
   "cell_type": "code",
   "execution_count": 3,
   "id": "0a6c3c9d-68c9-45b6-bdf2-b6a2c0362ba5",
   "metadata": {},
   "outputs": [],
   "source": [
    "df_sample=pd.read_csv('./datasets/sample_sub_reg.csv')\n",
    "hd_df=pd.read_csv('./datasets/train.csv')"
   ]
  },
  {
   "cell_type": "code",
   "execution_count": 4,
   "id": "65f0334f-5a88-4c81-b7a0-282d04d0fd8c",
   "metadata": {},
   "outputs": [],
   "source": [
    "hd_test_df=pd.read_csv('./datasets/test.csv')"
   ]
  },
  {
   "cell_type": "code",
   "execution_count": 5,
   "id": "295926b2-078e-46ec-a62a-51276958c0e5",
   "metadata": {},
   "outputs": [
    {
     "data": {
      "text/html": [
       "<div>\n",
       "<style scoped>\n",
       "    .dataframe tbody tr th:only-of-type {\n",
       "        vertical-align: middle;\n",
       "    }\n",
       "\n",
       "    .dataframe tbody tr th {\n",
       "        vertical-align: top;\n",
       "    }\n",
       "\n",
       "    .dataframe thead th {\n",
       "        text-align: right;\n",
       "    }\n",
       "</style>\n",
       "<table border=\"1\" class=\"dataframe\">\n",
       "  <thead>\n",
       "    <tr style=\"text-align: right;\">\n",
       "      <th></th>\n",
       "      <th>Id</th>\n",
       "      <th>PID</th>\n",
       "      <th>MS SubClass</th>\n",
       "      <th>MS Zoning</th>\n",
       "      <th>Lot Frontage</th>\n",
       "      <th>Lot Area</th>\n",
       "      <th>Street</th>\n",
       "      <th>Alley</th>\n",
       "      <th>Lot Shape</th>\n",
       "      <th>Land Contour</th>\n",
       "      <th>...</th>\n",
       "      <th>Screen Porch</th>\n",
       "      <th>Pool Area</th>\n",
       "      <th>Pool QC</th>\n",
       "      <th>Fence</th>\n",
       "      <th>Misc Feature</th>\n",
       "      <th>Misc Val</th>\n",
       "      <th>Mo Sold</th>\n",
       "      <th>Yr Sold</th>\n",
       "      <th>Sale Type</th>\n",
       "      <th>SalePrice</th>\n",
       "    </tr>\n",
       "  </thead>\n",
       "  <tbody>\n",
       "    <tr>\n",
       "      <th>0</th>\n",
       "      <td>109</td>\n",
       "      <td>533352170</td>\n",
       "      <td>60</td>\n",
       "      <td>RL</td>\n",
       "      <td>NaN</td>\n",
       "      <td>13517</td>\n",
       "      <td>Pave</td>\n",
       "      <td>NaN</td>\n",
       "      <td>IR1</td>\n",
       "      <td>Lvl</td>\n",
       "      <td>...</td>\n",
       "      <td>0</td>\n",
       "      <td>0</td>\n",
       "      <td>NaN</td>\n",
       "      <td>NaN</td>\n",
       "      <td>NaN</td>\n",
       "      <td>0</td>\n",
       "      <td>3</td>\n",
       "      <td>2010</td>\n",
       "      <td>WD</td>\n",
       "      <td>130500</td>\n",
       "    </tr>\n",
       "    <tr>\n",
       "      <th>1</th>\n",
       "      <td>544</td>\n",
       "      <td>531379050</td>\n",
       "      <td>60</td>\n",
       "      <td>RL</td>\n",
       "      <td>43.0</td>\n",
       "      <td>11492</td>\n",
       "      <td>Pave</td>\n",
       "      <td>NaN</td>\n",
       "      <td>IR1</td>\n",
       "      <td>Lvl</td>\n",
       "      <td>...</td>\n",
       "      <td>0</td>\n",
       "      <td>0</td>\n",
       "      <td>NaN</td>\n",
       "      <td>NaN</td>\n",
       "      <td>NaN</td>\n",
       "      <td>0</td>\n",
       "      <td>4</td>\n",
       "      <td>2009</td>\n",
       "      <td>WD</td>\n",
       "      <td>220000</td>\n",
       "    </tr>\n",
       "    <tr>\n",
       "      <th>2</th>\n",
       "      <td>153</td>\n",
       "      <td>535304180</td>\n",
       "      <td>20</td>\n",
       "      <td>RL</td>\n",
       "      <td>68.0</td>\n",
       "      <td>7922</td>\n",
       "      <td>Pave</td>\n",
       "      <td>NaN</td>\n",
       "      <td>Reg</td>\n",
       "      <td>Lvl</td>\n",
       "      <td>...</td>\n",
       "      <td>0</td>\n",
       "      <td>0</td>\n",
       "      <td>NaN</td>\n",
       "      <td>NaN</td>\n",
       "      <td>NaN</td>\n",
       "      <td>0</td>\n",
       "      <td>1</td>\n",
       "      <td>2010</td>\n",
       "      <td>WD</td>\n",
       "      <td>109000</td>\n",
       "    </tr>\n",
       "    <tr>\n",
       "      <th>3</th>\n",
       "      <td>318</td>\n",
       "      <td>916386060</td>\n",
       "      <td>60</td>\n",
       "      <td>RL</td>\n",
       "      <td>73.0</td>\n",
       "      <td>9802</td>\n",
       "      <td>Pave</td>\n",
       "      <td>NaN</td>\n",
       "      <td>Reg</td>\n",
       "      <td>Lvl</td>\n",
       "      <td>...</td>\n",
       "      <td>0</td>\n",
       "      <td>0</td>\n",
       "      <td>NaN</td>\n",
       "      <td>NaN</td>\n",
       "      <td>NaN</td>\n",
       "      <td>0</td>\n",
       "      <td>4</td>\n",
       "      <td>2010</td>\n",
       "      <td>WD</td>\n",
       "      <td>174000</td>\n",
       "    </tr>\n",
       "    <tr>\n",
       "      <th>4</th>\n",
       "      <td>255</td>\n",
       "      <td>906425045</td>\n",
       "      <td>50</td>\n",
       "      <td>RL</td>\n",
       "      <td>82.0</td>\n",
       "      <td>14235</td>\n",
       "      <td>Pave</td>\n",
       "      <td>NaN</td>\n",
       "      <td>IR1</td>\n",
       "      <td>Lvl</td>\n",
       "      <td>...</td>\n",
       "      <td>0</td>\n",
       "      <td>0</td>\n",
       "      <td>NaN</td>\n",
       "      <td>NaN</td>\n",
       "      <td>NaN</td>\n",
       "      <td>0</td>\n",
       "      <td>3</td>\n",
       "      <td>2010</td>\n",
       "      <td>WD</td>\n",
       "      <td>138500</td>\n",
       "    </tr>\n",
       "  </tbody>\n",
       "</table>\n",
       "<p>5 rows × 81 columns</p>\n",
       "</div>"
      ],
      "text/plain": [
       "    Id        PID  MS SubClass MS Zoning  Lot Frontage  Lot Area Street Alley  \\\n",
       "0  109  533352170           60        RL           NaN     13517   Pave   NaN   \n",
       "1  544  531379050           60        RL          43.0     11492   Pave   NaN   \n",
       "2  153  535304180           20        RL          68.0      7922   Pave   NaN   \n",
       "3  318  916386060           60        RL          73.0      9802   Pave   NaN   \n",
       "4  255  906425045           50        RL          82.0     14235   Pave   NaN   \n",
       "\n",
       "  Lot Shape Land Contour  ... Screen Porch Pool Area Pool QC Fence  \\\n",
       "0       IR1          Lvl  ...            0         0     NaN   NaN   \n",
       "1       IR1          Lvl  ...            0         0     NaN   NaN   \n",
       "2       Reg          Lvl  ...            0         0     NaN   NaN   \n",
       "3       Reg          Lvl  ...            0         0     NaN   NaN   \n",
       "4       IR1          Lvl  ...            0         0     NaN   NaN   \n",
       "\n",
       "  Misc Feature Misc Val Mo Sold Yr Sold  Sale Type  SalePrice  \n",
       "0          NaN        0       3    2010        WD      130500  \n",
       "1          NaN        0       4    2009        WD      220000  \n",
       "2          NaN        0       1    2010        WD      109000  \n",
       "3          NaN        0       4    2010        WD      174000  \n",
       "4          NaN        0       3    2010        WD      138500  \n",
       "\n",
       "[5 rows x 81 columns]"
      ]
     },
     "execution_count": 5,
     "metadata": {},
     "output_type": "execute_result"
    }
   ],
   "source": [
    "hd_df.head()"
   ]
  },
  {
   "cell_type": "code",
   "execution_count": 6,
   "id": "765528bf-1cae-40fc-9b61-45dd2827c71c",
   "metadata": {},
   "outputs": [
    {
     "data": {
      "text/plain": [
       "(2051, 81)"
      ]
     },
     "execution_count": 6,
     "metadata": {},
     "output_type": "execute_result"
    }
   ],
   "source": [
    "hd_df.shape"
   ]
  },
  {
   "cell_type": "code",
   "execution_count": 7,
   "id": "7c45d9dc-1e97-4859-97c5-d86b6a7f9aad",
   "metadata": {},
   "outputs": [
    {
     "data": {
      "text/plain": [
       "(878, 80)"
      ]
     },
     "execution_count": 7,
     "metadata": {},
     "output_type": "execute_result"
    }
   ],
   "source": [
    "hd_test_df.shape"
   ]
  },
  {
   "cell_type": "code",
   "execution_count": 8,
   "id": "87a80c74-8d34-4ee5-8fb3-32f20ed1c095",
   "metadata": {},
   "outputs": [],
   "source": [
    "hd_df.columns=map(lambda x: to_snake_case(x),hd_df.columns)\n",
    "hd_test_df.columns=map(lambda x: to_snake_case(x),hd_test_df.columns)"
   ]
  },
  {
   "cell_type": "markdown",
   "id": "9e4a0398-e77e-48a9-97a3-775919039756",
   "metadata": {},
   "source": [
    "Changing the columns to snake_case."
   ]
  },
  {
   "cell_type": "code",
   "execution_count": 9,
   "id": "709b4d4c-85dc-47e1-9ebd-49ce3cc0d0ff",
   "metadata": {},
   "outputs": [
    {
     "data": {
      "text/plain": [
       "Index(['id', 'pid', 'ms_subclass', 'ms_zoning', 'lot_frontage', 'lot_area',\n",
       "       'street', 'alley', 'lot_shape', 'land_contour', 'utilities',\n",
       "       'lot_config', 'land_slope', 'neighborhood', 'condition_1',\n",
       "       'condition_2', 'bldg_type', 'house_style', 'overall_qual',\n",
       "       'overall_cond', 'year_built', 'year_remod/add', 'roof_style',\n",
       "       'roof_matl', 'exterior_1st', 'exterior_2nd', 'mas_vnr_type',\n",
       "       'mas_vnr_area', 'exter_qual', 'exter_cond', 'foundation', 'bsmt_qual',\n",
       "       'bsmt_cond', 'bsmt_exposure', 'bsmtfin_type_1', 'bsmtfin_sf_1',\n",
       "       'bsmtfin_type_2', 'bsmtfin_sf_2', 'bsmt_unf_sf', 'total_bsmt_sf',\n",
       "       'heating', 'heating_qc', 'central_air', 'electrical', '1st_flr_sf',\n",
       "       '2nd_flr_sf', 'low_qual_fin_sf', 'gr_liv_area', 'bsmt_full_bath',\n",
       "       'bsmt_half_bath', 'full_bath', 'half_bath', 'bedroom_abvgr',\n",
       "       'kitchen_abvgr', 'kitchen_qual', 'totrms_abvgrd', 'functional',\n",
       "       'fireplaces', 'fireplace_qu', 'garage_type', 'garage_yr_blt',\n",
       "       'garage_finish', 'garage_cars', 'garage_area', 'garage_qual',\n",
       "       'garage_cond', 'paved_drive', 'wood_deck_sf', 'open_porch_sf',\n",
       "       'enclosed_porch', '3ssn_porch', 'screen_porch', 'pool_area', 'pool_qc',\n",
       "       'fence', 'misc_feature', 'misc_val', 'mo_sold', 'yr_sold', 'sale_type',\n",
       "       'saleprice'],\n",
       "      dtype='object')"
      ]
     },
     "execution_count": 9,
     "metadata": {},
     "output_type": "execute_result"
    }
   ],
   "source": [
    "hd_df.columns"
   ]
  },
  {
   "cell_type": "code",
   "execution_count": 10,
   "id": "80eb741e-628b-4460-b15b-b9e03b737438",
   "metadata": {
    "tags": []
   },
   "outputs": [],
   "source": [
    "#pd.set_option('display.max_rows',81)"
   ]
  },
  {
   "cell_type": "code",
   "execution_count": 11,
   "id": "e677d2d0-eaa7-4e59-bd95-023ed96c2494",
   "metadata": {},
   "outputs": [
    {
     "data": {
      "text/plain": [
       "id                   int64\n",
       "pid                  int64\n",
       "ms_subclass          int64\n",
       "ms_zoning           object\n",
       "lot_frontage       float64\n",
       "lot_area             int64\n",
       "street              object\n",
       "alley               object\n",
       "lot_shape           object\n",
       "land_contour        object\n",
       "utilities           object\n",
       "lot_config          object\n",
       "land_slope          object\n",
       "neighborhood        object\n",
       "condition_1         object\n",
       "condition_2         object\n",
       "bldg_type           object\n",
       "house_style         object\n",
       "overall_qual         int64\n",
       "overall_cond         int64\n",
       "year_built           int64\n",
       "year_remod/add       int64\n",
       "roof_style          object\n",
       "roof_matl           object\n",
       "exterior_1st        object\n",
       "exterior_2nd        object\n",
       "mas_vnr_type        object\n",
       "mas_vnr_area       float64\n",
       "exter_qual          object\n",
       "exter_cond          object\n",
       "foundation          object\n",
       "bsmt_qual           object\n",
       "bsmt_cond           object\n",
       "bsmt_exposure       object\n",
       "bsmtfin_type_1      object\n",
       "bsmtfin_sf_1       float64\n",
       "bsmtfin_type_2      object\n",
       "bsmtfin_sf_2       float64\n",
       "bsmt_unf_sf        float64\n",
       "total_bsmt_sf      float64\n",
       "heating             object\n",
       "heating_qc          object\n",
       "central_air         object\n",
       "electrical          object\n",
       "1st_flr_sf           int64\n",
       "2nd_flr_sf           int64\n",
       "low_qual_fin_sf      int64\n",
       "gr_liv_area          int64\n",
       "bsmt_full_bath     float64\n",
       "bsmt_half_bath     float64\n",
       "full_bath            int64\n",
       "half_bath            int64\n",
       "bedroom_abvgr        int64\n",
       "kitchen_abvgr        int64\n",
       "kitchen_qual        object\n",
       "totrms_abvgrd        int64\n",
       "functional          object\n",
       "fireplaces           int64\n",
       "fireplace_qu        object\n",
       "garage_type         object\n",
       "garage_yr_blt      float64\n",
       "garage_finish       object\n",
       "garage_cars        float64\n",
       "garage_area        float64\n",
       "garage_qual         object\n",
       "garage_cond         object\n",
       "paved_drive         object\n",
       "wood_deck_sf         int64\n",
       "open_porch_sf        int64\n",
       "enclosed_porch       int64\n",
       "3ssn_porch           int64\n",
       "screen_porch         int64\n",
       "pool_area            int64\n",
       "pool_qc             object\n",
       "fence               object\n",
       "misc_feature        object\n",
       "misc_val             int64\n",
       "mo_sold              int64\n",
       "yr_sold              int64\n",
       "sale_type           object\n",
       "saleprice            int64\n",
       "dtype: object"
      ]
     },
     "execution_count": 11,
     "metadata": {},
     "output_type": "execute_result"
    }
   ],
   "source": [
    "pd.set_option('display.max_rows',81)\n",
    "hd_df.dtypes"
   ]
  },
  {
   "cell_type": "markdown",
   "id": "8ce63a8b-d31b-48ab-bd1f-a100169598d3",
   "metadata": {
    "tags": []
   },
   "source": [
    "Lots of objects, will need to feature engineer these categories."
   ]
  },
  {
   "cell_type": "code",
   "execution_count": 12,
   "id": "9887b562-2bcb-4989-8d54-6f0fcbb13233",
   "metadata": {
    "tags": []
   },
   "outputs": [
    {
     "data": {
      "text/plain": [
       "pool_qc           2042\n",
       "misc_feature      1986\n",
       "alley             1911\n",
       "fence             1651\n",
       "fireplace_qu      1000\n",
       "lot_frontage       330\n",
       "garage_finish      114\n",
       "garage_qual        114\n",
       "garage_yr_blt      114\n",
       "garage_cond        114\n",
       "garage_type        113\n",
       "bsmt_exposure       58\n",
       "bsmtfin_type_2      56\n",
       "bsmtfin_type_1      55\n",
       "bsmt_cond           55\n",
       "bsmt_qual           55\n",
       "mas_vnr_area        22\n",
       "mas_vnr_type        22\n",
       "bsmt_half_bath       2\n",
       "bsmt_full_bath       2\n",
       "garage_area          1\n",
       "total_bsmt_sf        1\n",
       "bsmt_unf_sf          1\n",
       "bsmtfin_sf_2         1\n",
       "bsmtfin_sf_1         1\n",
       "garage_cars          1\n",
       "mo_sold              0\n",
       "dtype: int64"
      ]
     },
     "execution_count": 12,
     "metadata": {},
     "output_type": "execute_result"
    }
   ],
   "source": [
    "hd_df.isna().sum().sort_values(ascending=False).head(27)"
   ]
  },
  {
   "cell_type": "code",
   "execution_count": 13,
   "id": "46994d9b-fb7c-4a62-a19b-17169e5213f3",
   "metadata": {
    "tags": []
   },
   "outputs": [],
   "source": [
    "#CLONE BLOCK ONE\n",
    "hd_df[\"garage_area\"]=hd_df[\"garage_area\"].map(lambda x: np.nan_to_num(x))  #Only one NA value\n",
    "hd_df[\"mas_vnr_area\"]=hd_df[\"mas_vnr_area\"].map(lambda x: np.nan_to_num(x))  #There are also 22 observations of masonry type so these lots just do not have a correct 0 or none type\n",
    "hd_df[\"total_bsmt_sf\"]=hd_df[\"total_bsmt_sf\"].map(lambda x: np.nan_to_num(x)) #Only one NA value\n",
    "hd_df[\"lot_frontage\"]=hd_df[\"lot_frontage\"].map(lambda x: np.nan_to_num(x)) \n",
    "hd_df[\"bsmt_full_bath\"]=hd_df[\"bsmt_full_bath\"].map(lambda x: np.nan_to_num(x)) #Only two NA value\n",
    "hd_df[\"bsmt_half_bath\"]=hd_df[\"bsmt_half_bath\"].map(lambda x: np.nan_to_num(x)) #Only two NA value\n",
    "hd_df[\"bsmt_qual\"]=hd_df[\"bsmt_qual\"].map(lambda x: np.nan_to_num(x))  #we can just null these since no basement is the NA valu\n",
    "hd_df[\"bsmt_exposure\"]=hd_df[\"bsmt_exposure\"].map(lambda x: np.nan_to_num(x)) #we can just null these since no basement is the NA value\n",
    "hd_df[\"bsmtfin_type_2\"]=hd_df[\"bsmtfin_type_2\"].map(lambda x: np.nan_to_num(x)) #we can just null these since no basement is the NA value\n",
    "hd_df[\"bsmtfin_type_1\"]=hd_df[\"bsmtfin_type_1\"].map(lambda x: np.nan_to_num(x)) #we can just null these since no basement is the NA value\n",
    "hd_df[\"bsmt_cond\"]=hd_df[\"bsmt_cond\"].map(lambda x: np.nan_to_num(x)) #we can just null these since no basement is the NA value\n",
    "hd_df['pool_qc']=hd_df['pool_qc'].map(lambda x: np.nan_to_num(x))\n",
    "hd_df['misc_val']=hd_df['misc_val'].map(lambda x: np.nan_to_num(x))\n",
    "hd_df['misc_feature']=hd_df['misc_feature'].map(lambda x: np.nan_to_num(x))\n",
    "hd_df['fence']=hd_df['fence'].map(lambda x: np.nan_to_num(x))\n",
    "hd_df['fireplace_qu']=hd_df['fireplace_qu'].map(lambda x: np.nan_to_num(x))\n",
    "hd_df['electrical']=hd_df['electrical'].map(lambda x: np.nan_to_num(x))"
   ]
  },
  {
   "cell_type": "code",
   "execution_count": 14,
   "id": "1c331b28-6203-464b-ae02-9b41d463a74a",
   "metadata": {},
   "outputs": [
    {
     "data": {
      "text/plain": [
       "alley              1911\n",
       "garage_finish       114\n",
       "garage_yr_blt       114\n",
       "garage_qual         114\n",
       "garage_cond         114\n",
       "garage_type         113\n",
       "mas_vnr_type         22\n",
       "bsmtfin_sf_2          1\n",
       "bsmtfin_sf_1          1\n",
       "garage_cars           1\n",
       "bsmt_unf_sf           1\n",
       "totrms_abvgrd         0\n",
       "2nd_flr_sf            0\n",
       "functional            0\n",
       "low_qual_fin_sf       0\n",
       "gr_liv_area           0\n",
       "kitchen_qual          0\n",
       "kitchen_abvgr         0\n",
       "bedroom_abvgr         0\n",
       "fireplaces            0\n",
       "full_bath             0\n",
       "bsmt_half_bath        0\n",
       "bsmt_full_bath        0\n",
       "half_bath             0\n",
       "id                    0\n",
       "fireplace_qu          0\n",
       "electrical            0\n",
       "dtype: int64"
      ]
     },
     "execution_count": 14,
     "metadata": {},
     "output_type": "execute_result"
    }
   ],
   "source": [
    "hd_df.isna().sum().sort_values(ascending=False).head(27)"
   ]
  },
  {
   "cell_type": "code",
   "execution_count": 15,
   "id": "20355a5d-10c0-43f9-97dc-768c79fdaffe",
   "metadata": {},
   "outputs": [
    {
     "data": {
      "text/plain": [
       "pool_qc           874\n",
       "misc_feature      837\n",
       "alley             820\n",
       "fence             706\n",
       "fireplace_qu      422\n",
       "lot_frontage      160\n",
       "garage_yr_blt      45\n",
       "garage_finish      45\n",
       "garage_qual        45\n",
       "garage_cond        45\n",
       "garage_type        44\n",
       "bsmtfin_type_1     25\n",
       "bsmt_qual          25\n",
       "bsmt_cond          25\n",
       "bsmt_exposure      25\n",
       "bsmtfin_type_2     25\n",
       "electrical          1\n",
       "mas_vnr_type        1\n",
       "mas_vnr_area        1\n",
       "kitchen_abvgr       0\n",
       "totrms_abvgrd       0\n",
       "bedroom_abvgr       0\n",
       "half_bath           0\n",
       "full_bath           0\n",
       "bsmt_half_bath      0\n",
       "bsmt_full_bath      0\n",
       "gr_liv_area         0\n",
       "dtype: int64"
      ]
     },
     "execution_count": 15,
     "metadata": {},
     "output_type": "execute_result"
    }
   ],
   "source": [
    "hd_test_df.isna().sum().sort_values(ascending=False).head(27)"
   ]
  },
  {
   "cell_type": "markdown",
   "id": "c8ec4c83-9a45-4b98-98d5-d348f081a7d3",
   "metadata": {},
   "source": [
    "Of the 81 columns and 2051 entries of housing data, the a few features have many values falling in the 'NAN' true category"
   ]
  },
  {
   "cell_type": "markdown",
   "id": "8703cb42-8aad-4035-a80f-998fd7307fef",
   "metadata": {},
   "source": [
    "In many cases I can null these out using np.nan_to_num.  There are several where its only a one or two values, so nulling these out is negligible to the data set.  For the basement and garage cases, most of those are NA because the lot does not have that feature so null can be used in this case to signify the lack of the feature altogether.  Similar with Pool QC, Fence, Alley, Fireplace Qu and Misc Features.  Lot frontage nulls will altered based on lot area using an LR fit between those two categories."
   ]
  },
  {
   "cell_type": "markdown",
   "id": "a52bd8c9-e9ef-4db2-8cfa-e5fb70666b59",
   "metadata": {},
   "source": [
    "### EDA Section"
   ]
  },
  {
   "cell_type": "code",
   "execution_count": 16,
   "id": "aa6e10ae-57f7-4a92-84e8-5e3baec1b622",
   "metadata": {},
   "outputs": [],
   "source": [
    "pd.set_option('display.max_rows',28)"
   ]
  },
  {
   "cell_type": "code",
   "execution_count": 17,
   "id": "eddb061e-7042-4fa6-8958-074efd99d1b1",
   "metadata": {},
   "outputs": [
    {
     "data": {
      "text/plain": [
       "count      2051.000000\n",
       "mean     181469.701609\n",
       "std       79258.659352\n",
       "min       12789.000000\n",
       "25%      129825.000000\n",
       "50%      162500.000000\n",
       "75%      214000.000000\n",
       "max      611657.000000\n",
       "Name: saleprice, dtype: float64"
      ]
     },
     "execution_count": 17,
     "metadata": {},
     "output_type": "execute_result"
    }
   ],
   "source": [
    "hd_df['saleprice'].describe()"
   ]
  },
  {
   "cell_type": "markdown",
   "id": "33f610fe-32f8-4334-b192-1d5479609c5f",
   "metadata": {
    "tags": []
   },
   "source": [
    "Briefly looking at our target variable in the training set, the minimum and maximum do diverge significantly from the main data set."
   ]
  },
  {
   "cell_type": "code",
   "execution_count": 18,
   "id": "9dac7ef2-5cbd-4dd4-a7cc-b491271bbe11",
   "metadata": {},
   "outputs": [
    {
     "name": "stdout",
     "output_type": "stream",
     "text": [
      "Sale price mean of 181469.70160897123\n",
      "Range of the first standard deviation for sale price 102211.04225660561 260728.36096133685\n"
     ]
    }
   ],
   "source": [
    "#CLONE BLOCK TWO\n",
    "SP_mean=hd_df['saleprice'].mean()\n",
    "SP_std=hd_df['saleprice'].std()\n",
    "print('Sale price mean of',SP_mean)\n",
    "print('Range of the first standard deviation for sale price',SP_mean-SP_std,SP_mean+SP_std)"
   ]
  },
  {
   "cell_type": "code",
   "execution_count": 19,
   "id": "4a865b7d-0d73-4c54-8fe1-6fb6e0380792",
   "metadata": {},
   "outputs": [
    {
     "data": {
      "image/png": "[encoded data removed]",
      "text/plain": [
       "<Figure size 1440x720 with 1 Axes>"
      ]
     },
     "metadata": {
      "needs_background": "light"
     },
     "output_type": "display_data"
    }
   ],
   "source": [
    "plt.figure(figsize=(20,10))\n",
    "sns.histplot(data=hd_df,x=\"saleprice\");\n",
    "plt.axvline(hd_df['saleprice'].median(), color = 'Red');"
   ]
  },
  {
   "cell_type": "markdown",
   "id": "06a8941d-650c-465d-b891-0df959020fd8",
   "metadata": {
    "tags": []
   },
   "source": [
    "A quick histogram of the saleprice data (our target variable to model) shows that in the training data we do have somewhat of a normal distribution that then trails off at higher prices.  Before evening modeling this means there will be some challenge in describing the variance from the mean with the higher prices."
   ]
  },
  {
   "cell_type": "code",
   "execution_count": 20,
   "id": "9b497cc4-59cd-4504-a54a-30c21b628b69",
   "metadata": {},
   "outputs": [
    {
     "data": {
      "image/png": "[encoded data removed]",
      "text/plain": [
       "<Figure size 1440x720 with 1 Axes>"
      ]
     },
     "metadata": {
      "needs_background": "light"
     },
     "output_type": "display_data"
    }
   ],
   "source": [
    "plt.figure(figsize=(20,10))\n",
    "sns.histplot(data=hd_df,x=\"year_built\");"
   ]
  },
  {
   "cell_type": "markdown",
   "id": "b57734d6-949a-4c0c-91ff-5110bccfa6d9",
   "metadata": {
    "tags": []
   },
   "source": [
    "Looking at the date of the home being built.  Might even be ok to bin by pre 1950, 1950-2000 and after 2000."
   ]
  },
  {
   "cell_type": "code",
   "execution_count": 21,
   "id": "2245dac8-dca6-4049-a273-11838b011eb8",
   "metadata": {
    "tags": []
   },
   "outputs": [
    {
     "name": "stdout",
     "output_type": "stream",
     "text": [
      "Number of houses built prior to 1950: 441\n",
      "Number of houses built between 1950 and 2000: 1048\n",
      "Number of houses built 2000 and onward: 562\n",
      "Total entries with year built value 2051\n"
     ]
    }
   ],
   "source": [
    "print('Number of houses built prior to 1950:',hd_df[(hd_df['year_built']<1950)].shape[0])\n",
    "print('Number of houses built between 1950 and 2000:',hd_df[(hd_df['year_built']>=1950) & (hd_df['year_built']<2000)].shape[0])\n",
    "print('Number of houses built 2000 and onward:',hd_df[(hd_df['year_built']>=2000)].shape[0])\n",
    "print('Total entries with year built value',hd_df[(hd_df['year_built']>=2000)].shape[0]+hd_df[(hd_df['year_built']>=1950) & (hd_df['year_built']<2000)].shape[0]+hd_df[(hd_df['year_built']<1950)].shape[0])"
   ]
  },
  {
   "cell_type": "markdown",
   "id": "c3dbd5b5-e4a0-4637-9edb-7bc363c6badf",
   "metadata": {},
   "source": [
    "Year built could be a "
   ]
  },
  {
   "cell_type": "markdown",
   "id": "f9e88519-2f46-430f-8425-03e552b75175",
   "metadata": {},
   "source": [
    "Prior to data cleaning and processing, going to look at correlations.  For highly correlated values to sale price its possible to leave some of this data unchanged (minus any issues with NAN values and such) going into scaling and letting the model fitting do the work."
   ]
  },
  {
   "cell_type": "code",
   "execution_count": 22,
   "id": "b4392508-b1e1-446b-8c52-8e4e8fcc843a",
   "metadata": {},
   "outputs": [],
   "source": [
    "#correlations\n",
    "corrsp=hd_df.corr()[['saleprice']].sort_values(by='saleprice',key=np.abs,ascending=False)"
   ]
  },
  {
   "cell_type": "code",
   "execution_count": 23,
   "id": "7e5ffcaa-3ea5-425d-a977-063720f582d1",
   "metadata": {},
   "outputs": [
    {
     "data": {
      "text/plain": [
       "<AxesSubplot:>"
      ]
     },
     "execution_count": 23,
     "metadata": {},
     "output_type": "execute_result"
    },
    {
     "data": {
      "image/png": "[encoded data removed]",
      "text/plain": [
       "<Figure size 1440x2160 with 2 Axes>"
      ]
     },
     "metadata": {
      "needs_background": "light"
     },
     "output_type": "display_data"
    }
   ],
   "source": [
    "plt.figure(figsize=(20,30))\n",
    "\n",
    "sns.heatmap(corrsp, annot=True, cmap = 'viridis')"
   ]
  },
  {
   "cell_type": "markdown",
   "id": "174eabeb-7d8d-4a90-bed6-1a5598441f83",
   "metadata": {},
   "source": [
    "Highly correlated values such as Overall Quality, Ground Level Living Area, Garage Area, Total Basement Square footage, etc. I just unquestionably added to my model."
   ]
  },
  {
   "cell_type": "code",
   "execution_count": 24,
   "id": "b08e60eb-6bd8-47d7-998e-2b3509ba666a",
   "metadata": {},
   "outputs": [
    {
     "data": {
      "image/png": "[encoded data removed]",
      "text/plain": [
       "<Figure size 1440x720 with 1 Axes>"
      ]
     },
     "metadata": {
      "needs_background": "light"
     },
     "output_type": "display_data"
    }
   ],
   "source": [
    "plt.figure(figsize=(20,10))\n",
    "plt.scatter(hd_df['gr_liv_area'],hd_df['saleprice']);"
   ]
  },
  {
   "cell_type": "markdown",
   "id": "80a49b36-4c15-4b86-b173-3fb95e8f95ab",
   "metadata": {},
   "source": [
    "The data set has a reminder that their are a few outliers in the data, easily seen with the above plot sale price vs ground level living area.   Might be an ok idea to reign those values in, possibly setting their ground living space value to the mean of the data for that category. "
   ]
  },
  {
   "cell_type": "code",
   "execution_count": 25,
   "id": "e5b02754-ddae-4a23-8433-f3d98b7858f5",
   "metadata": {},
   "outputs": [
    {
     "data": {
      "text/plain": [
       "1499.330082886397"
      ]
     },
     "execution_count": 25,
     "metadata": {},
     "output_type": "execute_result"
    }
   ],
   "source": [
    "hd_df['gr_liv_area'].mean()"
   ]
  },
  {
   "cell_type": "code",
   "execution_count": 26,
   "id": "c57031e6-1ebc-4d07-abc8-5b3f96b77c73",
   "metadata": {},
   "outputs": [
    {
     "data": {
      "text/html": [
       "<div>\n",
       "<style scoped>\n",
       "    .dataframe tbody tr th:only-of-type {\n",
       "        vertical-align: middle;\n",
       "    }\n",
       "\n",
       "    .dataframe tbody tr th {\n",
       "        vertical-align: top;\n",
       "    }\n",
       "\n",
       "    .dataframe thead th {\n",
       "        text-align: right;\n",
       "    }\n",
       "</style>\n",
       "<table border=\"1\" class=\"dataframe\">\n",
       "  <thead>\n",
       "    <tr style=\"text-align: right;\">\n",
       "      <th></th>\n",
       "      <th>960</th>\n",
       "      <th>1885</th>\n",
       "    </tr>\n",
       "  </thead>\n",
       "  <tbody>\n",
       "    <tr>\n",
       "      <th>id</th>\n",
       "      <td>1499</td>\n",
       "      <td>2181</td>\n",
       "    </tr>\n",
       "    <tr>\n",
       "      <th>pid</th>\n",
       "      <td>908154235</td>\n",
       "      <td>908154195</td>\n",
       "    </tr>\n",
       "    <tr>\n",
       "      <th>ms_subclass</th>\n",
       "      <td>60</td>\n",
       "      <td>20</td>\n",
       "    </tr>\n",
       "    <tr>\n",
       "      <th>ms_zoning</th>\n",
       "      <td>RL</td>\n",
       "      <td>RL</td>\n",
       "    </tr>\n",
       "    <tr>\n",
       "      <th>lot_frontage</th>\n",
       "      <td>313.0</td>\n",
       "      <td>128.0</td>\n",
       "    </tr>\n",
       "    <tr>\n",
       "      <th>...</th>\n",
       "      <td>...</td>\n",
       "      <td>...</td>\n",
       "    </tr>\n",
       "    <tr>\n",
       "      <th>misc_val</th>\n",
       "      <td>0</td>\n",
       "      <td>17000</td>\n",
       "    </tr>\n",
       "    <tr>\n",
       "      <th>mo_sold</th>\n",
       "      <td>1</td>\n",
       "      <td>10</td>\n",
       "    </tr>\n",
       "    <tr>\n",
       "      <th>yr_sold</th>\n",
       "      <td>2008</td>\n",
       "      <td>2007</td>\n",
       "    </tr>\n",
       "    <tr>\n",
       "      <th>sale_type</th>\n",
       "      <td>New</td>\n",
       "      <td>New</td>\n",
       "    </tr>\n",
       "    <tr>\n",
       "      <th>saleprice</th>\n",
       "      <td>160000</td>\n",
       "      <td>183850</td>\n",
       "    </tr>\n",
       "  </tbody>\n",
       "</table>\n",
       "<p>81 rows × 2 columns</p>\n",
       "</div>"
      ],
      "text/plain": [
       "                   960        1885\n",
       "id                 1499       2181\n",
       "pid           908154235  908154195\n",
       "ms_subclass          60         20\n",
       "ms_zoning            RL         RL\n",
       "lot_frontage      313.0      128.0\n",
       "...                 ...        ...\n",
       "misc_val              0      17000\n",
       "mo_sold               1         10\n",
       "yr_sold            2008       2007\n",
       "sale_type           New        New\n",
       "saleprice        160000     183850\n",
       "\n",
       "[81 rows x 2 columns]"
      ]
     },
     "execution_count": 26,
     "metadata": {},
     "output_type": "execute_result"
    }
   ],
   "source": [
    "#pd.set_option('display.max_rows',100)\n",
    "hd_df[hd_df['gr_liv_area']>4000].T"
   ]
  },
  {
   "cell_type": "markdown",
   "id": "ec0c2f82-3191-44c1-b971-41e84136bcc6",
   "metadata": {},
   "source": [
    "Filtering to look at the two outliers regarding the ground living area."
   ]
  },
  {
   "cell_type": "markdown",
   "id": "9402db1b-7909-4674-9d85-aecbf4366be9",
   "metadata": {
    "tags": []
   },
   "source": [
    "## EDA Categories with Object Values"
   ]
  },
  {
   "cell_type": "markdown",
   "id": "d1c9a3d9-1373-451b-9301-7435c64ab338",
   "metadata": {},
   "source": [
    "I am not even entertaining PID, even if there exists some correlation with this value it is an arbitrarily assigned value in theory."
   ]
  },
  {
   "cell_type": "code",
   "execution_count": 27,
   "id": "461af44f-f7c3-42e6-aae8-2b6e3caff353",
   "metadata": {},
   "outputs": [
    {
     "data": {
      "text/plain": [
       "20     770\n",
       "60     394\n",
       "50     198\n",
       "120    132\n",
       "30     101\n",
       "70      90\n",
       "160     88\n",
       "80      86\n",
       "90      75\n",
       "190     46\n",
       "85      28\n",
       "75      16\n",
       "180     11\n",
       "45      11\n",
       "40       4\n",
       "150      1\n",
       "Name: ms_subclass, dtype: int64"
      ]
     },
     "execution_count": 27,
     "metadata": {},
     "output_type": "execute_result"
    }
   ],
   "source": [
    "hd_df['ms_subclass'].value_counts()"
   ]
  },
  {
   "cell_type": "code",
   "execution_count": 28,
   "id": "09078cc3-30c3-4cdb-800e-0a556521b91f",
   "metadata": {
    "tags": []
   },
   "outputs": [
    {
     "data": {
      "text/plain": [
       "ms_subclass\n",
       "60     239225.769036\n",
       "120    211813.613636\n",
       "75     204875.000000\n",
       "20     189305.488312\n",
       "80     169569.825581\n",
       "85     154398.214286\n",
       "70     153354.455556\n",
       "150    148400.000000\n",
       "90     139296.333333\n",
       "160    138452.215909\n",
       "50     137270.000000\n",
       "190    124310.326087\n",
       "40     119125.000000\n",
       "45     116372.727273\n",
       "180    109672.727273\n",
       "30      94936.346535\n",
       "Name: saleprice, dtype: float64"
      ]
     },
     "execution_count": 28,
     "metadata": {},
     "output_type": "execute_result"
    }
   ],
   "source": [
    "hd_df.groupby('ms_subclass')['saleprice'].mean().sort_values(ascending = False)"
   ]
  },
  {
   "cell_type": "markdown",
   "id": "f13b391a-aff8-4a56-91c7-7f27d30beab9",
   "metadata": {},
   "source": [
    "Going to bin the values above the mean, in close proximity to the mean, and below the mean.  I will then leave the mean category so as to compare in dummification to that category."
   ]
  },
  {
   "cell_type": "code",
   "execution_count": 29,
   "id": "514fdaf5-ec41-4125-bef6-e4d240fd0e2e",
   "metadata": {},
   "outputs": [
    {
     "data": {
      "text/plain": [
       "RL         1598\n",
       "RM          316\n",
       "FV          101\n",
       "C (all)      19\n",
       "RH           14\n",
       "A (agr)       2\n",
       "I (all)       1\n",
       "Name: ms_zoning, dtype: int64"
      ]
     },
     "execution_count": 29,
     "metadata": {},
     "output_type": "execute_result"
    }
   ],
   "source": [
    "hd_df['ms_zoning'].value_counts()"
   ]
  },
  {
   "cell_type": "code",
   "execution_count": 30,
   "id": "da2e14d5-0a7f-4667-9da9-0fd55ac9b6b2",
   "metadata": {
    "tags": []
   },
   "outputs": [
    {
     "data": {
      "text/plain": [
       "ms_zoning\n",
       "FV         218618.316832\n",
       "RL         191235.164581\n",
       "RH         148859.571429\n",
       "RM         129119.142405\n",
       "C (all)     78010.894737\n",
       "I (all)     57625.000000\n",
       "A (agr)     47300.000000\n",
       "Name: saleprice, dtype: float64"
      ]
     },
     "execution_count": 30,
     "metadata": {},
     "output_type": "execute_result"
    }
   ],
   "source": [
    "hd_df.groupby('ms_zoning')['saleprice'].mean().sort_values(ascending = False)"
   ]
  },
  {
   "cell_type": "code",
   "execution_count": 31,
   "id": "ffe1800d-b75c-46c0-87d6-1785c4de994a",
   "metadata": {},
   "outputs": [
    {
     "data": {
      "text/plain": [
       "ms_zoning\n",
       "FV         208900\n",
       "RL         172500\n",
       "RH         152217\n",
       "RM         123900\n",
       "C (all)     75000\n",
       "I (all)     57625\n",
       "A (agr)     47300\n",
       "Name: saleprice, dtype: int64"
      ]
     },
     "execution_count": 31,
     "metadata": {},
     "output_type": "execute_result"
    }
   ],
   "source": [
    "hd_df.groupby('ms_zoning')['saleprice'].median().sort_values(ascending = False)"
   ]
  },
  {
   "cell_type": "markdown",
   "id": "735a71bb-eb90-4e0e-9a4e-5bb49a00cdeb",
   "metadata": {},
   "source": [
    "The residential low density has over 75% of the observations, this set might not be good for dummification.  RP is missing as a nominal value so that will be folded into RL since it is also low density residential.  I am going to scale everything to the mean so that these nominal values can be used in an interaction term."
   ]
  },
  {
   "cell_type": "code",
   "execution_count": 32,
   "id": "4c22bd68-7c34-442d-ac6d-7a73900eecb7",
   "metadata": {
    "tags": []
   },
   "outputs": [],
   "source": [
    "#CLONE BLOCK THREE\n",
    "FV_val=hd_df.groupby('ms_zoning')['saleprice'].mean()['FV']/SP_mean\n",
    "RL_val=hd_df.groupby('ms_zoning')['saleprice'].mean()['RL']/SP_mean\n",
    "RH_val=hd_df.groupby('ms_zoning')['saleprice'].mean()['RH']/SP_mean\n",
    "RM_val=hd_df.groupby('ms_zoning')['saleprice'].mean()['RM']/SP_mean\n",
    "C_val=hd_df.groupby('ms_zoning')['saleprice'].mean()['C (all)']/SP_mean\n",
    "I_val=hd_df.groupby('ms_zoning')['saleprice'].mean()['I (all)']/SP_mean\n",
    "A_val=hd_df.groupby('ms_zoning')['saleprice'].mean()['A (agr)']/SP_mean"
   ]
  },
  {
   "cell_type": "code",
   "execution_count": 33,
   "id": "5088a6f5-5afe-4426-a369-9b22c8d40c46",
   "metadata": {},
   "outputs": [
    {
     "data": {
      "text/plain": [
       "Series([], Name: id, dtype: int64)"
      ]
     },
     "execution_count": 33,
     "metadata": {},
     "output_type": "execute_result"
    }
   ],
   "source": [
    "hd_df[hd_df['lot_frontage'].isna()].groupby(by='bldg_type')['id'].count()"
   ]
  },
  {
   "cell_type": "code",
   "execution_count": 34,
   "id": "4ff4d531-248c-4824-8a49-a7c329a435a9",
   "metadata": {
    "tags": []
   },
   "outputs": [
    {
     "data": {
      "text/plain": [
       "Series([], Name: lot_area, dtype: int64)"
      ]
     },
     "execution_count": 34,
     "metadata": {},
     "output_type": "execute_result"
    }
   ],
   "source": [
    "hd_df[hd_df['lot_frontage'].isna()].groupby(by='bldg_type')['lot_area'].mean()"
   ]
  },
  {
   "cell_type": "code",
   "execution_count": 35,
   "id": "0e007959-7b1c-4f71-9d00-a7e5fcd75eba",
   "metadata": {
    "tags": []
   },
   "outputs": [
    {
     "data": {
      "text/plain": [
       "Series([], Name: gr_liv_area, dtype: int64)"
      ]
     },
     "execution_count": 35,
     "metadata": {},
     "output_type": "execute_result"
    }
   ],
   "source": [
    "hd_df[hd_df['lot_frontage'].isna()].groupby(by='bldg_type')['gr_liv_area'].mean()"
   ]
  },
  {
   "cell_type": "markdown",
   "id": "41081865-c07e-4f30-af2e-35772bdcb0a8",
   "metadata": {},
   "source": [
    "Based on this it does appear as though the NAN values are errors and not lots where the property has no lot frontage.  I will fill these values by running a linear regression between lot area and lot frontage and the rest of the data"
   ]
  },
  {
   "cell_type": "code",
   "execution_count": 36,
   "id": "67f1d956-7c8d-4dbe-bc50-6558c79bb5c9",
   "metadata": {},
   "outputs": [
    {
     "data": {
      "text/plain": [
       "Pave    2044\n",
       "Grvl       7\n",
       "Name: street, dtype: int64"
      ]
     },
     "execution_count": 36,
     "metadata": {},
     "output_type": "execute_result"
    }
   ],
   "source": [
    "hd_df['street'].value_counts()"
   ]
  },
  {
   "cell_type": "markdown",
   "id": "9c902db7-cf83-42b2-aed1-5323a9bddb59",
   "metadata": {},
   "source": [
    "Almost entirely paved not going to use this data in my model."
   ]
  },
  {
   "cell_type": "code",
   "execution_count": 37,
   "id": "3e3dfc50-1286-4f89-95b2-0a6f0f329d6e",
   "metadata": {},
   "outputs": [
    {
     "data": {
      "text/plain": [
       "1.0     1911\n",
       "Grvl      85\n",
       "Pave      55\n",
       "Name: alley, dtype: int64"
      ]
     },
     "execution_count": 37,
     "metadata": {},
     "output_type": "execute_result"
    }
   ],
   "source": [
    "#CLONE BLOCK FOUR\n",
    "#hd_df['alley']=hd_df['alley'].map({'Pave':2,'Grvl':0})\n",
    "hd_df[\"alley\"]=hd_df[\"alley\"].map(lambda x: np.nan_to_num(x,copy=True, nan=1, posinf=None, neginf=None))\n",
    "hd_df['alley'].value_counts()"
   ]
  },
  {
   "cell_type": "code",
   "execution_count": 38,
   "id": "71c57a5d-ef53-4f29-b790-3242a8c0d322",
   "metadata": {},
   "outputs": [
    {
     "data": {
      "text/plain": [
       "alley\n",
       "1.0     184366.258503\n",
       "Pave    174534.709091\n",
       "Grvl    120835.635294\n",
       "Name: saleprice, dtype: float64"
      ]
     },
     "execution_count": 38,
     "metadata": {},
     "output_type": "execute_result"
    }
   ],
   "source": [
    "hd_df.groupby('alley')['saleprice'].mean().sort_values(ascending = False)"
   ]
  },
  {
   "cell_type": "markdown",
   "id": "dec2bbe5-8ed2-4ba2-8e7f-18b0e8fce512",
   "metadata": {},
   "source": [
    "Having an alleyway is a negative feature with respect to the mean, so this can be used in an engineered feature.  No alleyway is close enough to the mean of the data set so its ok to leave that at 1."
   ]
  },
  {
   "cell_type": "code",
   "execution_count": 39,
   "id": "031e71c7-3e2f-4d20-abd2-062c105e925e",
   "metadata": {},
   "outputs": [],
   "source": [
    "#CLONE BLOCK FIVE\n",
    "Grvl_val=hd_df.groupby('alley')['saleprice'].mean()['Grvl']/SP_mean\n",
    "Pave_val=hd_df.groupby('alley')['saleprice'].mean()['Pave']/SP_mean"
   ]
  },
  {
   "cell_type": "code",
   "execution_count": 40,
   "id": "9886fd22-0d45-4214-9aa0-94ee436bae79",
   "metadata": {},
   "outputs": [
    {
     "data": {
      "text/plain": [
       "lot_shape\n",
       "Reg          1295\n",
       "IR1           692\n",
       "IR2            55\n",
       "IR3             9\n",
       "dtype: int64"
      ]
     },
     "execution_count": 40,
     "metadata": {},
     "output_type": "execute_result"
    }
   ],
   "source": [
    "hd_df[['lot_shape']].value_counts()"
   ]
  },
  {
   "cell_type": "code",
   "execution_count": 41,
   "id": "1a6989ac-f12a-458d-9d07-ebd82dc274d2",
   "metadata": {
    "tags": []
   },
   "outputs": [
    {
     "data": {
      "text/plain": [
       "lot_shape\n",
       "IR2    233954.745455\n",
       "IR1    211848.670520\n",
       "IR3    193182.222222\n",
       "Reg    162925.812355\n",
       "Name: saleprice, dtype: float64"
      ]
     },
     "execution_count": 41,
     "metadata": {},
     "output_type": "execute_result"
    }
   ],
   "source": [
    "hd_df.groupby('lot_shape')['saleprice'].mean().sort_values(ascending = False)"
   ]
  },
  {
   "cell_type": "markdown",
   "id": "ad5607d8-f690-4caf-8e9c-89c5b96b68cb",
   "metadata": {},
   "source": [
    "Our ordinal for this will be IR2>IR1>IR1>Reg"
   ]
  },
  {
   "cell_type": "code",
   "execution_count": 42,
   "id": "6b7fc31c-d75e-4a3d-b674-7e6ddefe2f24",
   "metadata": {},
   "outputs": [
    {
     "data": {
      "text/plain": [
       "Lvl    1843\n",
       "HLS      85\n",
       "Bnk      80\n",
       "Low      43\n",
       "Name: land_contour, dtype: int64"
      ]
     },
     "execution_count": 42,
     "metadata": {},
     "output_type": "execute_result"
    }
   ],
   "source": [
    "hd_df['land_contour'].value_counts()"
   ]
  },
  {
   "cell_type": "code",
   "execution_count": 43,
   "id": "435faf93-2511-4f3c-aab1-0d7a84c1f78d",
   "metadata": {
    "tags": []
   },
   "outputs": [
    {
     "data": {
      "text/plain": [
       "land_contour\n",
       "HLS    262353.376471\n",
       "Low    199313.116279\n",
       "Lvl    178998.564840\n",
       "Bnk    142868.775000\n",
       "Name: saleprice, dtype: float64"
      ]
     },
     "execution_count": 43,
     "metadata": {},
     "output_type": "execute_result"
    }
   ],
   "source": [
    "hd_df.groupby('land_contour')['saleprice'].mean().sort_values(ascending = False)"
   ]
  },
  {
   "cell_type": "markdown",
   "id": "539e961d-8f1d-4bc8-b72b-7d20010b6e62",
   "metadata": {},
   "source": [
    "Because of the magnitude of the values is not high outside of level terrain, once again normalize to use in a product term for land properties."
   ]
  },
  {
   "cell_type": "code",
   "execution_count": 44,
   "id": "39f700bb-ef1d-42d4-a467-d46cfd61974d",
   "metadata": {},
   "outputs": [],
   "source": [
    "#CLONE BLOCK SIX\n",
    "HLS_val=hd_df.groupby('land_contour')['saleprice'].mean()['HLS']/SP_mean\n",
    "Low_val=hd_df.groupby('land_contour')['saleprice'].mean()['Low']/SP_mean\n",
    "Lvl_val=hd_df.groupby('land_contour')['saleprice'].mean()['Lvl']/SP_mean\n",
    "Bnk_val=hd_df.groupby('land_contour')['saleprice'].mean()['Bnk']/SP_mean"
   ]
  },
  {
   "cell_type": "code",
   "execution_count": 45,
   "id": "71f4ee62-39be-47a5-9493-c7171d96e761",
   "metadata": {
    "tags": []
   },
   "outputs": [
    {
     "data": {
      "text/plain": [
       "Gtl    1953\n",
       "Mod      88\n",
       "Sev      10\n",
       "Name: land_slope, dtype: int64"
      ]
     },
     "execution_count": 45,
     "metadata": {},
     "output_type": "execute_result"
    }
   ],
   "source": [
    "hd_df['land_slope'].value_counts()"
   ]
  },
  {
   "cell_type": "code",
   "execution_count": 46,
   "id": "f8a39a74-c998-4379-ae62-dc929c976857",
   "metadata": {},
   "outputs": [
    {
     "data": {
      "text/plain": [
       "land_slope\n",
       "Mod    204639.465909\n",
       "Sev    194598.000000\n",
       "Gtl    180358.476703\n",
       "Name: saleprice, dtype: float64"
      ]
     },
     "execution_count": 46,
     "metadata": {},
     "output_type": "execute_result"
    }
   ],
   "source": [
    "hd_df.groupby('land_slope')['saleprice'].mean().sort_values(ascending = False)"
   ]
  },
  {
   "cell_type": "markdown",
   "id": "d2fe3462-95dc-4d7b-ad5a-711df7c6a2d3",
   "metadata": {},
   "source": [
    "Gentle slope is the vast majority of the observations, Mod>Sev>Gtl> however might not use this because of the distribution."
   ]
  },
  {
   "cell_type": "code",
   "execution_count": 47,
   "id": "46596857-2e35-499d-ae90-2682b9dd8789",
   "metadata": {
    "tags": []
   },
   "outputs": [
    {
     "data": {
      "text/plain": [
       "Inside     1503\n",
       "Corner      348\n",
       "CulDSac     131\n",
       "FR2          60\n",
       "FR3           9\n",
       "Name: lot_config, dtype: int64"
      ]
     },
     "execution_count": 47,
     "metadata": {},
     "output_type": "execute_result"
    }
   ],
   "source": [
    "hd_df['lot_config'].value_counts()"
   ]
  },
  {
   "cell_type": "code",
   "execution_count": 48,
   "id": "d1edc791-c097-4af7-a682-e2e758291fe2",
   "metadata": {},
   "outputs": [
    {
     "data": {
      "text/plain": [
       "lot_config\n",
       "CulDSac    230744.358779\n",
       "FR3        198600.000000\n",
       "Corner     180629.591954\n",
       "Inside     177537.014637\n",
       "FR2        174703.600000\n",
       "Name: saleprice, dtype: float64"
      ]
     },
     "execution_count": 48,
     "metadata": {},
     "output_type": "execute_result"
    }
   ],
   "source": [
    "hd_df.groupby('lot_config')['saleprice'].mean().sort_values(ascending = False)"
   ]
  },
  {
   "cell_type": "markdown",
   "id": "99e9e6de-b3f0-4072-9a21-27c9bd67f047",
   "metadata": {},
   "source": [
    "Lot config scaled to mean, dummification would be difficult to use here with the large number of observations with the Inside observation."
   ]
  },
  {
   "cell_type": "code",
   "execution_count": 49,
   "id": "f4727fed-e3c5-45f9-944f-577bee1dc6a4",
   "metadata": {},
   "outputs": [],
   "source": [
    "#CLONE BLOCK SEVEN\n",
    "CulDSac_val=hd_df.groupby('lot_config')['saleprice'].mean()['CulDSac']/SP_mean\n",
    "FR3_val=hd_df.groupby('lot_config')['saleprice'].mean()['FR3']/SP_mean\n",
    "Corner_val=hd_df.groupby('lot_config')['saleprice'].mean()['Corner']/SP_mean\n",
    "Inside_val=hd_df.groupby('lot_config')['saleprice'].mean()['Inside']/SP_mean\n",
    "FR2_val=hd_df.groupby('lot_config')['saleprice'].mean()['FR2']/SP_mean"
   ]
  },
  {
   "cell_type": "code",
   "execution_count": 50,
   "id": "aac6852d-42ff-496b-8981-68ee29742d93",
   "metadata": {},
   "outputs": [
    {
     "data": {
      "text/plain": [
       "AllPub    2049\n",
       "NoSeWa       1\n",
       "NoSewr       1\n",
       "Name: utilities, dtype: int64"
      ]
     },
     "execution_count": 50,
     "metadata": {},
     "output_type": "execute_result"
    }
   ],
   "source": [
    "hd_df['utilities'].value_counts()"
   ]
  },
  {
   "cell_type": "code",
   "execution_count": 51,
   "id": "b06eecae-7470-4e9f-a39b-cd003d113f26",
   "metadata": {},
   "outputs": [
    {
     "data": {
      "text/plain": [
       "AllPub    877\n",
       "NoSewr      1\n",
       "Name: utilities, dtype: int64"
      ]
     },
     "execution_count": 51,
     "metadata": {},
     "output_type": "execute_result"
    }
   ],
   "source": [
    "hd_test_df['utilities'].value_counts()"
   ]
  },
  {
   "cell_type": "markdown",
   "id": "c5b25355-6748-4bbe-9353-ba836ab9357b",
   "metadata": {
    "tags": []
   },
   "source": [
    "Utilities is not going to be very help for linear regression, data is almost 100% all public utilities at the lot in question."
   ]
  },
  {
   "cell_type": "code",
   "execution_count": 52,
   "id": "87142d12-0308-4852-9016-aad658593b61",
   "metadata": {},
   "outputs": [
    {
     "data": {
      "text/plain": [
       "NAmes      310\n",
       "CollgCr    180\n",
       "OldTown    163\n",
       "Edwards    143\n",
       "Somerst    130\n",
       "NridgHt    122\n",
       "Gilbert    116\n",
       "Sawyer     111\n",
       "SawyerW     87\n",
       "NWAmes      87\n",
       "Mitchel     82\n",
       "BrkSide     76\n",
       "Crawfor     71\n",
       "IDOTRR      69\n",
       "NoRidge     48\n",
       "Timber      48\n",
       "StoneBr     38\n",
       "SWISU       32\n",
       "ClearCr     27\n",
       "MeadowV     24\n",
       "Blmngtn     22\n",
       "BrDale      19\n",
       "NPkVill     17\n",
       "Veenker     17\n",
       "Blueste      6\n",
       "Greens       3\n",
       "GrnHill      2\n",
       "Landmrk      1\n",
       "Name: neighborhood, dtype: int64"
      ]
     },
     "execution_count": 52,
     "metadata": {},
     "output_type": "execute_result"
    }
   ],
   "source": [
    "hd_df['neighborhood'].value_counts()"
   ]
  },
  {
   "cell_type": "markdown",
   "id": "7c92945a-7beb-4063-abff-b2d74db52898",
   "metadata": {},
   "source": [
    "Neighborhood grouped by sale price mean, four per new naming scheme."
   ]
  },
  {
   "cell_type": "code",
   "execution_count": 53,
   "id": "c66ca9cd-e331-4251-bd59-cacbb656bef0",
   "metadata": {},
   "outputs": [
    {
     "data": {
      "text/plain": [
       "neighborhood\n",
       "StoneBr    329675.736842\n",
       "NridgHt    322831.352459\n",
       "NoRidge    316294.125000\n",
       "GrnHill    280000.000000\n",
       "Veenker    253570.588235\n",
       "Timber     241051.354167\n",
       "Somerst    227183.900000\n",
       "ClearCr    217490.074074\n",
       "Crawfor    205901.211268\n",
       "CollgCr    202497.216667\n",
       "Blmngtn    200417.681818\n",
       "NWAmes     194619.022989\n",
       "Gilbert    189228.387931\n",
       "Greens     188666.666667\n",
       "SawyerW    187760.160920\n",
       "Mitchel    167656.707317\n",
       "NAmes      145905.816129\n",
       "Blueste    144566.666667\n",
       "NPkVill    140476.470588\n",
       "Sawyer     137181.909910\n",
       "Landmrk    137000.000000\n",
       "SWISU      134758.875000\n",
       "Edwards    130493.468531\n",
       "BrkSide    127022.697368\n",
       "OldTown    125276.300613\n",
       "BrDale     103371.052632\n",
       "IDOTRR     101103.188406\n",
       "MeadowV    100231.250000\n",
       "Name: saleprice, dtype: float64"
      ]
     },
     "execution_count": 53,
     "metadata": {},
     "output_type": "execute_result"
    }
   ],
   "source": [
    "hd_df.groupby('neighborhood')['saleprice'].mean().sort_values(ascending = False)"
   ]
  },
  {
   "cell_type": "code",
   "execution_count": 54,
   "id": "726ba455-06ae-4378-85eb-84b0d6afb682",
   "metadata": {},
   "outputs": [],
   "source": [
    "#CLONE BLOCK EIGHT\n",
    "hd_df['neighborhood']=hd_df['neighborhood'].map({'StoneBr':'n_class_1','NridgHt':'n_class_1','NoRidge':'n_class_1','GrnHill':'n_class_1',\\\n",
    "'Veenker':'n_class_2','Timber':'n_class_2','Somerst':'n_class_2','ClearCr':'n_class_2',\\\n",
    "'Crawfor':'n_class_3','CollgCr':'n_class_3','Blmngtn':'n_class_3','NWAmes':'n_class_3',\\\n",
    "'Gilbert':'n_class_4','Greens':'n_class_4','SawyerW':'n_class_4','Mitchel':'n_class_4',\\\n",
    "'NAmes':'n_class_5','Blueste':'n_class_5','NPkVill':'n_class_5','Sawyer':'n_class_5',\\\n",
    "'Landmrk':'n_class_6','SWISU':'n_class_6','Edwards':'n_class_6','BrkSide':'n_class_6',\\\n",
    "'OldTown':'n_class_7','BrDale':'n_class_7','IDOTRR':'n_class_7','MeadowV':'n_class_7'})"
   ]
  },
  {
   "cell_type": "code",
   "execution_count": 55,
   "id": "c68a5d95-0e31-42f6-86a8-9b0a2c13d1e6",
   "metadata": {},
   "outputs": [
    {
     "data": {
      "text/plain": [
       "n_class_5    444\n",
       "n_class_3    360\n",
       "n_class_4    288\n",
       "n_class_7    275\n",
       "n_class_6    252\n",
       "n_class_2    222\n",
       "n_class_1    210\n",
       "Name: neighborhood, dtype: int64"
      ]
     },
     "execution_count": 55,
     "metadata": {},
     "output_type": "execute_result"
    }
   ],
   "source": [
    "hd_df['neighborhood'].value_counts()"
   ]
  },
  {
   "cell_type": "code",
   "execution_count": 56,
   "id": "e7a9e836-3c0d-405a-98a8-b0b801214202",
   "metadata": {},
   "outputs": [
    {
     "data": {
      "text/plain": [
       "neighborhood\n",
       "n_class_1    322167.719048\n",
       "n_class_2    231023.891892\n",
       "n_class_3    201137.580556\n",
       "n_class_4    182637.072917\n",
       "n_class_5    143498.862613\n",
       "n_class_6    130014.186508\n",
       "n_class_7    115511.843636\n",
       "Name: saleprice, dtype: float64"
      ]
     },
     "execution_count": 56,
     "metadata": {},
     "output_type": "execute_result"
    }
   ],
   "source": [
    "hd_df.groupby('neighborhood')['saleprice'].mean().sort_values(ascending = False)"
   ]
  },
  {
   "cell_type": "markdown",
   "id": "7abb60dc-6a80-4c4e-b09b-37eedd69efc3",
   "metadata": {},
   "source": [
    "Split into 7 groups, going down the list on mean pricing they were grouped together in that fashion.  n_class_4 is around the mean so it will be dropped to provide as the 'comparison' point for the rest of the dummy variables."
   ]
  },
  {
   "cell_type": "code",
   "execution_count": 57,
   "id": "c57106ee-f1b5-4aaa-81ae-f68170476264",
   "metadata": {},
   "outputs": [
    {
     "data": {
      "text/plain": [
       "Norm      1767\n",
       "Feedr      109\n",
       "Artery      70\n",
       "RRAn        36\n",
       "PosN        27\n",
       "RRAe        21\n",
       "PosA        12\n",
       "RRNn         6\n",
       "RRNe         3\n",
       "Name: condition_1, dtype: int64"
      ]
     },
     "execution_count": 57,
     "metadata": {},
     "output_type": "execute_result"
    }
   ],
   "source": [
    "hd_df['condition_1'].value_counts()"
   ]
  },
  {
   "cell_type": "code",
   "execution_count": 58,
   "id": "1ee577d6-f0f6-4ab7-b5f9-6cd731b65ac0",
   "metadata": {},
   "outputs": [
    {
     "data": {
      "text/plain": [
       "condition_1\n",
       "PosN      254794.296296\n",
       "PosA      254733.333333\n",
       "RRNn      198208.333333\n",
       "Norm      185007.310130\n",
       "RRAn      172604.777778\n",
       "Feedr     143223.605505\n",
       "RRAe      139685.714286\n",
       "RRNe      129616.666667\n",
       "Artery    128765.000000\n",
       "Name: saleprice, dtype: float64"
      ]
     },
     "execution_count": 58,
     "metadata": {},
     "output_type": "execute_result"
    }
   ],
   "source": [
    "hd_df.groupby('condition_1')['saleprice'].mean().sort_values(ascending = False)"
   ]
  },
  {
   "cell_type": "markdown",
   "id": "2874bba7-1967-4117-ba20-da470e27ee45",
   "metadata": {},
   "source": [
    "The positive high leverage values in condition could be feature engineered to assist "
   ]
  },
  {
   "cell_type": "code",
   "execution_count": 59,
   "id": "66dc6250-881c-41d0-b1d2-67b31a6ad3d4",
   "metadata": {},
   "outputs": [
    {
     "data": {
      "text/plain": [
       "Norm      2025\n",
       "Feedr       11\n",
       "Artery       5\n",
       "PosN         3\n",
       "PosA         3\n",
       "RRNn         2\n",
       "RRAn         1\n",
       "RRAe         1\n",
       "Name: condition_2, dtype: int64"
      ]
     },
     "execution_count": 59,
     "metadata": {},
     "output_type": "execute_result"
    }
   ],
   "source": [
    "hd_df['condition_2'].value_counts()"
   ]
  },
  {
   "cell_type": "code",
   "execution_count": 60,
   "id": "9751904a-db99-4219-939f-f2dda3574d05",
   "metadata": {},
   "outputs": [
    {
     "data": {
      "text/plain": [
       "condition_2\n",
       "PosN      395666.666667\n",
       "PosA      390666.666667\n",
       "RRAe      190000.000000\n",
       "Norm      181382.075556\n",
       "RRAn      136905.000000\n",
       "Feedr     129181.818182\n",
       "Artery    119050.000000\n",
       "RRNn       96750.000000\n",
       "Name: saleprice, dtype: float64"
      ]
     },
     "execution_count": 60,
     "metadata": {},
     "output_type": "execute_result"
    }
   ],
   "source": [
    "hd_df.groupby('condition_2')['saleprice'].mean().sort_values(ascending = False)"
   ]
  },
  {
   "cell_type": "markdown",
   "id": "2e61312c-d9d1-4b71-8e51-25d1e131d914",
   "metadata": {},
   "source": [
    "Some high leverage values in condition 2"
   ]
  },
  {
   "cell_type": "markdown",
   "id": "979f3204-d783-4a59-b889-2dc63ba4dd53",
   "metadata": {},
   "source": [
    "## Exterior Features EDA"
   ]
  },
  {
   "cell_type": "code",
   "execution_count": 61,
   "id": "e705a85d-0b7a-457b-9550-0ef63912072b",
   "metadata": {},
   "outputs": [
    {
     "data": {
      "text/plain": [
       "1Fam      1700\n",
       "TwnhsE     161\n",
       "Duplex      75\n",
       "Twnhs       69\n",
       "2fmCon      46\n",
       "Name: bldg_type, dtype: int64"
      ]
     },
     "execution_count": 61,
     "metadata": {},
     "output_type": "execute_result"
    }
   ],
   "source": [
    "hd_df['bldg_type'].value_counts()"
   ]
  },
  {
   "cell_type": "code",
   "execution_count": 62,
   "id": "dfe3b787-6849-477b-bca9-a133892f0a4d",
   "metadata": {},
   "outputs": [
    {
     "data": {
      "text/plain": [
       "bldg_type\n",
       "TwnhsE    198312.372671\n",
       "1Fam      185275.685882\n",
       "Duplex    139296.333333\n",
       "Twnhs     133100.000000\n",
       "2fmCon    123179.891304\n",
       "Name: saleprice, dtype: float64"
      ]
     },
     "execution_count": 62,
     "metadata": {},
     "output_type": "execute_result"
    }
   ],
   "source": [
    "hd_df.groupby('bldg_type')['saleprice'].mean().sort_values(ascending = False)"
   ]
  },
  {
   "cell_type": "markdown",
   "id": "402700b2-ee7d-4844-a8ae-b53399e52072",
   "metadata": {},
   "source": [
    "Townhouse end units and single families are slightly higher then the sample mean, the remaining categories could be used as negative values"
   ]
  },
  {
   "cell_type": "code",
   "execution_count": 63,
   "id": "f4c2eee5-1eb1-40be-a8f0-57f91cf1955f",
   "metadata": {},
   "outputs": [
    {
     "data": {
      "text/plain": [
       "Gable      1619\n",
       "Hip         397\n",
       "Flat         13\n",
       "Gambrel      12\n",
       "Mansard       7\n",
       "Shed          3\n",
       "Name: roof_style, dtype: int64"
      ]
     },
     "execution_count": 63,
     "metadata": {},
     "output_type": "execute_result"
    }
   ],
   "source": [
    "hd_df['roof_style'].value_counts()"
   ]
  },
  {
   "cell_type": "code",
   "execution_count": 64,
   "id": "3ba39b12-692b-476d-920e-cd46d36055cc",
   "metadata": {},
   "outputs": [
    {
     "data": {
      "text/plain": [
       "roof_style\n",
       "Hip        224366.654912\n",
       "Shed       208666.666667\n",
       "Flat       191613.076923\n",
       "Gable      171264.253243\n",
       "Mansard    152642.857143\n",
       "Gambrel    138208.333333\n",
       "Name: saleprice, dtype: float64"
      ]
     },
     "execution_count": 64,
     "metadata": {},
     "output_type": "execute_result"
    }
   ],
   "source": [
    "hd_df.groupby('roof_style')['saleprice'].mean().sort_values(ascending = False)"
   ]
  },
  {
   "cell_type": "markdown",
   "id": "3c2a3b57-baf0-4c36-8cc0-222e3a73365b",
   "metadata": {},
   "source": [
    "Hip, Shed and Flat roof types are all above the mean and make up just over 20% of the data set, believe it will be ok to hot encode these entries.  If there was more distribution of the category then dummification might have been in play."
   ]
  },
  {
   "cell_type": "code",
   "execution_count": 65,
   "id": "130207f3-d6d2-4b33-b7f4-e481d8e4bdf3",
   "metadata": {
    "tags": []
   },
   "outputs": [
    {
     "data": {
      "text/plain": [
       "CompShg    2025\n",
       "Tar&Grv      15\n",
       "WdShngl       5\n",
       "WdShake       4\n",
       "ClyTile       1\n",
       "Membran       1\n",
       "Name: roof_matl, dtype: int64"
      ]
     },
     "execution_count": 65,
     "metadata": {},
     "output_type": "execute_result"
    }
   ],
   "source": [
    "hd_df['roof_matl'].value_counts()"
   ]
  },
  {
   "cell_type": "code",
   "execution_count": 66,
   "id": "9ff83ebb-8fb7-403a-ba62-42c18c239a42",
   "metadata": {},
   "outputs": [
    {
     "data": {
      "text/plain": [
       "roof_matl\n",
       "WdShngl    339400.000000\n",
       "WdShake    264250.000000\n",
       "Membran    241500.000000\n",
       "Tar&Grv    187948.933333\n",
       "CompShg    180849.197037\n",
       "ClyTile    160000.000000\n",
       "Name: saleprice, dtype: float64"
      ]
     },
     "execution_count": 66,
     "metadata": {},
     "output_type": "execute_result"
    }
   ],
   "source": [
    "hd_df.groupby('roof_matl')['saleprice'].mean().sort_values(ascending = False)"
   ]
  },
  {
   "cell_type": "markdown",
   "id": "f7269669-c581-4099-b306-f74b670450fe",
   "metadata": {},
   "source": [
    "Wood shingles and wood shakes (both mean values above the price 1st standard deviation) along with membrane could be used to specifically callout higher sale priced houses.  Most houses to no surprise have regular shingles so this feature is not good at showing significant variance."
   ]
  },
  {
   "cell_type": "code",
   "execution_count": 67,
   "id": "b825b81a-c816-4fa8-aff7-46984ac3a57a",
   "metadata": {},
   "outputs": [
    {
     "data": {
      "text/plain": [
       "1Story    1059\n",
       "2Story     598\n",
       "1.5Fin     218\n",
       "SLvl        94\n",
       "SFoyer      50\n",
       "2.5Unf      14\n",
       "1.5Unf      12\n",
       "2.5Fin       6\n",
       "Name: house_style, dtype: int64"
      ]
     },
     "execution_count": 67,
     "metadata": {},
     "output_type": "execute_result"
    }
   ],
   "source": [
    "hd_df['house_style'].value_counts()"
   ]
  },
  {
   "cell_type": "code",
   "execution_count": 68,
   "id": "602f6145-46dc-4376-8145-ae29b6afe331",
   "metadata": {},
   "outputs": [
    {
     "data": {
      "text/plain": [
       "house_style\n",
       "2.5Fin    243666.666667\n",
       "2Story    206408.963211\n",
       "2.5Unf    191785.714286\n",
       "1Story    179809.194523\n",
       "SLvl      166248.989362\n",
       "SFoyer    149343.920000\n",
       "1.5Fin    136480.091743\n",
       "1.5Unf    112466.666667\n",
       "Name: saleprice, dtype: float64"
      ]
     },
     "execution_count": 68,
     "metadata": {},
     "output_type": "execute_result"
    }
   ],
   "source": [
    "hd_df.groupby('house_style')['saleprice'].mean().sort_values(ascending = False)"
   ]
  },
  {
   "cell_type": "code",
   "execution_count": 69,
   "id": "ac425a52-3340-4cb7-9301-9db83606369f",
   "metadata": {
    "tags": []
   },
   "outputs": [
    {
     "data": {
      "text/plain": [
       "VinylSd    724\n",
       "MetalSd    331\n",
       "HdBoard    300\n",
       "Wd Sdng    276\n",
       "Plywood    152\n",
       "CemntBd     90\n",
       "BrkFace     64\n",
       "WdShing     45\n",
       "AsbShng     33\n",
       "Stucco      27\n",
       "BrkComm      3\n",
       "Stone        2\n",
       "CBlock       2\n",
       "AsphShn      1\n",
       "ImStucc      1\n",
       "Name: exterior_1st, dtype: int64"
      ]
     },
     "execution_count": 69,
     "metadata": {},
     "output_type": "execute_result"
    }
   ],
   "source": [
    "hd_df['exterior_1st'].value_counts()"
   ]
  },
  {
   "cell_type": "code",
   "execution_count": 70,
   "id": "a37872f6-9e25-4f35-8052-11baef74ed38",
   "metadata": {},
   "outputs": [
    {
     "data": {
      "text/plain": [
       "exterior_1st\n",
       "ImStucc    262000.000000\n",
       "Stone      258500.000000\n",
       "CemntBd    243429.088889\n",
       "VinylSd    218174.082873\n",
       "BrkFace    193055.093750\n",
       "Plywood    170511.453947\n",
       "HdBoard    159582.473333\n",
       "WdShing    155616.822222\n",
       "MetalSd    154402.048338\n",
       "Wd Sdng    142940.887681\n",
       "Stucco     139712.962963\n",
       "BrkComm    131000.000000\n",
       "AsbShng    103183.333333\n",
       "CBlock      93250.000000\n",
       "AsphShn     82375.000000\n",
       "Name: saleprice, dtype: float64"
      ]
     },
     "execution_count": 70,
     "metadata": {},
     "output_type": "execute_result"
    }
   ],
   "source": [
    "hd_df.groupby('exterior_1st')['saleprice'].mean().sort_values(ascending = False)"
   ]
  },
  {
   "cell_type": "markdown",
   "id": "82d6ab6b-ef7a-4e64-9a6a-e76269383158",
   "metadata": {},
   "source": [
    "Missing the 'Other' and 'PreCast' values missing, will null these out (don't have good similar data points for the PreCast).  Immitation stucco and stone can be used as high leverage values"
   ]
  },
  {
   "cell_type": "code",
   "execution_count": 71,
   "id": "816e8213-e917-4fe5-8c14-4149066e8f47",
   "metadata": {},
   "outputs": [
    {
     "data": {
      "text/plain": [
       "VinylSd    721\n",
       "MetalSd    324\n",
       "HdBoard    275\n",
       "Wd Sdng    262\n",
       "Plywood    185\n",
       "CmentBd     90\n",
       "Wd Shng     63\n",
       "BrkFace     34\n",
       "Stucco      30\n",
       "AsbShng     28\n",
       "Brk Cmn     17\n",
       "ImStucc     11\n",
       "Stone        6\n",
       "AsphShn      3\n",
       "CBlock       2\n",
       "Name: exterior_2nd, dtype: int64"
      ]
     },
     "execution_count": 71,
     "metadata": {},
     "output_type": "execute_result"
    }
   ],
   "source": [
    "hd_df['exterior_2nd'].value_counts()"
   ]
  },
  {
   "cell_type": "code",
   "execution_count": 72,
   "id": "8fcfbec4-b2d3-4b1e-8447-2159e05cac8a",
   "metadata": {},
   "outputs": [
    {
     "data": {
      "text/plain": [
       "exterior_2nd\n",
       "CmentBd    239540.200000\n",
       "ImStucc    227472.727273\n",
       "VinylSd    217798.685160\n",
       "BrkFace    187992.647059\n",
       "Plywood    166485.713514\n",
       "HdBoard    160836.880000\n",
       "MetalSd    155978.635802\n",
       "Wd Shng    154244.444444\n",
       "Stucco     147725.333333\n",
       "Wd Sdng    145654.396947\n",
       "Stone      145420.666667\n",
       "Brk Cmn    139958.823529\n",
       "AsphShn    132125.000000\n",
       "AsbShng    107108.928571\n",
       "CBlock      92000.000000\n",
       "Name: saleprice, dtype: float64"
      ]
     },
     "execution_count": 72,
     "metadata": {},
     "output_type": "execute_result"
    }
   ],
   "source": [
    "hd_df.groupby('exterior_2nd')['saleprice'].mean().sort_values(ascending = False)"
   ]
  },
  {
   "cell_type": "markdown",
   "id": "4b3148b6-f7b6-4c65-b447-740d26bd0825",
   "metadata": {
    "tags": []
   },
   "source": []
  },
  {
   "cell_type": "code",
   "execution_count": 73,
   "id": "9386e2a1-b353-426b-b1ab-aa9c614c4fba",
   "metadata": {},
   "outputs": [
    {
     "data": {
      "text/plain": [
       "None       1218\n",
       "BrkFace     630\n",
       "Stone       168\n",
       "BrkCmn       13\n",
       "Name: mas_vnr_type, dtype: int64"
      ]
     },
     "execution_count": 73,
     "metadata": {},
     "output_type": "execute_result"
    }
   ],
   "source": [
    "hd_df['mas_vnr_type'].value_counts()"
   ]
  },
  {
   "cell_type": "code",
   "execution_count": 74,
   "id": "562963a9-f96d-4eab-b9b6-62f56cafa17d",
   "metadata": {
    "tags": []
   },
   "outputs": [
    {
     "data": {
      "text/plain": [
       "mas_vnr_type\n",
       "Stone      263714.702381\n",
       "BrkFace    212161.436508\n",
       "None       153679.275862\n",
       "BrkCmn     144515.692308\n",
       "Name: saleprice, dtype: float64"
      ]
     },
     "execution_count": 74,
     "metadata": {},
     "output_type": "execute_result"
    }
   ],
   "source": [
    "hd_df.groupby('mas_vnr_type')['saleprice'].mean().sort_values(ascending = False)"
   ]
  },
  {
   "cell_type": "code",
   "execution_count": 75,
   "id": "175bfec3-c488-47ef-9fee-141d308888d7",
   "metadata": {},
   "outputs": [
    {
     "data": {
      "text/plain": [
       "TA    1247\n",
       "Gd     697\n",
       "Ex      81\n",
       "Fa      26\n",
       "Name: exter_qual, dtype: int64"
      ]
     },
     "execution_count": 75,
     "metadata": {},
     "output_type": "execute_result"
    }
   ],
   "source": [
    "hd_df['exter_qual'].value_counts()"
   ]
  },
  {
   "cell_type": "code",
   "execution_count": 76,
   "id": "1f0bb47e-a103-4c11-afe4-c818d6059ccb",
   "metadata": {},
   "outputs": [
    {
     "data": {
      "text/plain": [
       "exter_qual\n",
       "Ex    374460.308642\n",
       "Gd    230802.484935\n",
       "TA    143270.978348\n",
       "Fa     89801.192308\n",
       "Name: saleprice, dtype: float64"
      ]
     },
     "execution_count": 76,
     "metadata": {},
     "output_type": "execute_result"
    }
   ],
   "source": [
    "hd_df.groupby('exter_qual')['saleprice'].mean().sort_values(ascending = False)"
   ]
  },
  {
   "cell_type": "markdown",
   "id": "f7d3f364-ec90-484e-beee-a1fa0432026f",
   "metadata": {},
   "source": []
  },
  {
   "cell_type": "markdown",
   "id": "306e9bf0-09cd-4cbc-9902-bf8424ebccde",
   "metadata": {},
   "source": [
    "## Basement Related Features EDA"
   ]
  },
  {
   "cell_type": "code",
   "execution_count": 77,
   "id": "cf99aee1-872b-4c3b-a711-624c3d663051",
   "metadata": {},
   "outputs": [
    {
     "data": {
      "text/plain": [
       "PConc     926\n",
       "CBlock    863\n",
       "BrkTil    221\n",
       "Slab       34\n",
       "Stone       5\n",
       "Wood        2\n",
       "Name: foundation, dtype: int64"
      ]
     },
     "execution_count": 77,
     "metadata": {},
     "output_type": "execute_result"
    }
   ],
   "source": [
    "hd_df['foundation'].value_counts()"
   ]
  },
  {
   "cell_type": "code",
   "execution_count": 78,
   "id": "476b5041-6ec7-426a-848c-813f7d611f9f",
   "metadata": {},
   "outputs": [
    {
     "data": {
      "text/plain": [
       "foundation\n",
       "PConc     227676.483801\n",
       "Wood      173750.000000\n",
       "CBlock    148415.530707\n",
       "Stone     143235.200000\n",
       "BrkTil    129050.190045\n",
       "Slab      108810.676471\n",
       "Name: saleprice, dtype: float64"
      ]
     },
     "execution_count": 78,
     "metadata": {},
     "output_type": "execute_result"
    }
   ],
   "source": [
    "hd_df.groupby('foundation')['saleprice'].mean().sort_values(ascending = False)"
   ]
  },
  {
   "cell_type": "markdown",
   "id": "4be2ccf0-5082-4d07-b95b-e6e235ecf25d",
   "metadata": {
    "tags": []
   },
   "source": [
    "Could use the lower values as negative correlations"
   ]
  },
  {
   "cell_type": "code",
   "execution_count": 79,
   "id": "5ca07259-998f-4b06-9c8b-c450902523fc",
   "metadata": {},
   "outputs": [
    {
     "data": {
      "text/plain": [
       "TA     887\n",
       "Gd     864\n",
       "Ex     184\n",
       "Fa      60\n",
       "0.0     55\n",
       "Po       1\n",
       "Name: bsmt_qual, dtype: int64"
      ]
     },
     "execution_count": 79,
     "metadata": {},
     "output_type": "execute_result"
    }
   ],
   "source": [
    "hd_df['bsmt_qual'].value_counts()"
   ]
  },
  {
   "cell_type": "code",
   "execution_count": 80,
   "id": "0f7a6f0a-cc2a-435b-a53e-1ffe280e28c3",
   "metadata": {},
   "outputs": [
    {
     "data": {
      "text/plain": [
       "bsmt_qual\n",
       "Ex     329506.619565\n",
       "Gd     202537.582176\n",
       "TA     139988.461105\n",
       "Fa     107752.166667\n",
       "0.0    106341.345455\n",
       "Po      89000.000000\n",
       "Name: saleprice, dtype: float64"
      ]
     },
     "execution_count": 80,
     "metadata": {},
     "output_type": "execute_result"
    }
   ],
   "source": [
    "hd_df.groupby('bsmt_qual')['saleprice'].mean().sort_values(ascending = False)"
   ]
  },
  {
   "cell_type": "markdown",
   "id": "62eba5ef-19ac-455c-904e-fb2ff5503fc6",
   "metadata": {
    "tags": []
   },
   "source": [
    "Good distribution of values in this feature, can use as a ordinal with standard ratings"
   ]
  },
  {
   "cell_type": "code",
   "execution_count": 81,
   "id": "a45876e2-9ccf-4bfa-9885-6a57d8099c22",
   "metadata": {},
   "outputs": [
    {
     "data": {
      "text/plain": [
       "TA     1834\n",
       "Gd       89\n",
       "Fa       65\n",
       "0.0      55\n",
       "Po        5\n",
       "Ex        3\n",
       "Name: bsmt_cond, dtype: int64"
      ]
     },
     "execution_count": 81,
     "metadata": {},
     "output_type": "execute_result"
    }
   ],
   "source": [
    "hd_df['bsmt_cond'].value_counts()"
   ]
  },
  {
   "cell_type": "code",
   "execution_count": 82,
   "id": "a90495b8-ecf7-4aa6-aabd-60812b93aa30",
   "metadata": {
    "tags": []
   },
   "outputs": [
    {
     "data": {
      "text/plain": [
       "bsmt_cond\n",
       "Gd     223969.550562\n",
       "Ex     195000.000000\n",
       "TA     184021.858233\n",
       "Po     124063.200000\n",
       "Fa     118629.076923\n",
       "0.0    106341.345455\n",
       "Name: saleprice, dtype: float64"
      ]
     },
     "execution_count": 82,
     "metadata": {},
     "output_type": "execute_result"
    }
   ],
   "source": [
    "hd_df.groupby('bsmt_cond')['saleprice'].mean().sort_values(ascending = False)"
   ]
  },
  {
   "cell_type": "markdown",
   "id": "6a588e92-2cee-4780-bd56-f25b381da061",
   "metadata": {},
   "source": [
    "some negative leverage possible with this feature, and also with the Gd category which is 40k above the mean sample price"
   ]
  },
  {
   "cell_type": "code",
   "execution_count": 83,
   "id": "83ff9538-0f7c-4de0-bab4-980693507fe6",
   "metadata": {},
   "outputs": [
    {
     "data": {
      "text/plain": [
       "No     1339\n",
       "Av      288\n",
       "Gd      203\n",
       "Mn      163\n",
       "0.0      58\n",
       "Name: bsmt_exposure, dtype: int64"
      ]
     },
     "execution_count": 83,
     "metadata": {},
     "output_type": "execute_result"
    }
   ],
   "source": [
    "hd_df['bsmt_exposure'].value_counts()"
   ]
  },
  {
   "cell_type": "code",
   "execution_count": 84,
   "id": "ca925080-e8a9-4612-b4a7-e2f91db59077",
   "metadata": {},
   "outputs": [
    {
     "data": {
      "text/plain": [
       "bsmt_exposure\n",
       "Gd     271610.566502\n",
       "Av     206262.451389\n",
       "Mn     189377.570552\n",
       "No     164533.532487\n",
       "0.0    111635.913793\n",
       "Name: saleprice, dtype: float64"
      ]
     },
     "execution_count": 84,
     "metadata": {},
     "output_type": "execute_result"
    }
   ],
   "source": [
    "hd_df.groupby('bsmt_exposure')['saleprice'].mean().sort_values(ascending = False)"
   ]
  },
  {
   "cell_type": "markdown",
   "id": "3493120f-6f41-4334-a7a8-801c9fad37d1",
   "metadata": {},
   "source": [
    "Good variation of values, can assign ordinal and use as is "
   ]
  },
  {
   "cell_type": "code",
   "execution_count": 85,
   "id": "7114f5eb-35c5-48b3-90af-4082ee21f63f",
   "metadata": {},
   "outputs": [
    {
     "data": {
      "text/plain": [
       "GLQ    615\n",
       "Unf    603\n",
       "ALQ    293\n",
       "BLQ    200\n",
       "Rec    183\n",
       "LwQ    102\n",
       "0.0     55\n",
       "Name: bsmtfin_type_1, dtype: int64"
      ]
     },
     "execution_count": 85,
     "metadata": {},
     "output_type": "execute_result"
    }
   ],
   "source": [
    "hd_df['bsmtfin_type_1'].value_counts()"
   ]
  },
  {
   "cell_type": "code",
   "execution_count": 86,
   "id": "2531741f-fb28-4b7c-827c-980c3fd05cf2",
   "metadata": {
    "tags": []
   },
   "outputs": [
    {
     "data": {
      "text/plain": [
       "bsmtfin_type_1\n",
       "GLQ    237597.245528\n",
       "Unf    166155.257048\n",
       "ALQ    164368.017065\n",
       "LwQ    153266.921569\n",
       "BLQ    150107.020000\n",
       "Rec    143263.382514\n",
       "0.0    106341.345455\n",
       "Name: saleprice, dtype: float64"
      ]
     },
     "execution_count": 86,
     "metadata": {},
     "output_type": "execute_result"
    }
   ],
   "source": [
    "hd_df.groupby('bsmtfin_type_1')['saleprice'].mean().sort_values(ascending = False)"
   ]
  },
  {
   "cell_type": "markdown",
   "id": "35e17cff-f1c9-43b6-b84b-af1bea70906b",
   "metadata": {},
   "source": [
    "These values have a very good variance, can set ordinal values and use as is"
   ]
  },
  {
   "cell_type": "code",
   "execution_count": 87,
   "id": "3cd9789a-89d4-4a77-b51a-08790f593cbc",
   "metadata": {
    "tags": []
   },
   "outputs": [
    {
     "data": {
      "text/plain": [
       "Unf    1749\n",
       "Rec      80\n",
       "LwQ      60\n",
       "0.0      56\n",
       "BLQ      48\n",
       "ALQ      35\n",
       "GLQ      23\n",
       "Name: bsmtfin_type_2, dtype: int64"
      ]
     },
     "execution_count": 87,
     "metadata": {},
     "output_type": "execute_result"
    }
   ],
   "source": [
    "hd_df['bsmtfin_type_2'].value_counts()"
   ]
  },
  {
   "cell_type": "code",
   "execution_count": 88,
   "id": "804384c0-0e92-49bf-98db-f5cac07fc347",
   "metadata": {},
   "outputs": [
    {
     "data": {
      "text/plain": [
       "bsmtfin_type_2\n",
       "GLQ    221300.000000\n",
       "ALQ    188567.142857\n",
       "Unf    185221.284162\n",
       "Rec    164538.750000\n",
       "LwQ    162284.583333\n",
       "BLQ    156659.020833\n",
       "0.0    109513.821429\n",
       "Name: saleprice, dtype: float64"
      ]
     },
     "execution_count": 88,
     "metadata": {},
     "output_type": "execute_result"
    }
   ],
   "source": [
    "hd_df.groupby('bsmtfin_type_2')['saleprice'].mean().sort_values(ascending = False)"
   ]
  },
  {
   "cell_type": "markdown",
   "id": "fec1747a-3d80-46ac-873b-cfe6b06cff9e",
   "metadata": {},
   "source": [
    "Due to the large number of unfinished basements observed, this category does not seem so helpful, the basement finish type 1 does a little bit better job at this feature description."
   ]
  },
  {
   "cell_type": "code",
   "execution_count": 89,
   "id": "001aaaa7-539c-4069-97cb-d7474ceca018",
   "metadata": {},
   "outputs": [
    {
     "data": {
      "text/plain": [
       "GasA    2018\n",
       "GasW      20\n",
       "Wall       6\n",
       "Grav       5\n",
       "OthW       2\n",
       "Name: heating, dtype: int64"
      ]
     },
     "execution_count": 89,
     "metadata": {},
     "output_type": "execute_result"
    }
   ],
   "source": [
    "hd_df['heating'].value_counts()"
   ]
  },
  {
   "cell_type": "code",
   "execution_count": 90,
   "id": "06cbe494-f12a-4e4c-88d7-d831619fbe7d",
   "metadata": {},
   "outputs": [
    {
     "data": {
      "text/plain": [
       "heating\n",
       "GasA    182422.47671\n",
       "GasW    151275.00000\n",
       "OthW    125750.00000\n",
       "Wall     77150.00000\n",
       "Grav     65180.00000\n",
       "Name: saleprice, dtype: float64"
      ]
     },
     "execution_count": 90,
     "metadata": {},
     "output_type": "execute_result"
    }
   ],
   "source": [
    "hd_df.groupby('heating')['saleprice'].mean().sort_values(ascending = False)"
   ]
  },
  {
   "cell_type": "markdown",
   "id": "2df94b60-5d6a-4273-86ec-3051ae3c6b84",
   "metadata": {},
   "source": [
    "Floor furnance heating is missing, could be hot encoded to explain variance below the price mean."
   ]
  },
  {
   "cell_type": "code",
   "execution_count": 91,
   "id": "25397dbf-b9ce-4ad3-bba8-ac80ce4869ec",
   "metadata": {},
   "outputs": [
    {
     "data": {
      "text/plain": [
       "Ex    1065\n",
       "TA     597\n",
       "Gd     319\n",
       "Fa      67\n",
       "Po       3\n",
       "Name: heating_qc, dtype: int64"
      ]
     },
     "execution_count": 91,
     "metadata": {},
     "output_type": "execute_result"
    }
   ],
   "source": [
    "hd_df['heating_qc'].value_counts()"
   ]
  },
  {
   "cell_type": "code",
   "execution_count": 92,
   "id": "e834dd4c-6cb5-46da-bf68-0ea23d719c53",
   "metadata": {},
   "outputs": [
    {
     "data": {
      "text/plain": [
       "heating_qc\n",
       "Ex    216027.607512\n",
       "Gd    160174.009404\n",
       "TA    138986.705193\n",
       "Fa    117123.641791\n",
       "Po     69033.333333\n",
       "Name: saleprice, dtype: float64"
      ]
     },
     "execution_count": 92,
     "metadata": {},
     "output_type": "execute_result"
    }
   ],
   "source": [
    "hd_df.groupby('heating_qc')['saleprice'].mean().sort_values(ascending = False)"
   ]
  },
  {
   "cell_type": "markdown",
   "id": "e508a6ed-ddd1-4d77-a1c1-9501f9cb58dc",
   "metadata": {},
   "source": [
    "The quality and condition of the heating system appears to be a good metric to use with an ordinal rating. 5 down to 1 for Ex, Gd, TA, Fa, and Po."
   ]
  },
  {
   "cell_type": "code",
   "execution_count": 93,
   "id": "1b37ce4a-c939-43e7-bb89-2ec1ab873da7",
   "metadata": {},
   "outputs": [
    {
     "data": {
      "text/plain": [
       "Y    1910\n",
       "N     141\n",
       "Name: central_air, dtype: int64"
      ]
     },
     "execution_count": 93,
     "metadata": {},
     "output_type": "execute_result"
    }
   ],
   "source": [
    "hd_df['central_air'].value_counts()"
   ]
  },
  {
   "cell_type": "code",
   "execution_count": 94,
   "id": "8d91cb22-586f-4b3e-b350-71e0c22036fb",
   "metadata": {
    "tags": []
   },
   "outputs": [
    {
     "data": {
      "text/plain": [
       "central_air\n",
       "Y    187441.503665\n",
       "N    100575.078014\n",
       "Name: saleprice, dtype: float64"
      ]
     },
     "execution_count": 94,
     "metadata": {},
     "output_type": "execute_result"
    }
   ],
   "source": [
    "hd_df.groupby('central_air')['saleprice'].mean().sort_values(ascending = False)"
   ]
  },
  {
   "cell_type": "markdown",
   "id": "88c5cb00-3e3c-410d-8e89-797bd4574570",
   "metadata": {
    "tags": []
   },
   "source": [
    "This can act as a negative indicator due to the stark contrast between having and not having central air, but would need to be combined with other factors."
   ]
  },
  {
   "cell_type": "code",
   "execution_count": 95,
   "id": "a758fb24-285b-4ccc-9b9f-a6b0f4ccf3a4",
   "metadata": {},
   "outputs": [
    {
     "data": {
      "text/plain": [
       "SBrkr    1868\n",
       "FuseA     140\n",
       "FuseF      35\n",
       "FuseP       7\n",
       "Mix         1\n",
       "Name: electrical, dtype: int64"
      ]
     },
     "execution_count": 95,
     "metadata": {},
     "output_type": "execute_result"
    }
   ],
   "source": [
    "hd_df['electrical'].value_counts()"
   ]
  },
  {
   "cell_type": "code",
   "execution_count": 96,
   "id": "d300bfe0-58ca-4987-b78f-208a15dff359",
   "metadata": {},
   "outputs": [
    {
     "data": {
      "text/plain": [
       "electrical\n",
       "SBrkr    187770.382227\n",
       "FuseA    122565.157143\n",
       "FuseF    103678.914286\n",
       "FuseP     83485.714286\n",
       "Mix       67000.000000\n",
       "Name: saleprice, dtype: float64"
      ]
     },
     "execution_count": 96,
     "metadata": {},
     "output_type": "execute_result"
    }
   ],
   "source": [
    "hd_df.groupby('electrical')['saleprice'].mean().sort_values(ascending = False)"
   ]
  },
  {
   "cell_type": "markdown",
   "id": "051590ec-1bba-48b4-85df-b27755656d65",
   "metadata": {},
   "source": [
    "This can also act a negative indicator, same reasoning as the central air feature applies."
   ]
  },
  {
   "cell_type": "markdown",
   "id": "d03de4e7-926c-4d64-9393-4b368a17bb79",
   "metadata": {},
   "source": [
    "## Additional House Features"
   ]
  },
  {
   "cell_type": "code",
   "execution_count": 97,
   "id": "fabc4b4d-ecca-45e3-b145-06c3f59399d3",
   "metadata": {},
   "outputs": [
    {
     "data": {
      "text/plain": [
       "Typ     1915\n",
       "Min2      42\n",
       "Min1      42\n",
       "Mod       29\n",
       "Maj1      12\n",
       "Maj2       7\n",
       "Sal        2\n",
       "Sev        2\n",
       "Name: functional, dtype: int64"
      ]
     },
     "execution_count": 97,
     "metadata": {},
     "output_type": "execute_result"
    }
   ],
   "source": [
    "hd_df['functional'].value_counts()"
   ]
  },
  {
   "cell_type": "code",
   "execution_count": 98,
   "id": "7b15cc4d-7ae5-4e6b-b597-0d81c9af40da",
   "metadata": {
    "tags": []
   },
   "outputs": [
    {
     "data": {
      "text/plain": [
       "functional\n",
       "Typ     183954.749347\n",
       "Maj1    163106.166667\n",
       "Min1    154429.761905\n",
       "Min2    150424.571429\n",
       "Mod     148108.724138\n",
       "Sev      95750.000000\n",
       "Maj2     87157.714286\n",
       "Sal      31550.000000\n",
       "Name: saleprice, dtype: float64"
      ]
     },
     "execution_count": 98,
     "metadata": {},
     "output_type": "execute_result"
    }
   ],
   "source": [
    "hd_df.groupby('functional')['saleprice'].mean().sort_values(ascending = False)"
   ]
  },
  {
   "cell_type": "markdown",
   "id": "07f4eaa3-a003-495b-9d6a-02c8066e2090",
   "metadata": {},
   "source": [
    "Negative parameters in this feature diverge from the mean, again this could be used in an engineered feature with other negative parameters"
   ]
  },
  {
   "cell_type": "code",
   "execution_count": 99,
   "id": "002299a4-14ec-4bae-b4d5-8e442dbcfccd",
   "metadata": {},
   "outputs": [
    {
     "data": {
      "text/plain": [
       "0.0    1000\n",
       "Gd      523\n",
       "TA      407\n",
       "Fa       59\n",
       "Ex       31\n",
       "Po       31\n",
       "Name: fireplace_qu, dtype: int64"
      ]
     },
     "execution_count": 99,
     "metadata": {},
     "output_type": "execute_result"
    }
   ],
   "source": [
    "hd_df['fireplace_qu'].value_counts()"
   ]
  },
  {
   "cell_type": "code",
   "execution_count": 100,
   "id": "301f72a5-fd55-4a40-ab27-53ab295420ba",
   "metadata": {},
   "outputs": [],
   "source": [
    "hd_df[\"fireplace_qu\"]=hd_df[\"fireplace_qu\"].apply(lambda x: 'NoFp' if x == 0 else x)"
   ]
  },
  {
   "cell_type": "code",
   "execution_count": 101,
   "id": "bf248b10-11c6-4ea5-a81d-1f0d22978c0d",
   "metadata": {},
   "outputs": [
    {
     "data": {
      "text/plain": [
       "fireplace_qu\n",
       "Ex      331481.483871\n",
       "Gd      233578.388145\n",
       "TA      204893.621622\n",
       "Fa      170287.203390\n",
       "NoFp    142001.103000\n",
       "Po      139263.967742\n",
       "Name: saleprice, dtype: float64"
      ]
     },
     "execution_count": 101,
     "metadata": {},
     "output_type": "execute_result"
    }
   ],
   "source": [
    "hd_df.groupby('fireplace_qu')['saleprice'].mean().sort_values(ascending = False)"
   ]
  },
  {
   "cell_type": "markdown",
   "id": "2d33ca5a-da98-4704-b29e-dae81a23b1e9",
   "metadata": {},
   "source": [
    "Fireplace quality will just need enumeration, will swap the null case with poor for the lowest ordinal value."
   ]
  },
  {
   "cell_type": "code",
   "execution_count": 102,
   "id": "b62a4057-b171-4b6a-af3a-b6ec8c75501d",
   "metadata": {},
   "outputs": [],
   "source": [
    "hd_df[\"garage_type\"]=hd_df[\"garage_type\"].map(lambda x: np.nan_to_num(x))\n",
    "hd_df[\"garage_type\"]=hd_df[\"garage_type\"].apply(lambda x: 'NoGar' if x == 0 else x)\n",
    "hd_df[\"garage_qual\"]=hd_df[\"garage_qual\"].map(lambda x: np.nan_to_num(x))\n",
    "hd_df[\"garage_qual\"]=hd_df[\"garage_qual\"].apply(lambda x: 'NoGar' if x == 0 else x)\n",
    "hd_df[\"garage_finish\"]=hd_df[\"garage_finish\"].map(lambda x: np.nan_to_num(x))\n",
    "hd_df[\"garage_finish\"]=hd_df[\"garage_finish\"].apply(lambda x: 'NoGar' if x == 0 else x)\n",
    "hd_df[\"garage_yr_blt\"]=hd_df[\"garage_yr_blt\"].map(lambda x: np.nan_to_num(x))\n",
    "hd_df[\"garage_yr_blt\"]=hd_df[\"garage_yr_blt\"].apply(lambda x: 'NoGar' if x == 0 else x)\n",
    "hd_df[\"garage_cond\"]=hd_df[\"garage_cond\"].map(lambda x: np.nan_to_num(x))\n",
    "hd_df[\"garage_cond\"]=hd_df[\"garage_cond\"].apply(lambda x: 'NoGar' if x == 0 else x)"
   ]
  },
  {
   "cell_type": "code",
   "execution_count": 103,
   "id": "c3cbea4d-6cc7-4f84-87ed-416a4e32883c",
   "metadata": {
    "tags": []
   },
   "outputs": [
    {
     "data": {
      "text/plain": [
       "Attchd     1213\n",
       "Detchd      536\n",
       "BuiltIn     132\n",
       "NoGar       113\n",
       "Basment      27\n",
       "2Types       19\n",
       "CarPort      11\n",
       "Name: garage_type, dtype: int64"
      ]
     },
     "execution_count": 103,
     "metadata": {},
     "output_type": "execute_result"
    }
   ],
   "source": [
    "hd_df['garage_type'].value_counts()"
   ]
  },
  {
   "cell_type": "code",
   "execution_count": 104,
   "id": "60f10361-cd67-49fb-bbfe-fcefce641e73",
   "metadata": {},
   "outputs": [
    {
     "data": {
      "text/plain": [
       "garage_type\n",
       "BuiltIn    247883.522727\n",
       "Attchd     205040.195383\n",
       "2Types     157184.210526\n",
       "Basment    143242.333333\n",
       "Detchd     132132.947761\n",
       "NoGar      105669.150442\n",
       "CarPort    103823.545455\n",
       "Name: saleprice, dtype: float64"
      ]
     },
     "execution_count": 104,
     "metadata": {},
     "output_type": "execute_result"
    }
   ],
   "source": [
    "hd_df.groupby('garage_type')['saleprice'].mean().sort_values(ascending = False)"
   ]
  },
  {
   "cell_type": "markdown",
   "id": "3898b1bd-dd65-4c26-a31f-311101e28c9a",
   "metadata": {},
   "source": [
    "A couple types could be combined well for this feature, good spread of values."
   ]
  },
  {
   "cell_type": "code",
   "execution_count": 105,
   "id": "df1ebdd1-39cc-475c-a0b4-f0597e125765",
   "metadata": {},
   "outputs": [
    {
     "data": {
      "text/plain": [
       "Unf      849\n",
       "RFn      579\n",
       "Fin      509\n",
       "NoGar    114\n",
       "Name: garage_finish, dtype: int64"
      ]
     },
     "execution_count": 105,
     "metadata": {},
     "output_type": "execute_result"
    }
   ],
   "source": [
    "hd_df['garage_finish'].value_counts()"
   ]
  },
  {
   "cell_type": "code",
   "execution_count": 106,
   "id": "137ade06-0fb2-408e-9ace-dba64a54ab29",
   "metadata": {
    "tags": []
   },
   "outputs": [
    {
     "data": {
      "text/plain": [
       "garage_finish\n",
       "Fin      239800.664047\n",
       "RFn      204792.036269\n",
       "Unf      140718.148410\n",
       "NoGar    106065.991228\n",
       "Name: saleprice, dtype: float64"
      ]
     },
     "execution_count": 106,
     "metadata": {},
     "output_type": "execute_result"
    }
   ],
   "source": [
    "hd_df.groupby('garage_finish')['saleprice'].mean().sort_values(ascending = False)"
   ]
  },
  {
   "cell_type": "markdown",
   "id": "2e3faa8e-8154-4bd5-adc9-d1bbd97856c9",
   "metadata": {},
   "source": [
    "Use directly as ordinal, very good sample spread"
   ]
  },
  {
   "cell_type": "code",
   "execution_count": 107,
   "id": "d51854af-170f-458a-b292-58920fdef35b",
   "metadata": {},
   "outputs": [
    {
     "data": {
      "text/plain": [
       "TA       1832\n",
       "NoGar     114\n",
       "Fa         82\n",
       "Gd         18\n",
       "Ex          3\n",
       "Po          2\n",
       "Name: garage_qual, dtype: int64"
      ]
     },
     "execution_count": 107,
     "metadata": {},
     "output_type": "execute_result"
    }
   ],
   "source": [
    "hd_df['garage_qual'].value_counts()"
   ]
  },
  {
   "cell_type": "code",
   "execution_count": 108,
   "id": "aadb4e8e-4668-4310-b36b-664f4ac46f20",
   "metadata": {},
   "outputs": [
    {
     "data": {
      "text/plain": [
       "garage_qual\n",
       "Gd       262989.277778\n",
       "Ex       241000.000000\n",
       "TA       188312.700328\n",
       "Fa       116184.890244\n",
       "NoGar    106065.991228\n",
       "Po        65000.000000\n",
       "Name: saleprice, dtype: float64"
      ]
     },
     "execution_count": 108,
     "metadata": {},
     "output_type": "execute_result"
    }
   ],
   "source": [
    "hd_df.groupby('garage_qual')['saleprice'].mean().sort_values(ascending = False)"
   ]
  },
  {
   "cell_type": "markdown",
   "id": "9c048f57-73d2-4ed4-ba62-a14ac932e23d",
   "metadata": {
    "tags": []
   },
   "source": [
    "Dominated by Typical/Average observations"
   ]
  },
  {
   "cell_type": "code",
   "execution_count": 109,
   "id": "dfcfe198-1e00-43e6-95a4-8262bc497666",
   "metadata": {},
   "outputs": [
    {
     "data": {
      "text/plain": [
       "TA       1868\n",
       "NoGar     114\n",
       "Fa         47\n",
       "Gd         12\n",
       "Po          8\n",
       "Ex          2\n",
       "Name: garage_cond, dtype: int64"
      ]
     },
     "execution_count": 109,
     "metadata": {},
     "output_type": "execute_result"
    }
   ],
   "source": [
    "hd_df['garage_cond'].value_counts()"
   ]
  },
  {
   "cell_type": "code",
   "execution_count": 110,
   "id": "5f13b7a9-03e8-439d-b782-1e8db62a1327",
   "metadata": {},
   "outputs": [
    {
     "data": {
      "text/plain": [
       "garage_cond\n",
       "Gd       209030.833333\n",
       "TA       188211.900964\n",
       "Ex       124000.000000\n",
       "Fa       107387.957447\n",
       "NoGar    106065.991228\n",
       "Po        89925.000000\n",
       "Name: saleprice, dtype: float64"
      ]
     },
     "execution_count": 110,
     "metadata": {},
     "output_type": "execute_result"
    }
   ],
   "source": [
    "hd_df.groupby('garage_cond')['saleprice'].mean().sort_values(ascending = False)"
   ]
  },
  {
   "cell_type": "markdown",
   "id": "9b27330f-b37e-4876-9411-1b85685e7e47",
   "metadata": {},
   "source": [
    "Dominated by Typical/Average observations same as the quality metric.  Additionally it does not seem correct that excellent is so low."
   ]
  },
  {
   "cell_type": "code",
   "execution_count": 111,
   "id": "5c9c9852-30ee-42d1-b26c-3b3a5304a201",
   "metadata": {},
   "outputs": [
    {
     "data": {
      "text/plain": [
       "Y    1861\n",
       "N     151\n",
       "P      39\n",
       "Name: paved_drive, dtype: int64"
      ]
     },
     "execution_count": 111,
     "metadata": {},
     "output_type": "execute_result"
    }
   ],
   "source": [
    "hd_df['paved_drive'].value_counts()"
   ]
  },
  {
   "cell_type": "code",
   "execution_count": 112,
   "id": "f60902d0-1a29-4ee5-a663-ffd66ba1f649",
   "metadata": {},
   "outputs": [
    {
     "data": {
      "text/plain": [
       "paved_drive\n",
       "Y    188792.163890\n",
       "P    129824.461538\n",
       "N    104562.827815\n",
       "Name: saleprice, dtype: float64"
      ]
     },
     "execution_count": 112,
     "metadata": {},
     "output_type": "execute_result"
    }
   ],
   "source": [
    "hd_df.groupby('paved_drive')['saleprice'].mean().sort_values(ascending = False)"
   ]
  },
  {
   "cell_type": "markdown",
   "id": "79d5c0e2-e2b4-49fd-824e-109ecb9a7bde",
   "metadata": {
    "tags": []
   },
   "source": [
    "Strong negative correlation for the non fully paved driveways"
   ]
  },
  {
   "cell_type": "code",
   "execution_count": 113,
   "id": "d6c78218-9e07-4636-8e78-eaeaa702b337",
   "metadata": {},
   "outputs": [
    {
     "data": {
      "text/plain": [
       "0.0    2042\n",
       "Gd        4\n",
       "TA        2\n",
       "Fa        2\n",
       "Ex        1\n",
       "Name: pool_qc, dtype: int64"
      ]
     },
     "execution_count": 113,
     "metadata": {},
     "output_type": "execute_result"
    }
   ],
   "source": [
    "hd_df['pool_qc'].value_counts()"
   ]
  },
  {
   "cell_type": "code",
   "execution_count": 114,
   "id": "1f4e302d-1d4f-42e6-b5bf-283b8bacd82c",
   "metadata": {},
   "outputs": [
    {
     "data": {
      "text/plain": [
       "pool_qc\n",
       "Ex     315000.000000\n",
       "Gd     216492.500000\n",
       "Fa     215500.000000\n",
       "0.0    181341.522037\n",
       "TA     141500.000000\n",
       "Name: saleprice, dtype: float64"
      ]
     },
     "execution_count": 114,
     "metadata": {},
     "output_type": "execute_result"
    }
   ],
   "source": [
    "hd_df.groupby('pool_qc')['saleprice'].mean().sort_values(ascending = False)"
   ]
  },
  {
   "cell_type": "markdown",
   "id": "1c9127dd-b7e3-48e0-884d-bf0cd2ac00c7",
   "metadata": {},
   "source": [
    "A couple leverage observations at best"
   ]
  },
  {
   "cell_type": "code",
   "execution_count": 115,
   "id": "2cf4a1ce-84b2-4c7d-b1bd-747df00357f1",
   "metadata": {},
   "outputs": [],
   "source": [
    "hd_df[\"fence\"]=hd_df[\"fence\"].apply(lambda x: 'NoFen' if x == 0 else x)"
   ]
  },
  {
   "cell_type": "code",
   "execution_count": 116,
   "id": "01d44d44-c8f0-4774-b1e5-c21d0c1e4dff",
   "metadata": {},
   "outputs": [
    {
     "data": {
      "text/plain": [
       "NoFen    1651\n",
       "MnPrv     227\n",
       "GdPrv      83\n",
       "GdWo       80\n",
       "MnWw       10\n",
       "Name: fence, dtype: int64"
      ]
     },
     "execution_count": 116,
     "metadata": {},
     "output_type": "execute_result"
    }
   ],
   "source": [
    "hd_df['fence'].value_counts()"
   ]
  },
  {
   "cell_type": "code",
   "execution_count": 117,
   "id": "d1f5b66e-73ee-4739-9d54-6fc4b49ef74c",
   "metadata": {},
   "outputs": [
    {
     "data": {
      "text/plain": [
       "fence\n",
       "NoFen    188558.781345\n",
       "GdPrv    176979.855422\n",
       "MnPrv    147677.969163\n",
       "GdWo     141499.162500\n",
       "MnWw     135165.000000\n",
       "Name: saleprice, dtype: float64"
      ]
     },
     "execution_count": 117,
     "metadata": {},
     "output_type": "execute_result"
    }
   ],
   "source": [
    "hd_df.groupby('fence')['saleprice'].mean().sort_values(ascending = False)"
   ]
  },
  {
   "cell_type": "markdown",
   "id": "c10a95e5-c49f-4983-9316-7910e1211f60",
   "metadata": {},
   "source": [
    "Interesting that not having a fence is highly correlated to just above average sample price"
   ]
  },
  {
   "cell_type": "code",
   "execution_count": 118,
   "id": "33aca9f6-5a33-426b-8155-5bdbca1fd66e",
   "metadata": {},
   "outputs": [],
   "source": [
    "hd_df[\"misc_feature\"]=hd_df[\"misc_feature\"].apply(lambda x: 'NoMsc' if x == 0 else x)"
   ]
  },
  {
   "cell_type": "code",
   "execution_count": 119,
   "id": "de8237d9-1dca-400e-9b6e-38323d7a9c66",
   "metadata": {},
   "outputs": [
    {
     "data": {
      "text/plain": [
       "NoMsc    1986\n",
       "Shed       56\n",
       "Gar2        4\n",
       "Othr        3\n",
       "TenC        1\n",
       "Elev        1\n",
       "Name: misc_feature, dtype: int64"
      ]
     },
     "execution_count": 119,
     "metadata": {},
     "output_type": "execute_result"
    }
   ],
   "source": [
    "hd_df['misc_feature'].value_counts()"
   ]
  },
  {
   "cell_type": "code",
   "execution_count": 120,
   "id": "d8ac9ecc-047c-44b4-84e5-18f157c87da5",
   "metadata": {},
   "outputs": [
    {
     "data": {
      "text/plain": [
       "misc_feature\n",
       "TenC     250000.000000\n",
       "Elev     183850.000000\n",
       "NoMsc    182164.458711\n",
       "Othr     163166.666667\n",
       "Shed     159042.732143\n",
       "Gar2     146500.000000\n",
       "Name: saleprice, dtype: float64"
      ]
     },
     "execution_count": 120,
     "metadata": {},
     "output_type": "execute_result"
    }
   ],
   "source": [
    "hd_df.groupby('misc_feature')['saleprice'].mean().sort_values(ascending = False)"
   ]
  },
  {
   "cell_type": "markdown",
   "id": "c3295513-c7f8-4e3f-9829-c1b1580b5e20",
   "metadata": {},
   "source": [
    "This could be combined with the value added feature to make an interesting interaction term"
   ]
  },
  {
   "cell_type": "code",
   "execution_count": 121,
   "id": "7d7cc552-beae-4450-ae7b-173123d1b035",
   "metadata": {},
   "outputs": [
    {
     "data": {
      "text/plain": [
       "WD       1781\n",
       "New       160\n",
       "COD        63\n",
       "ConLD      17\n",
       "CWD        10\n",
       "ConLI       7\n",
       "ConLw       5\n",
       "Con         4\n",
       "Oth         4\n",
       "Name: sale_type, dtype: int64"
      ]
     },
     "execution_count": 121,
     "metadata": {},
     "output_type": "execute_result"
    }
   ],
   "source": [
    "hd_df['sale_type'].value_counts()"
   ]
  },
  {
   "cell_type": "code",
   "execution_count": 122,
   "id": "61a4a57d-182e-4d9e-9853-c2038bec90bb",
   "metadata": {},
   "outputs": [
    {
     "data": {
      "text/plain": [
       "sale_type\n",
       "New      279021.056250\n",
       "Con      241807.500000\n",
       "ConLI    207992.857143\n",
       "CWD      186635.000000\n",
       "WD       174912.251544\n",
       "COD      133574.523810\n",
       "ConLD    129091.352941\n",
       "Oth      127497.750000\n",
       "ConLw    124600.000000\n",
       "Name: saleprice, dtype: float64"
      ]
     },
     "execution_count": 122,
     "metadata": {},
     "output_type": "execute_result"
    }
   ],
   "source": [
    "hd_df.groupby('sale_type')['saleprice'].mean().sort_values(ascending = False)"
   ]
  },
  {
   "cell_type": "markdown",
   "id": "25183fc5-fb86-49ef-aa14-9773bcbcd8ff",
   "metadata": {},
   "source": [
    "high leverage positive feature with the new house sales"
   ]
  },
  {
   "cell_type": "markdown",
   "id": "814bd760-64c8-4ceb-9cdb-374e7db26b58",
   "metadata": {},
   "source": [
    "## Visualization"
   ]
  },
  {
   "cell_type": "code",
   "execution_count": 123,
   "id": "33cdfc47-0f51-4c86-ae76-e80c8b7d1cf2",
   "metadata": {},
   "outputs": [],
   "source": [
    "sns.set(font_scale =2) "
   ]
  },
  {
   "cell_type": "code",
   "execution_count": 124,
   "id": "f85f6ef5-bb51-40a0-bbee-90ad619fbeaf",
   "metadata": {
    "tags": []
   },
   "outputs": [
    {
     "data": {
      "image/png": "[encoded data removed]",
      "text/plain": [
       "<Figure size 1800x720 with 1 Axes>"
      ]
     },
     "metadata": {},
     "output_type": "display_data"
    }
   ],
   "source": [
    "plt.figure(figsize=(25,10))\n",
    "sns.boxplot(x=\"ms_subclass\", y=\"saleprice\", data=hd_df,width=0.42)\n",
    "plt.axhline(hd_df['saleprice'].median(), color = 'Red')\n",
    "plt.title('Sale Price vs Property Class', size=32)\n",
    "plt.xlabel('Property Class', size = 24)\n",
    "plt.ylabel('Sale Price', size = 24)\n",
    "plt.grid(1,linewidth=3)"
   ]
  },
  {
   "cell_type": "markdown",
   "id": "5fa288b1-1160-45e7-a130-7a7fb344729b",
   "metadata": {
    "tags": []
   },
   "source": [
    "MS Subclass categories for dummies"
   ]
  },
  {
   "cell_type": "code",
   "execution_count": 125,
   "id": "3262ac1e-0183-4289-bd2b-75a3a35a4926",
   "metadata": {},
   "outputs": [
    {
     "data": {
      "image/png": "[encoded data removed]",
      "text/plain": [
       "<Figure size 1800x720 with 1 Axes>"
      ]
     },
     "metadata": {},
     "output_type": "display_data"
    }
   ],
   "source": [
    "plt.figure(figsize=(25,10))\n",
    "sns.boxplot(x=\"neighborhood\", y=\"saleprice\", data=hd_df,width=0.42)\n",
    "plt.axhline(hd_df['saleprice'].mean(), color = 'Red');\n",
    "plt.title('Sale Price vs Neighborhood', size=32)\n",
    "plt.xlabel('Property Location', size = 24)\n",
    "plt.ylabel('Sale Price', size = 24)\n",
    "plt.grid(1,linewidth=3)"
   ]
  },
  {
   "cell_type": "code",
   "execution_count": 126,
   "id": "4de1f41f-23f5-4093-927d-8706a5a50bc7",
   "metadata": {},
   "outputs": [
    {
     "data": {
      "image/png": "[encoded data removed]",
      "text/plain": [
       "<Figure size 1440x720 with 1 Axes>"
      ]
     },
     "metadata": {},
     "output_type": "display_data"
    }
   ],
   "source": [
    "plt.figure(figsize=(20,10))\n",
    "sns.histplot(data=hd_df,x=\"saleprice\");\n",
    "plt.axvline(hd_df['saleprice'].median(), color = 'Red');\n",
    "plt.xlabel('Sale Price', size = 24)\n",
    "plt.title('Sale Price Histogram with Sample Mean: 181470', size=32);"
   ]
  },
  {
   "cell_type": "code",
   "execution_count": 127,
   "id": "253d156f-11b0-43f2-8c5f-9f99ed5a3289",
   "metadata": {},
   "outputs": [
    {
     "data": {
      "image/png": "[encoded data removed]",
      "text/plain": [
       "<Figure size 1440x720 with 1 Axes>"
      ]
     },
     "metadata": {},
     "output_type": "display_data"
    }
   ],
   "source": [
    "plt.figure(figsize=(20,10))\n",
    "plt.scatter(hd_df['gr_liv_area'],hd_df['saleprice']);\n",
    "plt.title('Sale Price vs Ground Level Living Space', size=32)\n",
    "plt.xlabel('Ground Level (ft^2)', size = 24)\n",
    "plt.ylabel('Sale Price', size = 24);"
   ]
  },
  {
   "cell_type": "markdown",
   "id": "575c8898-a2ac-48d8-9791-291e7125d044",
   "metadata": {},
   "source": [
    "## Feature Engineering"
   ]
  },
  {
   "cell_type": "markdown",
   "id": "22b40263-1901-4b8b-a532-b3cca95f93af",
   "metadata": {},
   "source": [
    "Enumerating and setting up for feature engineering on location/area"
   ]
  },
  {
   "cell_type": "code",
   "execution_count": 128,
   "id": "b6167566-c19a-4d8c-9b05-30ca71e9fc5f",
   "metadata": {
    "tags": []
   },
   "outputs": [],
   "source": [
    "hd_df['ms_subclass']=hd_df['ms_subclass'].map({60:'MSSupper',120:'MSSupper',75:'MSSupper',20:'MSSmean',80:'MSSmean',85:'MSSlow',70:'MSSlow',\\\n",
    "                                               150:'MSSlow',90:'MSSlow',160:'MSSlow',50:'MSSlow',190:'MSSlow',40:'MSSlow',180:'MSSlow',45:'MSSlow',30:'MSSlow'})  #setting up for dummies\n",
    "hd_df['ms_zoning']=hd_df['ms_zoning'].map({'FV':FV_val,'RL':RL_val,'RP':RL_val,'RH':RH_val,'RM':RM_val,'C (all)':C_val,'I (all)':I_val,'A (all)':A_val})  #obs mean/sample mean\n",
    "hd_df['alley']=hd_df['alley'].map({'Pave':Pave_val,'Grvl':Grvl_val}) #setting up alley, normalized to mean, no alley is 1\n",
    "hd_df['street']=hd_df['street'].map({'Pave':1,'Grvl':0}) #binary, not using \n",
    "hd_df['land_slope']=hd_df['land_slope'].map({'Mod':3,'Sev':2,'Gtl':1}) #ordinal enumerated\n",
    "hd_df['lot_shape']=hd_df['lot_shape'].map({'IR2':4,'IR3':3,'IR1':2,'Reg':1})  #ordinal enumerated\n",
    "hd_df['land_contour']=hd_df['land_contour'].map({'HLS':HLS_val,'Low':Low_val,'Lvl':Lvl_val,'Bnk':Bnk_val})  #mean scaled\n",
    "hd_df['lot_config']=hd_df['lot_config'].map({'CulDSac':CulDSac_val,'Inside':Inside_val,'Corner':Corner_val,'FR2':FR2_val,'FR3':FR3_val}) #mean scaled\n",
    "hd_df['land_interaction']=hd_df['lot_config']*hd_df['land_contour'] #creating an interaction term"
   ]
  },
  {
   "cell_type": "markdown",
   "id": "9ae0f76e-a26a-46a0-81e7-6ca040b54708",
   "metadata": {},
   "source": [
    "Exterior features hot encoding"
   ]
  },
  {
   "cell_type": "code",
   "execution_count": 129,
   "id": "4df8c573-1c8b-494f-a9cc-34b897145fbe",
   "metadata": {
    "tags": []
   },
   "outputs": [],
   "source": [
    "hd_df['roof_style']=hd_df['roof_style'].map({'Gable':0,'Hip':1,'Flat':1,'Mansard':0,'Shed':1,'Gambrel':0}) #one-hot encode over dummy\n",
    "hd_df['bldg_type']=hd_df['bldg_type'].map({'1Fam':1,'2fmCon':0,'Duplex':0,'TwnhsE':1,'Twnhs':0})  # hard bias on non single family and end units helped improve model\n",
    "hd_df['exterior_1st']=hd_df['exterior_1st'].map({'VinylSd':3,'MetalSd':1,'HdBoard':2,'Wd Sdng':1,'Plywood':2,'CemntBd':4,'BrkFace':2,'WdShing':1,'AsbShng':0,'Stucco':1,'BrkComm':2,'Stone':5,'CBlock':0,'ImStucc':5,'AsphShn':0,'Other':0,'Precast':0})\n",
    "# put some hard bias on the values above the median house price on Exterior 1, might need to tweak this or add in Exterior 2 in combination to make better feature\n",
    "hd_df['exter_qual']=hd_df['exter_qual'].map({'Ex':3,'Gd':2,'TA':1,'Fa':0})"
   ]
  },
  {
   "cell_type": "markdown",
   "id": "18c59ab5-ac3f-4695-b19f-6c8ceb4ccb3f",
   "metadata": {
    "tags": []
   },
   "source": [
    "Basement and foundation information enumeration"
   ]
  },
  {
   "cell_type": "code",
   "execution_count": 130,
   "id": "c7c01125-262d-4aed-8a16-58d932cf7fc8",
   "metadata": {
    "tags": []
   },
   "outputs": [],
   "source": [
    "hd_df['foundation']=hd_df['foundation'].map({'CBlock':1,'PConc':2,'Wood':1,'BrkTil':0,'Slab':0,'Stone':0})\n",
    "hd_df['bsmt_qual']=hd_df['bsmt_qual'].map({'Ex':5,'Gd':4,'TA':3,'Fa':2,'Po':0})\n",
    "hd_df['bsmt_exposure']=hd_df['bsmt_exposure'].map({'No':1,'Gd':4,'Av':3,'Mn':2})\n",
    "hd_df['bsmtfin_type_2']=hd_df['bsmtfin_type_2'].map({'GLQ':6,'Unf':5,'ALQ':4,'Rec':3,'BLQ':2,'LwQ':1})"
   ]
  },
  {
   "cell_type": "markdown",
   "id": "6081d687-0564-47f8-962e-ca8a5b244dc5",
   "metadata": {
    "tags": []
   },
   "source": [
    "Heating and Garage finish enumerated"
   ]
  },
  {
   "cell_type": "code",
   "execution_count": 131,
   "id": "90ec9006-b327-4436-a32a-86f01277ee94",
   "metadata": {},
   "outputs": [],
   "source": [
    "hd_df['heating_qc']=hd_df['heating_qc'].map({'Ex':5,'Gd':4,'TA':3,'Fa':2,'Po':1})"
   ]
  },
  {
   "cell_type": "code",
   "execution_count": 132,
   "id": "d2bb1af8-1d3a-4622-b47b-e90686b29c5c",
   "metadata": {
    "tags": []
   },
   "outputs": [],
   "source": [
    "hd_df['garage_finish']=hd_df['garage_finish'].map({'Fin':4,'RFn':3,'Unf':2,'NoGar':1})"
   ]
  },
  {
   "cell_type": "markdown",
   "id": "6eefba67-23b7-4e73-a60f-fa1804079947",
   "metadata": {},
   "source": [
    "This is a high leverage interaction term that I created by hot encoding feature values that were in close proximity to the first standard deviation above the mean.  "
   ]
  },
  {
   "cell_type": "code",
   "execution_count": 133,
   "id": "37164252-7fa1-43d1-a00c-65c773e0c016",
   "metadata": {},
   "outputs": [],
   "source": [
    "hd_df['sale_type']=hd_df['sale_type'].map({'New':1,'WD':0,'COD':0,'ConLD':0,'CWD':0,'ConLI':0,'ConLw':0,'Con':0,'Oth':0,'VWD':0})\n",
    "hd_df['garage_type']=hd_df['garage_type'].map({'BuiltIn':1,'Attchd':0,'2Types':0,'Basement':0,'Detchd':0,'NoGar':0,'CarPort':0})\n",
    "hd_df['fireplace_qu']=hd_df['fireplace_qu'].map({'Ex':1,'Gd':1,'TA':0,'Fa':0,'NoFp':0,'Po':0})\n",
    "hd_df['mas_vnr_type']=hd_df['mas_vnr_type'].map({'Stone':1,'BrkFace':0,'None':0,'BrkCmn':0})\n",
    "hd_df[\"sale_type\"]=hd_df[\"sale_type\"].map(lambda x: np.nan_to_num(x))"
   ]
  },
  {
   "cell_type": "code",
   "execution_count": 134,
   "id": "74d64fc8-ca18-41d9-8053-68bf9dfdb316",
   "metadata": {
    "tags": []
   },
   "outputs": [],
   "source": [
    "hd_df['leverage_pos']=hd_df['sale_type']+hd_df['garage_type']+hd_df['fireplace_qu']+hd_df['mas_vnr_type']"
   ]
  },
  {
   "cell_type": "code",
   "execution_count": 135,
   "id": "89f3e477-3b98-4f74-81b7-a43322653cd2",
   "metadata": {},
   "outputs": [],
   "source": [
    "hd_df[\"leverage_pos\"]=hd_df[\"leverage_pos\"].map(lambda x: np.nan_to_num(x))"
   ]
  },
  {
   "cell_type": "code",
   "execution_count": 136,
   "id": "b8198e38-c54d-4f41-83ec-fd45b949dc90",
   "metadata": {},
   "outputs": [
    {
     "data": {
      "text/plain": [
       "ms_subclass\n",
       "MSSmean        856\n",
       "MSSlow         653\n",
       "MSSupper       542\n",
       "dtype: int64"
      ]
     },
     "execution_count": 136,
     "metadata": {},
     "output_type": "execute_result"
    }
   ],
   "source": [
    "hd_df[['ms_subclass']].value_counts()"
   ]
  },
  {
   "cell_type": "code",
   "execution_count": 137,
   "id": "4c24b07d-b44f-4f5c-a12b-92a05c7993e9",
   "metadata": {
    "tags": []
   },
   "outputs": [],
   "source": [
    "neighbor_dum_df=pd.get_dummies(hd_df['neighborhood'], prefix=None, prefix_sep='_', dummy_na=False, columns=None, sparse=False, drop_first=False, dtype=None)\n",
    "mssubclass_dum_df=pd.get_dummies(hd_df['ms_subclass'], prefix=None, prefix_sep='_', dummy_na=False, columns=None, sparse=False, drop_first=False, dtype=None)"
   ]
  },
  {
   "cell_type": "code",
   "execution_count": 138,
   "id": "d1864639-9177-4301-86eb-589f652837d0",
   "metadata": {
    "tags": []
   },
   "outputs": [],
   "source": [
    "neighbor_dum_df.drop(columns=['n_class_4'],inplace=True)  #removing Greens, low observation count and close to sample mean for SalePrice\n",
    "mssubclass_dum_df.drop(columns=['MSSmean'],inplace=True)  #removing values around the mean"
   ]
  },
  {
   "cell_type": "code",
   "execution_count": 139,
   "id": "7a9cf180-76de-4846-9010-9fabddab5be1",
   "metadata": {},
   "outputs": [],
   "source": [
    "hd_df=pd.concat([hd_df,neighbor_dum_df],axis=1)"
   ]
  },
  {
   "cell_type": "code",
   "execution_count": 140,
   "id": "6c2fa9b1-84ec-4106-87ff-977e69f0c92e",
   "metadata": {},
   "outputs": [],
   "source": [
    "hd_df=pd.concat([hd_df,mssubclass_dum_df],axis=1)"
   ]
  },
  {
   "cell_type": "code",
   "execution_count": 141,
   "id": "4475a231-716e-4085-bc7e-31ecda36ddc8",
   "metadata": {},
   "outputs": [],
   "source": [
    "dummy_list_neighborhood=list(neighbor_dum_df.columns)\n",
    "dummy_list_mssubclass=list(mssubclass_dum_df.columns)"
   ]
  },
  {
   "cell_type": "code",
   "execution_count": 142,
   "id": "19c8e9fa-a362-4352-baee-b47cc711f18b",
   "metadata": {},
   "outputs": [],
   "source": [
    "hd_df['alley']=hd_df['alley'].map({'Pave':2,'Grvl':0})\n",
    "hd_df[\"alley\"]=hd_df[\"alley\"].map(lambda x: np.nan_to_num(x,copy=True, nan=1, posinf=None, neginf=None))"
   ]
  },
  {
   "cell_type": "code",
   "execution_count": 143,
   "id": "f757d6d2-d04c-4f55-9cc4-dc25de1f9fa9",
   "metadata": {
    "tags": []
   },
   "outputs": [],
   "source": [
    "NumFea=['overall_qual','gr_liv_area','garage_area',\\\n",
    "        'full_bath','mas_vnr_area','fireplaces','lot_frontage','lot_area','half_bath',\\\n",
    "        'bsmt_full_bath','ms_zoning','bsmtfin_type_2','leverage_pos',\\\n",
    "        'land_slope','bldg_type','exterior_1st','exter_qual','garage_finish',\\\n",
    "        'bsmt_qual','bsmt_exposure','roof_style','land_interaction','heating_qc'] "
   ]
  },
  {
   "cell_type": "code",
   "execution_count": 144,
   "id": "1a33a3d5-8154-42e4-844e-bc84f22c88f3",
   "metadata": {},
   "outputs": [],
   "source": [
    "NumFea=NumFea+dummy_list_neighborhood+dummy_list_mssubclass"
   ]
  },
  {
   "cell_type": "code",
   "execution_count": 145,
   "id": "8f8e3193-5c95-469b-84f1-2864a6367ca5",
   "metadata": {},
   "outputs": [],
   "source": [
    "#hd_df[NumFea].describe().T"
   ]
  },
  {
   "cell_type": "code",
   "execution_count": 146,
   "id": "56d27b55-7d82-4ab2-a2d3-8c091c500882",
   "metadata": {},
   "outputs": [],
   "source": [
    "#hd_df[NumFea].isna().sum()"
   ]
  },
  {
   "cell_type": "code",
   "execution_count": 147,
   "id": "234f4436-8e94-44de-9f34-5c3e6ae07602",
   "metadata": {},
   "outputs": [],
   "source": [
    "hd_df[\"garage_area\"]=hd_df[\"garage_area\"].map(lambda x: np.nan_to_num(x))  #Only one NA value\n",
    "hd_df[\"mas_vnr_area\"]=hd_df[\"mas_vnr_area\"].map(lambda x: np.nan_to_num(x))\n",
    "hd_df[\"total_bsmt_sf\"]=hd_df[\"total_bsmt_sf\"].map(lambda x: np.nan_to_num(x)) #Only one NA value\n",
    "hd_df[\"lot_frontage\"]=hd_df[\"lot_frontage\"].map(lambda x: np.nan_to_num(x)) \n",
    "hd_df[\"bsmt_full_bath\"]=hd_df[\"bsmt_full_bath\"].map(lambda x: np.nan_to_num(x)) #Only two NA value\n",
    "hd_df[\"ms_zoning\"]=hd_df[\"ms_zoning\"].map(lambda x: np.nan_to_num(x))\n",
    "hd_df[\"lot_config\"]=hd_df[\"lot_config\"].map(lambda x: np.nan_to_num(x))\n",
    "hd_df[\"bsmt_qual\"]=hd_df[\"bsmt_qual\"].map(lambda x: np.nan_to_num(x))  #we can just null these since no basement is the NA value\n",
    "hd_df[\"bsmt_exposure\"]=hd_df[\"bsmt_exposure\"].map(lambda x: np.nan_to_num(x)) #we can just null these since no basement is the NA value\n",
    "hd_df[\"bsmtfin_type_2\"]=hd_df[\"bsmtfin_type_2\"].map(lambda x: np.nan_to_num(x)) #we can just null these since no basement is the NA value\n",
    "hd_df[\"bsmtfin_type_1\"]=hd_df[\"bsmtfin_type_1\"].map(lambda x: np.nan_to_num(x)) #we can just null these since no basement is the NA value\n",
    "hd_df[\"bsmt_cond\"]=hd_df[\"bsmt_cond\"].map(lambda x: np.nan_to_num(x)) #we can just null these since no basement is the NA value\n",
    "hd_df['pool_qc']=hd_df['pool_qc'].map(lambda x: np.nan_to_num(x))\n",
    "hd_df['misc_val']=hd_df['misc_val'].map(lambda x: np.nan_to_num(x))\n",
    "hd_df['misc_feature']=hd_df['misc_feature'].map(lambda x: np.nan_to_num(x))\n",
    "hd_df['fence']=hd_df['fence'].map(lambda x: np.nan_to_num(x))\n",
    "hd_df['fireplace_qu']=hd_df['fireplace_qu'].map(lambda x: np.nan_to_num(x))\n",
    "hd_df['electrical']=hd_df['electrical'].map(lambda x: np.nan_to_num(x))"
   ]
  },
  {
   "cell_type": "markdown",
   "id": "94081d0a-07a4-49d7-bd9f-ca342ecd5bae",
   "metadata": {},
   "source": [
    "### Attempted Clever Cleaning"
   ]
  },
  {
   "cell_type": "markdown",
   "id": "6c80bcd8-4fe0-419c-97bd-322e80fa93fa",
   "metadata": {},
   "source": [
    "Below is an attempt to clean the large number of NAN values in lot frontage by scaling the values based off of lot area.  While the result was something more interesting then setting the value to the sample mean or null, this is probably causing overfitting on the model.  Below is the work done for it however seeing as it was used"
   ]
  },
  {
   "cell_type": "code",
   "execution_count": 148,
   "id": "9e2bebd0-b2ce-4b80-aa47-3d0ff2b5843b",
   "metadata": {
    "tags": []
   },
   "outputs": [],
   "source": [
    "front_filtered=hd_df[hd_df['lot_frontage']>0]"
   ]
  },
  {
   "cell_type": "code",
   "execution_count": 149,
   "id": "87aeb1b4-5fc6-40a7-a967-ee8180cec70a",
   "metadata": {},
   "outputs": [
    {
     "data": {
      "text/plain": [
       "57.94441735738664"
      ]
     },
     "execution_count": 149,
     "metadata": {},
     "output_type": "execute_result"
    }
   ],
   "source": [
    "hd_df['lot_frontage'].mean()"
   ]
  },
  {
   "cell_type": "code",
   "execution_count": 150,
   "id": "c666a1bc-f5c3-4ca9-bfbd-d2aecf199f65",
   "metadata": {
    "tags": []
   },
   "outputs": [
    {
     "data": {
      "text/plain": [
       "68.0"
      ]
     },
     "execution_count": 150,
     "metadata": {},
     "output_type": "execute_result"
    }
   ],
   "source": [
    "front_filtered['lot_frontage'].median()"
   ]
  },
  {
   "cell_type": "code",
   "execution_count": 151,
   "id": "63b3c141-8569-4fa5-89cc-deb95a9cf2bb",
   "metadata": {
    "tags": []
   },
   "outputs": [
    {
     "data": {
      "text/plain": [
       "14617.28785849153"
      ]
     },
     "execution_count": 151,
     "metadata": {},
     "output_type": "execute_result"
    }
   ],
   "source": [
    "front_filtered['lot_area'].mean()+front_filtered['lot_area'].std()"
   ]
  },
  {
   "cell_type": "code",
   "execution_count": 152,
   "id": "f1010107-0535-4c57-a3fe-5a0c6e439a9d",
   "metadata": {},
   "outputs": [
    {
     "data": {
      "text/plain": [
       "92.31585388749828"
      ]
     },
     "execution_count": 152,
     "metadata": {},
     "output_type": "execute_result"
    }
   ],
   "source": [
    "front_filtered['lot_frontage'].mean()+front_filtered['lot_frontage'].std()"
   ]
  },
  {
   "cell_type": "code",
   "execution_count": 153,
   "id": "3e0cb329-226e-41a8-99ae-e63385d2230a",
   "metadata": {},
   "outputs": [],
   "source": [
    "lr=LinearRegression()"
   ]
  },
  {
   "cell_type": "code",
   "execution_count": 154,
   "id": "e303945b-8aba-4e36-8e5e-5b1d8b5f367d",
   "metadata": {},
   "outputs": [],
   "source": [
    "X1=front_filtered[['lot_area']]\n",
    "y1=front_filtered['lot_frontage']"
   ]
  },
  {
   "cell_type": "code",
   "execution_count": 155,
   "id": "304024a4-8c88-4402-8e4c-742687e84779",
   "metadata": {},
   "outputs": [
    {
     "name": "stdout",
     "output_type": "stream",
     "text": [
      "43.33160738510908\n",
      "0.0026732574575175556\n"
     ]
    }
   ],
   "source": [
    "lr_front_m=lr.fit(X1,y1)\n",
    "b0=lr_front_m.intercept_\n",
    "print(b0)\n",
    "b1=lr_front_m.coef_[0]\n",
    "print(b1)"
   ]
  },
  {
   "cell_type": "code",
   "execution_count": 156,
   "id": "6b67053d-f3f1-46c1-8a7c-3edc0db34227",
   "metadata": {},
   "outputs": [
    {
     "data": {
      "text/plain": [
       "2051"
      ]
     },
     "execution_count": 156,
     "metadata": {},
     "output_type": "execute_result"
    }
   ],
   "source": [
    "len(hd_df['lot_frontage'])"
   ]
  },
  {
   "cell_type": "code",
   "execution_count": 157,
   "id": "9209bebf-6bb0-40e8-9f3d-4291e2d458b2",
   "metadata": {},
   "outputs": [
    {
     "data": {
      "image/png": "[encoded data removed]",
      "text/plain": [
       "<Figure size 1440x720 with 1 Axes>"
      ]
     },
     "metadata": {},
     "output_type": "display_data"
    }
   ],
   "source": [
    "plt.figure(figsize=(20,10)) \n",
    "sns.scatterplot(data=hd_df,x=\"lot_area\",y=\"lot_frontage\");"
   ]
  },
  {
   "cell_type": "code",
   "execution_count": 158,
   "id": "a477f232-74cd-4fa5-bddb-994e3e3c6cf8",
   "metadata": {
    "tags": []
   },
   "outputs": [],
   "source": [
    "def lot_frontage_conv(b_0,b_1,mu_f):\n",
    "    #this function will set nulled lot frontage values to an estimated value based on the other \n",
    "    #data, and it will set the lot frontage of outliers to the mean of the set\n",
    "    for x_iter in range(len(hd_df['lot_frontage'])):\n",
    "        if hd_df.loc[x_iter,'lot_area'] > 80000: hd_df.loc[x_iter,'lot_frontage'] = mu_f\n",
    "        elif  hd_df.loc[x_iter,'lot_frontage'] == 0: hd_df.loc[x_iter,'lot_frontage'] = b_0+b_1*hd_df.loc[x_iter,'lot_area']"
   ]
  },
  {
   "cell_type": "code",
   "execution_count": 159,
   "id": "360a0e48-3f94-47f9-a11b-3ca86987dfa0",
   "metadata": {},
   "outputs": [],
   "source": [
    "lot_frontage_conv(b0,b1,front_filtered['lot_frontage'].mean())"
   ]
  },
  {
   "cell_type": "code",
   "execution_count": 160,
   "id": "dead70d7-c1c9-4694-ace1-e6a8c27b8a65",
   "metadata": {
    "tags": []
   },
   "outputs": [],
   "source": [
    "#front_filtered['lot_area'].describe().T"
   ]
  },
  {
   "cell_type": "code",
   "execution_count": 161,
   "id": "815f29f5-f40e-47cc-b3f8-5ff29f882131",
   "metadata": {},
   "outputs": [
    {
     "data": {
      "text/plain": [
       "0       79.466028\n",
       "1       43.000000\n",
       "2       68.000000\n",
       "3       73.000000\n",
       "4       82.000000\n",
       "          ...    \n",
       "2046    79.000000\n",
       "2047    76.324951\n",
       "2048    57.000000\n",
       "2049    80.000000\n",
       "2050    60.000000\n",
       "Name: lot_frontage, Length: 2051, dtype: float64"
      ]
     },
     "execution_count": 161,
     "metadata": {},
     "output_type": "execute_result"
    }
   ],
   "source": [
    "hd_df['lot_frontage']"
   ]
  },
  {
   "cell_type": "code",
   "execution_count": 162,
   "id": "7ea9aa96-764b-4527-a500-8447215f7e0e",
   "metadata": {},
   "outputs": [
    {
     "data": {
      "image/png": "[encoded data removed]",
      "text/plain": [
       "<Figure size 1440x720 with 1 Axes>"
      ]
     },
     "metadata": {},
     "output_type": "display_data"
    }
   ],
   "source": [
    "plt.figure(figsize=(20,10)) \n",
    "sns.scatterplot(data=hd_df,x=\"lot_area\",y=\"lot_frontage\");"
   ]
  },
  {
   "cell_type": "markdown",
   "id": "a85be07f-3faf-4d48-86ae-12230205d8d6",
   "metadata": {
    "tags": []
   },
   "source": [
    "Surely this would not cause issues of bias and reduce the variance of the model!  -__-"
   ]
  },
  {
   "cell_type": "code",
   "execution_count": 163,
   "id": "c1ed2fa8-cf9a-45b7-8510-11cbf160cd66",
   "metadata": {},
   "outputs": [
    {
     "data": {
      "text/plain": [
       "overall_qual        0\n",
       "exter_qual          0\n",
       "MSSlow              0\n",
       "n_class_7           0\n",
       "n_class_6           0\n",
       "n_class_5           0\n",
       "n_class_3           0\n",
       "n_class_2           0\n",
       "n_class_1           0\n",
       "heating_qc          0\n",
       "land_interaction    0\n",
       "roof_style          0\n",
       "bsmt_exposure       0\n",
       "bsmt_qual           0\n",
       "garage_finish       0\n",
       "exterior_1st        0\n",
       "gr_liv_area         0\n",
       "bldg_type           0\n",
       "land_slope          0\n",
       "leverage_pos        0\n",
       "bsmtfin_type_2      0\n",
       "ms_zoning           0\n",
       "bsmt_full_bath      0\n",
       "half_bath           0\n",
       "lot_area            0\n",
       "lot_frontage        0\n",
       "fireplaces          0\n",
       "dtype: int64"
      ]
     },
     "execution_count": 163,
     "metadata": {},
     "output_type": "execute_result"
    }
   ],
   "source": [
    "pd.set_option('display.max_rows',27)\n",
    "hd_df[NumFea].isna().sum().sort_values(ascending=False).head(27)"
   ]
  },
  {
   "cell_type": "markdown",
   "id": "27972e9b-bbf2-4e77-91bf-96b0de204586",
   "metadata": {},
   "source": [
    "Pre-model fitting check of NAN values"
   ]
  },
  {
   "cell_type": "markdown",
   "id": "75a6823d-9248-4641-bcf1-cbed963d122a",
   "metadata": {},
   "source": [
    "## Modeling"
   ]
  },
  {
   "cell_type": "code",
   "execution_count": 164,
   "id": "10c25274-c677-4033-a171-413ac3aa91ce",
   "metadata": {},
   "outputs": [],
   "source": [
    "X=hd_df[NumFea]\n",
    "y=hd_df['saleprice']"
   ]
  },
  {
   "cell_type": "code",
   "execution_count": 165,
   "id": "4023b14f-bf8b-4690-838e-6eb0db929405",
   "metadata": {
    "tags": []
   },
   "outputs": [
    {
     "data": {
      "text/plain": [
       "(2051, 31)"
      ]
     },
     "execution_count": 165,
     "metadata": {},
     "output_type": "execute_result"
    }
   ],
   "source": [
    "X.shape"
   ]
  },
  {
   "cell_type": "code",
   "execution_count": 166,
   "id": "19ed5079-aa85-49cb-8a99-f98da297ba0d",
   "metadata": {},
   "outputs": [
    {
     "data": {
      "text/plain": [
       "(2051,)"
      ]
     },
     "execution_count": 166,
     "metadata": {},
     "output_type": "execute_result"
    }
   ],
   "source": [
    "y.shape"
   ]
  },
  {
   "cell_type": "code",
   "execution_count": 167,
   "id": "8823c754-1ec9-49d7-a5fd-1dd9541505fa",
   "metadata": {},
   "outputs": [],
   "source": [
    "X_train, X_test, y_train, y_test = train_test_split(X, y, random_state = 42)"
   ]
  },
  {
   "cell_type": "code",
   "execution_count": 168,
   "id": "fe3ee27d-4641-4ee8-b55d-e6b7913aa21f",
   "metadata": {},
   "outputs": [],
   "source": [
    "y_null_train=np.full_like(y_train,np.mean(y_train))\n",
    "y_null_test=np.full_like(y_test,np.mean(y_train))"
   ]
  },
  {
   "cell_type": "code",
   "execution_count": 169,
   "id": "fbcde7f7-ea5b-409b-a763-dd7a373c844e",
   "metadata": {},
   "outputs": [],
   "source": [
    "ss = StandardScaler()\n",
    "ss.fit(X_train)\n",
    "X_train = ss.transform(X_train)\n",
    "# could have done in one step X_train fit_transform(X_train)\n",
    "X_test = ss.transform(X_test)"
   ]
  },
  {
   "cell_type": "code",
   "execution_count": 170,
   "id": "9c42512f-d964-4496-8be0-441cac9fa2d2",
   "metadata": {},
   "outputs": [],
   "source": [
    "lr=LinearRegression()\n",
    "lasso=LassoCV(n_alphas=200)\n",
    "ridge=RidgeCV(alphas=np.linspace(.01, 100, 1000),fit_intercept=True)"
   ]
  },
  {
   "cell_type": "code",
   "execution_count": 171,
   "id": "f68b8695-52fa-4cc3-bfb9-49b721e7e2f4",
   "metadata": {},
   "outputs": [],
   "source": [
    "lrmodel=lr.fit(X_train,y_train)"
   ]
  },
  {
   "cell_type": "code",
   "execution_count": 172,
   "id": "f6809446-2d96-4a9d-ad41-1d453cd4a724",
   "metadata": {},
   "outputs": [],
   "source": [
    "lrmodel_scores = cross_val_score(lr,X_train,y_train,cv=4)"
   ]
  },
  {
   "cell_type": "code",
   "execution_count": 173,
   "id": "79947c7c-2a4e-4257-b6e7-c42e55079c4f",
   "metadata": {},
   "outputs": [
    {
     "name": "stdout",
     "output_type": "stream",
     "text": [
      "[0.87299157 0.84189536 0.88028512 0.71833785]\n"
     ]
    }
   ],
   "source": [
    "print(lrmodel_scores)"
   ]
  },
  {
   "cell_type": "code",
   "execution_count": 174,
   "id": "f0a2e133-d9cf-4f97-baeb-447a70e6665a",
   "metadata": {},
   "outputs": [],
   "source": [
    "lasso_scores= cross_val_score(lasso,X_train,y_train,cv=4)"
   ]
  },
  {
   "cell_type": "code",
   "execution_count": 175,
   "id": "3a0f93dd-4a6c-493e-95d0-c36678cc97e7",
   "metadata": {},
   "outputs": [
    {
     "name": "stdout",
     "output_type": "stream",
     "text": [
      "[0.87327625 0.84375768 0.88297248 0.71808316]\n"
     ]
    }
   ],
   "source": [
    "print(lasso_scores)"
   ]
  },
  {
   "cell_type": "code",
   "execution_count": 176,
   "id": "7dda10cc-94b3-4996-af94-46bb45ccfaff",
   "metadata": {},
   "outputs": [],
   "source": [
    "ridge_scores = cross_val_score(ridge,X_train,y_train,cv=4)"
   ]
  },
  {
   "cell_type": "code",
   "execution_count": 177,
   "id": "0c4f908d-19a6-4458-9284-447b36e1f6a0",
   "metadata": {},
   "outputs": [
    {
     "name": "stdout",
     "output_type": "stream",
     "text": [
      "[0.87197356 0.84014106 0.88176911 0.7225762 ]\n"
     ]
    }
   ],
   "source": [
    "print(ridge_scores)"
   ]
  },
  {
   "cell_type": "code",
   "execution_count": 178,
   "id": "415c5bd5-d99e-4e36-acde-4f09c70704bf",
   "metadata": {},
   "outputs": [],
   "source": [
    "y_preds=lrmodel.predict(X_test)"
   ]
  },
  {
   "cell_type": "code",
   "execution_count": 179,
   "id": "27a96057-b33d-4231-8db9-a51da29de9e0",
   "metadata": {},
   "outputs": [
    {
     "data": {
      "text/plain": [
       "0.872919843230908"
      ]
     },
     "execution_count": 179,
     "metadata": {},
     "output_type": "execute_result"
    }
   ],
   "source": [
    "ms.r2_score(y_test,y_preds)"
   ]
  },
  {
   "cell_type": "code",
   "execution_count": 180,
   "id": "80c769a7-1506-42da-a40a-30e4e7b66e7f",
   "metadata": {},
   "outputs": [
    {
     "data": {
      "text/plain": [
       "780275305.2940136"
      ]
     },
     "execution_count": 180,
     "metadata": {},
     "output_type": "execute_result"
    }
   ],
   "source": [
    "ms.mean_squared_error(y_test,y_preds)"
   ]
  },
  {
   "cell_type": "code",
   "execution_count": 181,
   "id": "4bd3d52a-94fe-49e6-a0f8-b54e07c74912",
   "metadata": {},
   "outputs": [
    {
     "data": {
      "text/plain": [
       "'2.793341e+04'"
      ]
     },
     "execution_count": 181,
     "metadata": {},
     "output_type": "execute_result"
    }
   ],
   "source": [
    "\"{:e}\".format(np.sqrt(ms.mean_squared_error(y_test,y_preds)))"
   ]
  },
  {
   "cell_type": "code",
   "execution_count": 182,
   "id": "b98f5fe6-9d51-4495-ad10-d0f49b99ce7f",
   "metadata": {
    "tags": []
   },
   "outputs": [
    {
     "data": {
      "text/plain": [
       "0.872919843230908"
      ]
     },
     "execution_count": 182,
     "metadata": {},
     "output_type": "execute_result"
    }
   ],
   "source": [
    "ms.r2_score(y_test,y_preds)"
   ]
  },
  {
   "cell_type": "code",
   "execution_count": 183,
   "id": "ea4e7c3f-05f6-4cac-a4a9-952f0fb49814",
   "metadata": {},
   "outputs": [],
   "source": [
    "ridge.fit(X_train, y_train);"
   ]
  },
  {
   "cell_type": "code",
   "execution_count": 184,
   "id": "87818ee1-32d9-4a9d-96ed-b70bdf65b30f",
   "metadata": {},
   "outputs": [],
   "source": [
    "y_preds_r=ridge.predict(X_test)"
   ]
  },
  {
   "cell_type": "code",
   "execution_count": 185,
   "id": "d6604cea-9b4f-4d27-9d21-e0d959ae295c",
   "metadata": {},
   "outputs": [],
   "source": [
    "lasso.fit(X_train, y_train);"
   ]
  },
  {
   "cell_type": "code",
   "execution_count": 186,
   "id": "a95a0141-d804-4cbf-bfe0-528b7df3bc90",
   "metadata": {
    "tags": []
   },
   "outputs": [],
   "source": [
    "y_preds_l=lasso.predict(X_test)"
   ]
  },
  {
   "cell_type": "markdown",
   "id": "038108ca-5094-4eda-b195-059994794677",
   "metadata": {},
   "source": [
    "**Ridge Score Values**"
   ]
  },
  {
   "cell_type": "code",
   "execution_count": 187,
   "id": "28551b84-4233-4e38-b8ff-9205e740c3ed",
   "metadata": {},
   "outputs": [
    {
     "data": {
      "text/plain": [
       "0.8726477438210616"
      ]
     },
     "execution_count": 187,
     "metadata": {},
     "output_type": "execute_result"
    }
   ],
   "source": [
    "ms.r2_score(y_test,y_preds_r)"
   ]
  },
  {
   "cell_type": "code",
   "execution_count": 188,
   "id": "4cf9b680-0452-4db5-8d8b-4d2b5f628351",
   "metadata": {
    "tags": []
   },
   "outputs": [
    {
     "data": {
      "text/plain": [
       "'2.796330e+04'"
      ]
     },
     "execution_count": 188,
     "metadata": {},
     "output_type": "execute_result"
    }
   ],
   "source": [
    "\"{:e}\".format(np.sqrt(ms.mean_squared_error(y_test,y_preds_r)))"
   ]
  },
  {
   "cell_type": "markdown",
   "id": "b17bfc8d-53b2-4aa9-8278-503974e2b4d6",
   "metadata": {},
   "source": [
    "**Lasso Score Values**"
   ]
  },
  {
   "cell_type": "code",
   "execution_count": 189,
   "id": "77e03dfe-6408-4acf-b3f4-9d6cdd1db955",
   "metadata": {
    "tags": []
   },
   "outputs": [
    {
     "data": {
      "text/plain": [
       "0.8743935589130565"
      ]
     },
     "execution_count": 189,
     "metadata": {},
     "output_type": "execute_result"
    }
   ],
   "source": [
    "ms.r2_score(y_test,y_preds_l)"
   ]
  },
  {
   "cell_type": "code",
   "execution_count": 190,
   "id": "7f73ba9a-d68b-4abd-b4a4-e6ad4d45534f",
   "metadata": {},
   "outputs": [
    {
     "data": {
      "text/plain": [
       "'2.777097e+04'"
      ]
     },
     "execution_count": 190,
     "metadata": {},
     "output_type": "execute_result"
    }
   ],
   "source": [
    "\"{:e}\".format(np.sqrt(ms.mean_squared_error(y_test,y_preds_l)))"
   ]
  },
  {
   "cell_type": "code",
   "execution_count": 191,
   "id": "f80fdd9e-63f0-4fa3-b556-cae8d6deaf52",
   "metadata": {},
   "outputs": [
    {
     "data": {
      "text/plain": [
       "'7.837528e+04'"
      ]
     },
     "execution_count": 191,
     "metadata": {},
     "output_type": "execute_result"
    }
   ],
   "source": [
    "\"{:e}\".format(np.sqrt(ms.mean_squared_error(y_test,y_null_test)))"
   ]
  },
  {
   "cell_type": "code",
   "execution_count": 192,
   "id": "2d09a528-4936-40a5-8e24-25e1cc68e128",
   "metadata": {},
   "outputs": [
    {
     "data": {
      "text/plain": [
       "'7.952685e+04'"
      ]
     },
     "execution_count": 192,
     "metadata": {},
     "output_type": "execute_result"
    }
   ],
   "source": [
    "\"{:e}\".format(np.sqrt(ms.mean_squared_error(y_train,y_null_train)))"
   ]
  },
  {
   "cell_type": "code",
   "execution_count": 193,
   "id": "fd031e3c-fb78-495b-9ca0-7422c5daa055",
   "metadata": {},
   "outputs": [
    {
     "data": {
      "text/plain": [
       "-0.0004332658021117819"
      ]
     },
     "execution_count": 193,
     "metadata": {},
     "output_type": "execute_result"
    }
   ],
   "source": [
    "ms.r2_score(y_test,y_null_test)"
   ]
  },
  {
   "cell_type": "code",
   "execution_count": 194,
   "id": "8f623fb2-2fc6-4e89-85cd-73519b004858",
   "metadata": {},
   "outputs": [
    {
     "data": {
      "text/plain": [
       "-1.560653828391878e-10"
      ]
     },
     "execution_count": 194,
     "metadata": {},
     "output_type": "execute_result"
    }
   ],
   "source": [
    "ms.r2_score(y_train,y_null_train)"
   ]
  },
  {
   "cell_type": "markdown",
   "id": "e7da5a2c-1851-4a25-be24-ae3abd400b1b",
   "metadata": {},
   "source": [
    "In comparison to our baseline, the model showed divergence from the null model (in both R^2 and RMSE metrics) showing that variance from the mean is being described by the model."
   ]
  },
  {
   "cell_type": "markdown",
   "id": "a83ce7d0-3e9f-45fb-ae80-0a10d06d04ba",
   "metadata": {
    "tags": []
   },
   "source": [
    "**Lasso has performed the best everytime, therefore it will be the model of choice for reporting results**"
   ]
  },
  {
   "cell_type": "code",
   "execution_count": 195,
   "id": "ae4f7226-095b-4a7a-909b-eed661e4aee2",
   "metadata": {},
   "outputs": [],
   "source": [
    "pd.set_option('display.max_rows',36)"
   ]
  },
  {
   "cell_type": "code",
   "execution_count": 196,
   "id": "82a5564e-cfd7-400f-8289-4155ab706b7c",
   "metadata": {
    "tags": []
   },
   "outputs": [
    {
     "data": {
      "text/plain": [
       "181061.9934980494"
      ]
     },
     "execution_count": 196,
     "metadata": {},
     "output_type": "execute_result"
    }
   ],
   "source": [
    "lasso.intercept_"
   ]
  },
  {
   "cell_type": "markdown",
   "id": "05a63a43-7533-4923-bbe0-5821ea0790a0",
   "metadata": {
    "tags": []
   },
   "source": [
    "Because we have scaled the data to the mean with standard scalar it makes sense that our intercept is close to the calculated mean prior.  Additionally, that means that all coefficients describe the variance as such: All else equal one unit of the feature changing reflects 1 standard deviation change of that unit on the sale price of the house."
   ]
  },
  {
   "cell_type": "code",
   "execution_count": 197,
   "id": "c4a57f7d-ecab-49a6-9ff4-a6da1b017951",
   "metadata": {},
   "outputs": [
    {
     "data": {
      "text/html": [
       "<div>\n",
       "<style scoped>\n",
       "    .dataframe tbody tr th:only-of-type {\n",
       "        vertical-align: middle;\n",
       "    }\n",
       "\n",
       "    .dataframe tbody tr th {\n",
       "        vertical-align: top;\n",
       "    }\n",
       "\n",
       "    .dataframe thead th {\n",
       "        text-align: right;\n",
       "    }\n",
       "</style>\n",
       "<table border=\"1\" class=\"dataframe\">\n",
       "  <thead>\n",
       "    <tr style=\"text-align: right;\">\n",
       "      <th></th>\n",
       "      <th>Features</th>\n",
       "      <th>Coef</th>\n",
       "    </tr>\n",
       "  </thead>\n",
       "  <tbody>\n",
       "    <tr>\n",
       "      <th>0</th>\n",
       "      <td>overall_qual</td>\n",
       "      <td>16012.505524</td>\n",
       "    </tr>\n",
       "    <tr>\n",
       "      <th>1</th>\n",
       "      <td>gr_liv_area</td>\n",
       "      <td>20817.045512</td>\n",
       "    </tr>\n",
       "    <tr>\n",
       "      <th>2</th>\n",
       "      <td>garage_area</td>\n",
       "      <td>5438.058215</td>\n",
       "    </tr>\n",
       "    <tr>\n",
       "      <th>3</th>\n",
       "      <td>full_bath</td>\n",
       "      <td>3765.533535</td>\n",
       "    </tr>\n",
       "    <tr>\n",
       "      <th>4</th>\n",
       "      <td>mas_vnr_area</td>\n",
       "      <td>1936.757464</td>\n",
       "    </tr>\n",
       "    <tr>\n",
       "      <th>5</th>\n",
       "      <td>fireplaces</td>\n",
       "      <td>3348.729012</td>\n",
       "    </tr>\n",
       "    <tr>\n",
       "      <th>6</th>\n",
       "      <td>lot_frontage</td>\n",
       "      <td>-1166.777290</td>\n",
       "    </tr>\n",
       "    <tr>\n",
       "      <th>7</th>\n",
       "      <td>lot_area</td>\n",
       "      <td>2945.563692</td>\n",
       "    </tr>\n",
       "    <tr>\n",
       "      <th>8</th>\n",
       "      <td>half_bath</td>\n",
       "      <td>2557.812181</td>\n",
       "    </tr>\n",
       "    <tr>\n",
       "      <th>9</th>\n",
       "      <td>bsmt_full_bath</td>\n",
       "      <td>6467.816087</td>\n",
       "    </tr>\n",
       "    <tr>\n",
       "      <th>10</th>\n",
       "      <td>ms_zoning</td>\n",
       "      <td>477.719043</td>\n",
       "    </tr>\n",
       "    <tr>\n",
       "      <th>11</th>\n",
       "      <td>bsmtfin_type_2</td>\n",
       "      <td>-142.473534</td>\n",
       "    </tr>\n",
       "    <tr>\n",
       "      <th>12</th>\n",
       "      <td>leverage_pos</td>\n",
       "      <td>4481.342430</td>\n",
       "    </tr>\n",
       "    <tr>\n",
       "      <th>13</th>\n",
       "      <td>land_slope</td>\n",
       "      <td>1702.712864</td>\n",
       "    </tr>\n",
       "    <tr>\n",
       "      <th>14</th>\n",
       "      <td>bldg_type</td>\n",
       "      <td>3103.664994</td>\n",
       "    </tr>\n",
       "    <tr>\n",
       "      <th>15</th>\n",
       "      <td>exterior_1st</td>\n",
       "      <td>2156.395541</td>\n",
       "    </tr>\n",
       "    <tr>\n",
       "      <th>16</th>\n",
       "      <td>exter_qual</td>\n",
       "      <td>8269.174497</td>\n",
       "    </tr>\n",
       "    <tr>\n",
       "      <th>17</th>\n",
       "      <td>garage_finish</td>\n",
       "      <td>0.000000</td>\n",
       "    </tr>\n",
       "    <tr>\n",
       "      <th>18</th>\n",
       "      <td>bsmt_qual</td>\n",
       "      <td>2119.746888</td>\n",
       "    </tr>\n",
       "    <tr>\n",
       "      <th>19</th>\n",
       "      <td>bsmt_exposure</td>\n",
       "      <td>5467.186483</td>\n",
       "    </tr>\n",
       "    <tr>\n",
       "      <th>20</th>\n",
       "      <td>roof_style</td>\n",
       "      <td>3619.148781</td>\n",
       "    </tr>\n",
       "    <tr>\n",
       "      <th>21</th>\n",
       "      <td>land_interaction</td>\n",
       "      <td>4875.033699</td>\n",
       "    </tr>\n",
       "    <tr>\n",
       "      <th>22</th>\n",
       "      <td>heating_qc</td>\n",
       "      <td>3912.356147</td>\n",
       "    </tr>\n",
       "    <tr>\n",
       "      <th>23</th>\n",
       "      <td>n_class_1</td>\n",
       "      <td>16169.688528</td>\n",
       "    </tr>\n",
       "    <tr>\n",
       "      <th>24</th>\n",
       "      <td>n_class_2</td>\n",
       "      <td>2814.563789</td>\n",
       "    </tr>\n",
       "    <tr>\n",
       "      <th>25</th>\n",
       "      <td>n_class_3</td>\n",
       "      <td>1681.058577</td>\n",
       "    </tr>\n",
       "    <tr>\n",
       "      <th>26</th>\n",
       "      <td>n_class_5</td>\n",
       "      <td>-341.046932</td>\n",
       "    </tr>\n",
       "    <tr>\n",
       "      <th>27</th>\n",
       "      <td>n_class_6</td>\n",
       "      <td>-2458.758105</td>\n",
       "    </tr>\n",
       "    <tr>\n",
       "      <th>28</th>\n",
       "      <td>n_class_7</td>\n",
       "      <td>-2891.666040</td>\n",
       "    </tr>\n",
       "    <tr>\n",
       "      <th>29</th>\n",
       "      <td>MSSlow</td>\n",
       "      <td>-3675.650400</td>\n",
       "    </tr>\n",
       "    <tr>\n",
       "      <th>30</th>\n",
       "      <td>MSSupper</td>\n",
       "      <td>-5984.968581</td>\n",
       "    </tr>\n",
       "  </tbody>\n",
       "</table>\n",
       "</div>"
      ],
      "text/plain": [
       "            Features          Coef\n",
       "0       overall_qual  16012.505524\n",
       "1        gr_liv_area  20817.045512\n",
       "2        garage_area   5438.058215\n",
       "3          full_bath   3765.533535\n",
       "4       mas_vnr_area   1936.757464\n",
       "5         fireplaces   3348.729012\n",
       "6       lot_frontage  -1166.777290\n",
       "7           lot_area   2945.563692\n",
       "8          half_bath   2557.812181\n",
       "9     bsmt_full_bath   6467.816087\n",
       "10         ms_zoning    477.719043\n",
       "11    bsmtfin_type_2   -142.473534\n",
       "12      leverage_pos   4481.342430\n",
       "13        land_slope   1702.712864\n",
       "14         bldg_type   3103.664994\n",
       "15      exterior_1st   2156.395541\n",
       "16        exter_qual   8269.174497\n",
       "17     garage_finish      0.000000\n",
       "18         bsmt_qual   2119.746888\n",
       "19     bsmt_exposure   5467.186483\n",
       "20        roof_style   3619.148781\n",
       "21  land_interaction   4875.033699\n",
       "22        heating_qc   3912.356147\n",
       "23         n_class_1  16169.688528\n",
       "24         n_class_2   2814.563789\n",
       "25         n_class_3   1681.058577\n",
       "26         n_class_5   -341.046932\n",
       "27         n_class_6  -2458.758105\n",
       "28         n_class_7  -2891.666040\n",
       "29            MSSlow  -3675.650400\n",
       "30          MSSupper  -5984.968581"
      ]
     },
     "execution_count": 197,
     "metadata": {},
     "output_type": "execute_result"
    }
   ],
   "source": [
    "pd.DataFrame({'Features':hd_df[NumFea].columns.values.tolist(),'Coef':lasso.coef_})"
   ]
  },
  {
   "cell_type": "markdown",
   "id": "af862763-9267-4072-a42a-5263333f66fd",
   "metadata": {},
   "source": [
    "Features that were tried and removed as lasso was zeroing them out: open_porch_sf, wood_deck_sf, total_bsmt_sf, lot_shape, foundation.  I am leaving garage finish in even though it is zeroed out."
   ]
  },
  {
   "cell_type": "markdown",
   "id": "bc33ada4-b6dd-445d-8b6b-42d0d34968e2",
   "metadata": {
    "tags": []
   },
   "source": [
    "## Kaggle Submission Process"
   ]
  },
  {
   "cell_type": "code",
   "execution_count": 198,
   "id": "0717dad6-766b-4bd4-b170-89e90379376f",
   "metadata": {
    "tags": []
   },
   "outputs": [],
   "source": [
    "\n",
    "hd_test_df[\"garage_area\"]=hd_test_df[\"garage_area\"].map(lambda x: np.nan_to_num(x))  #Only one NA value\n",
    "hd_test_df[\"mas_vnr_area\"]=hd_test_df[\"mas_vnr_area\"].map(lambda x: np.nan_to_num(x))  #There are also 22 observations of masonry type so these lots just do not have a correct 0 or none type\n",
    "hd_test_df[\"total_bsmt_sf\"]=hd_test_df[\"total_bsmt_sf\"].map(lambda x: np.nan_to_num(x)) #Only one NA value\n",
    "hd_test_df[\"lot_frontage\"]=hd_test_df[\"lot_frontage\"].map(lambda x: np.nan_to_num(x)) \n",
    "hd_test_df[\"bsmt_full_bath\"]=hd_test_df[\"bsmt_full_bath\"].map(lambda x: np.nan_to_num(x)) #Only two NA value\n",
    "hd_test_df[\"bsmt_half_bath\"]=hd_test_df[\"bsmt_half_bath\"].map(lambda x: np.nan_to_num(x)) #Only two NA value\n",
    "hd_test_df[\"bsmt_qual\"]=hd_test_df[\"bsmt_qual\"].map(lambda x: np.nan_to_num(x))  #we can just null these since no basement is the NA valu\n",
    "hd_test_df[\"bsmt_exposure\"]=hd_test_df[\"bsmt_exposure\"].map(lambda x: np.nan_to_num(x)) #we can just null these since no basement is the NA value\n",
    "hd_test_df[\"bsmtfin_type_2\"]=hd_test_df[\"bsmtfin_type_2\"].map(lambda x: np.nan_to_num(x)) #we can just null these since no basement is the NA value\n",
    "hd_test_df[\"bsmtfin_type_1\"]=hd_test_df[\"bsmtfin_type_1\"].map(lambda x: np.nan_to_num(x)) #we can just null these since no basement is the NA value\n",
    "hd_test_df[\"bsmt_cond\"]=hd_test_df[\"bsmt_cond\"].map(lambda x: np.nan_to_num(x)) #we can just null these since no basement is the NA value\n",
    "hd_test_df['pool_qc']=hd_test_df['pool_qc'].map(lambda x: np.nan_to_num(x))\n",
    "hd_test_df['misc_val']=hd_test_df['misc_val'].map(lambda x: np.nan_to_num(x))\n",
    "hd_test_df['misc_feature']=hd_test_df['misc_feature'].map(lambda x: np.nan_to_num(x))\n",
    "hd_test_df['fence']=hd_test_df['fence'].map(lambda x: np.nan_to_num(x))\n",
    "hd_test_df['fireplace_qu']=hd_test_df['fireplace_qu'].map(lambda x: np.nan_to_num(x))\n",
    "hd_test_df['electrical']=hd_test_df['electrical'].map(lambda x: np.nan_to_num(x))\n",
    "\n",
    "\n",
    "hd_test_df[\"alley\"]=hd_test_df[\"alley\"].map(lambda x: np.nan_to_num(x,copy=True, nan=1, posinf=None, neginf=None))\n",
    "\n",
    "hd_test_df['neighborhood']=hd_test_df['neighborhood'].map({'StoneBr':'n_class_1','NridgHt':'n_class_1','NoRidge':'n_class_1','GrnHill':'n_class_1',\\\n",
    "'Veenker':'n_class_2','Timber':'n_class_2','Somerst':'n_class_2','ClearCr':'n_class_2',\\\n",
    "'Crawfor':'n_class_3','CollgCr':'n_class_3','Blmngtn':'n_class_3','NWAmes':'n_class_3',\\\n",
    "'Gilbert':'n_class_4','Greens':'n_class_4','SawyerW':'n_class_4','Mitchel':'n_class_4',\\\n",
    "'NAmes':'n_class_5','Blueste':'n_class_5','NPkVill':'n_class_5','Sawyer':'n_class_5',\\\n",
    "'Landmrk':'n_class_6','SWISU':'n_class_6','Edwards':'n_class_6','BrkSide':'n_class_6',\\\n",
    "'OldTown':'n_class_7','BrDale':'n_class_7','IDOTRR':'n_class_7','MeadowV':'n_class_7'})\n",
    "\n",
    "hd_test_df[\"fireplace_qu\"]=hd_test_df[\"fireplace_qu\"].apply(lambda x: 'NoFp' if x == 0 else x)\n",
    "\n",
    "hd_test_df[\"garage_type\"]=hd_test_df[\"garage_type\"].map(lambda x: np.nan_to_num(x))\n",
    "hd_test_df[\"garage_type\"]=hd_test_df[\"garage_type\"].apply(lambda x: 'NoGar' if x == 0 else x)\n",
    "hd_test_df[\"garage_qual\"]=hd_test_df[\"garage_qual\"].map(lambda x: np.nan_to_num(x))\n",
    "hd_test_df[\"garage_qual\"]=hd_test_df[\"garage_qual\"].apply(lambda x: 'NoGar' if x == 0 else x)\n",
    "hd_test_df[\"garage_finish\"]=hd_test_df[\"garage_finish\"].map(lambda x: np.nan_to_num(x))\n",
    "hd_test_df[\"garage_finish\"]=hd_test_df[\"garage_finish\"].apply(lambda x: 'NoGar' if x == 0 else x)\n",
    "hd_test_df[\"garage_yr_blt\"]=hd_test_df[\"garage_yr_blt\"].map(lambda x: np.nan_to_num(x))\n",
    "hd_test_df[\"garage_yr_blt\"]=hd_test_df[\"garage_yr_blt\"].apply(lambda x: 'NoGar' if x == 0 else x)\n",
    "hd_test_df[\"garage_cond\"]=hd_test_df[\"garage_cond\"].map(lambda x: np.nan_to_num(x))\n",
    "hd_test_df[\"garage_cond\"]=hd_test_df[\"garage_cond\"].apply(lambda x: 'NoGar' if x == 0 else x)\n",
    "\n",
    "hd_test_df[\"fence\"]=hd_test_df[\"fence\"].apply(lambda x: 'NoFen' if x == 0 else x)\n",
    "\n",
    "hd_test_df['ms_subclass']=hd_test_df['ms_subclass'].map({60:'MSSupper',120:'MSSupper',75:'MSSupper',20:'MSSmean',80:'MSSmean',85:'MSSlow',70:'MSSlow',\\\n",
    "                                               150:'MSSlow',90:'MSSlow',160:'MSSlow',50:'MSSlow',190:'MSSlow',40:'MSSlow',180:'MSSlow',45:'MSSlow',30:'MSSlow'})  #setting up for dummies\n",
    "hd_test_df['ms_zoning']=hd_test_df['ms_zoning'].map({'FV':FV_val,'RL':RL_val,'RP':RL_val,'RH':RH_val,'RM':RM_val,'C (all)':C_val,'I (all)':I_val,'A (all)':A_val})  #obs mean/sample mean\n",
    "hd_test_df['alley']=hd_test_df['alley'].map({'Pave':Pave_val,'Grvl':Grvl_val}) #setting up alley, normalized to mean, no alley is 1\n",
    "hd_test_df['street']=hd_test_df['street'].map({'Pave':1,'Grvl':0}) #binary, not using \n",
    "hd_test_df['land_slope']=hd_test_df['land_slope'].map({'Mod':3,'Sev':2,'Gtl':1}) #ordinal enumerated\n",
    "hd_test_df['lot_shape']=hd_test_df['lot_shape'].map({'IR2':4,'IR3':3,'IR1':2,'Reg':1})  #ordinal enumerated\n",
    "hd_test_df['land_contour']=hd_test_df['land_contour'].map({'HLS':HLS_val,'Low':Low_val,'Lvl':Lvl_val,'Bnk':Bnk_val})  #mean scaled\n",
    "hd_test_df['lot_config']=hd_test_df['lot_config'].map({'CulDSac':CulDSac_val,'Inside':Inside_val,'Corner':Corner_val,'FR2':FR2_val,'FR3':FR3_val}) #mean scaled\n",
    "hd_test_df['land_interaction']=hd_test_df['lot_config']*hd_test_df['land_contour'] #creating an interaction term\n",
    "\n",
    "hd_test_df['roof_style']=hd_test_df['roof_style'].map({'Gable':0,'Hip':1,'Flat':1,'Mansard':0,'Shed':1,'Gambrel':0}) #one-hot encode over dummy\n",
    "hd_test_df['bldg_type']=hd_test_df['bldg_type'].map({'1Fam':1,'2fmCon':0,'Duplex':0,'TwnhsE':1,'Twnhs':0})  # hard bias on non single family and end units helped improve model\n",
    "hd_test_df['exterior_1st']=hd_test_df['exterior_1st'].map({'VinylSd':3,'MetalSd':1,'HdBoard':2,'Wd Sdng':1,'Plywood':2,'CemntBd':4,'BrkFace':2,'WdShing':1,'AsbShng':0,'Stucco':1,'BrkComm':2,'Stone':5,'CBlock':0,'ImStucc':5,'AsphShn':0,'Other':0,'Precast':0})\n",
    "# put some hard bias on the values above the median house price on Exterior 1, might need to tweak this or add in Exterior 2 in combination to make better feature\n",
    "hd_test_df['exter_qual']=hd_test_df['exter_qual'].map({'Ex':3,'Gd':2,'TA':1,'Fa':0})\n",
    "\n",
    "hd_test_df['foundation']=hd_test_df['foundation'].map({'CBlock':1,'PConc':2,'Wood':1,'BrkTil':0,'Slab':0,'Stone':0})\n",
    "hd_test_df['bsmt_qual']=hd_test_df['bsmt_qual'].map({'Ex':5,'Gd':4,'TA':3,'Fa':2,'Po':0})\n",
    "hd_test_df['bsmt_exposure']=hd_test_df['bsmt_exposure'].map({'No':1,'Gd':4,'Av':3,'Mn':2})\n",
    "hd_test_df['bsmtfin_type_2']=hd_test_df['bsmtfin_type_2'].map({'GLQ':6,'Unf':5,'ALQ':4,'Rec':3,'BLQ':2,'LwQ':1})\n",
    "\n",
    "hd_test_df['heating_qc']=hd_test_df['heating_qc'].map({'Ex':5,'Gd':4,'TA':3,'Fa':2,'Po':1})\n",
    "\n",
    "hd_test_df['garage_finish']=hd_test_df['garage_finish'].map({'Fin':4,'RFn':3,'Unf':2,'NoGar':1})\n",
    "\n",
    "hd_test_df['sale_type']=hd_test_df['sale_type'].map({'New':1,'WD':0,'COD':0,'ConLD':0,'CWD':0,'ConLI':0,'ConLw':0,'Con':0,'Oth':0,'VWD':0})\n",
    "hd_test_df['garage_type']=hd_test_df['garage_type'].map({'BuiltIn':1,'Attchd':0,'2Types':0,'Basement':0,'Detchd':0,'NoGar':0,'CarPort':0})\n",
    "hd_test_df['fireplace_qu']=hd_test_df['fireplace_qu'].map({'Ex':1,'Gd':1,'TA':0,'Fa':0,'NoFp':0,'Po':0})\n",
    "hd_test_df['mas_vnr_type']=hd_test_df['mas_vnr_type'].map({'Stone':1,'BrkFace':0,'None':0,'BrkCmn':0})\n",
    "hd_test_df[\"sale_type\"]=hd_test_df[\"sale_type\"].map(lambda x: np.nan_to_num(x))\n",
    "\n",
    "hd_test_df['leverage_pos']=hd_test_df['sale_type']+hd_test_df['garage_type']+hd_test_df['fireplace_qu']+hd_test_df['mas_vnr_type']\n",
    "\n",
    "hd_test_df[\"leverage_pos\"]=hd_test_df[\"leverage_pos\"].map(lambda x: np.nan_to_num(x))\n",
    "\n",
    "neighbor_dum_df=pd.get_dummies(hd_test_df['neighborhood'], prefix=None, prefix_sep='_', dummy_na=False, columns=None, sparse=False, drop_first=False, dtype=None)\n",
    "mssubclass_dum_df=pd.get_dummies(hd_test_df['ms_subclass'], prefix=None, prefix_sep='_', dummy_na=False, columns=None, sparse=False, drop_first=False, dtype=None)\n",
    "\n",
    "neighbor_dum_df.drop(columns=['n_class_4'],inplace=True)  #removing Greens, low observation count and close to sample mean for SalePrice\n",
    "mssubclass_dum_df.drop(columns=['MSSmean'],inplace=True)  #removing values around the mean\n",
    "\n",
    "hd_test_df=pd.concat([hd_test_df,neighbor_dum_df],axis=1)\n",
    "hd_test_df=pd.concat([hd_test_df,mssubclass_dum_df],axis=1)\n",
    "\n",
    "dummy_list_neighborhood=list(neighbor_dum_df.columns)\n",
    "dummy_list_mssubclass=list(mssubclass_dum_df.columns)\n",
    "\n",
    "NumFeaT=['overall_qual','gr_liv_area','garage_area',\\\n",
    "        'full_bath','mas_vnr_area','fireplaces','lot_frontage','lot_area','half_bath',\\\n",
    "        'bsmt_full_bath','ms_zoning','bsmtfin_type_2','leverage_pos',\\\n",
    "        'land_slope','bldg_type','exterior_1st','exter_qual','garage_finish',\\\n",
    "        'bsmt_qual','bsmt_exposure','roof_style','land_interaction','heating_qc'] \n",
    "\n",
    "NumFeaT=NumFeaT+dummy_list_neighborhood+dummy_list_mssubclass\n",
    "\n",
    "hd_test_df[\"garage_area\"]=hd_test_df[\"garage_area\"].map(lambda x: np.nan_to_num(x))  #Only one NA value\n",
    "hd_test_df[\"mas_vnr_area\"]=hd_test_df[\"mas_vnr_area\"].map(lambda x: np.nan_to_num(x))\n",
    "hd_test_df[\"total_bsmt_sf\"]=hd_test_df[\"total_bsmt_sf\"].map(lambda x: np.nan_to_num(x)) #Only one NA value\n",
    "hd_test_df[\"lot_frontage\"]=hd_test_df[\"lot_frontage\"].map(lambda x: np.nan_to_num(x)) \n",
    "hd_test_df[\"bsmt_full_bath\"]=hd_test_df[\"bsmt_full_bath\"].map(lambda x: np.nan_to_num(x)) #Only two NA value\n",
    "hd_test_df[\"ms_zoning\"]=hd_test_df[\"ms_zoning\"].map(lambda x: np.nan_to_num(x))\n",
    "hd_test_df[\"lot_config\"]=hd_test_df[\"lot_config\"].map(lambda x: np.nan_to_num(x))\n",
    "hd_test_df[\"bsmt_qual\"]=hd_test_df[\"bsmt_qual\"].map(lambda x: np.nan_to_num(x))  #we can just null these since no basement is the NA value\n",
    "hd_test_df[\"bsmt_exposure\"]=hd_test_df[\"bsmt_exposure\"].map(lambda x: np.nan_to_num(x)) #we can just null these since no basement is the NA value\n",
    "hd_test_df[\"bsmtfin_type_2\"]=hd_test_df[\"bsmtfin_type_2\"].map(lambda x: np.nan_to_num(x)) #we can just null these since no basement is the NA value\n",
    "hd_test_df[\"bsmtfin_type_1\"]=hd_test_df[\"bsmtfin_type_1\"].map(lambda x: np.nan_to_num(x)) #we can just null these since no basement is the NA value\n",
    "hd_test_df[\"bsmt_cond\"]=hd_test_df[\"bsmt_cond\"].map(lambda x: np.nan_to_num(x)) #we can just null these since no basement is the NA value\n",
    "hd_test_df['pool_qc']=hd_test_df['pool_qc'].map(lambda x: np.nan_to_num(x))\n",
    "hd_test_df['misc_val']=hd_test_df['misc_val'].map(lambda x: np.nan_to_num(x))\n",
    "hd_test_df['misc_feature']=hd_test_df['misc_feature'].map(lambda x: np.nan_to_num(x))\n",
    "hd_test_df['fence']=hd_test_df['fence'].map(lambda x: np.nan_to_num(x))\n",
    "hd_test_df['fireplace_qu']=hd_test_df['fireplace_qu'].map(lambda x: np.nan_to_num(x))\n",
    "hd_test_df['electrical']=hd_test_df['electrical'].map(lambda x: np.nan_to_num(x))\n",
    "hd_test_df['exterior_1st']=hd_test_df['exterior_1st'].map(lambda x: np.nan_to_num(x))"
   ]
  },
  {
   "cell_type": "code",
   "execution_count": 199,
   "id": "3e617d52-abac-437a-b1fc-062880eeb738",
   "metadata": {},
   "outputs": [],
   "source": [
    "X1=ss.transform(hd_test_df[NumFeaT])"
   ]
  },
  {
   "cell_type": "code",
   "execution_count": 200,
   "id": "71726a59-e83e-4364-909e-72ee87973d33",
   "metadata": {},
   "outputs": [],
   "source": [
    "kag_preds = lasso.predict(X1)"
   ]
  },
  {
   "cell_type": "code",
   "execution_count": 201,
   "id": "f62974ee-a713-4ff6-b198-fa93c3fc24f9",
   "metadata": {},
   "outputs": [],
   "source": [
    "pd.set_option('display.max_rows',54)"
   ]
  },
  {
   "cell_type": "code",
   "execution_count": 202,
   "id": "6ca693b0-0a6e-40c2-9736-c7484355cb9b",
   "metadata": {},
   "outputs": [
    {
     "data": {
      "text/plain": [
       "overall_qual        0\n",
       "gr_liv_area         0\n",
       "garage_area         0\n",
       "full_bath           0\n",
       "mas_vnr_area        0\n",
       "fireplaces          0\n",
       "lot_frontage        0\n",
       "lot_area            0\n",
       "half_bath           0\n",
       "bsmt_full_bath      0\n",
       "ms_zoning           0\n",
       "bsmtfin_type_2      0\n",
       "leverage_pos        0\n",
       "land_slope          0\n",
       "bldg_type           0\n",
       "exterior_1st        0\n",
       "exter_qual          0\n",
       "garage_finish       0\n",
       "bsmt_qual           0\n",
       "bsmt_exposure       0\n",
       "roof_style          0\n",
       "land_interaction    0\n",
       "heating_qc          0\n",
       "n_class_1           0\n",
       "n_class_2           0\n",
       "n_class_3           0\n",
       "n_class_5           0\n",
       "n_class_6           0\n",
       "n_class_7           0\n",
       "MSSlow              0\n",
       "MSSupper            0\n",
       "dtype: int64"
      ]
     },
     "execution_count": 202,
     "metadata": {},
     "output_type": "execute_result"
    }
   ],
   "source": [
    "hd_test_df[NumFeaT].isnull().sum()"
   ]
  },
  {
   "cell_type": "code",
   "execution_count": 203,
   "id": "916f7644-2193-4ef1-bb27-afaaaf22cf49",
   "metadata": {},
   "outputs": [
    {
     "data": {
      "text/plain": [
       "(878, 31)"
      ]
     },
     "execution_count": 203,
     "metadata": {},
     "output_type": "execute_result"
    }
   ],
   "source": [
    "hd_test_df[NumFeaT].shape"
   ]
  },
  {
   "cell_type": "code",
   "execution_count": 204,
   "id": "0de176c5-e5a8-46d8-b18c-0dafc0a0d703",
   "metadata": {},
   "outputs": [
    {
     "data": {
      "text/plain": [
       "(2051, 31)"
      ]
     },
     "execution_count": 204,
     "metadata": {},
     "output_type": "execute_result"
    }
   ],
   "source": [
    "hd_df[NumFea].shape"
   ]
  },
  {
   "cell_type": "code",
   "execution_count": 205,
   "id": "ef11c74a-6698-4867-9ce8-959577922660",
   "metadata": {},
   "outputs": [
    {
     "data": {
      "text/plain": [
       "(878,)"
      ]
     },
     "execution_count": 205,
     "metadata": {},
     "output_type": "execute_result"
    }
   ],
   "source": [
    "kag_preds.shape"
   ]
  },
  {
   "cell_type": "code",
   "execution_count": 206,
   "id": "d6d12102-dfcc-4ff1-aa2a-1189c3adea3f",
   "metadata": {},
   "outputs": [
    {
     "ename": "KeyError",
     "evalue": "'Id'",
     "output_type": "error",
     "traceback": [
      "\u001b[1;31m---------------------------------------------------------------------------\u001b[0m",
      "\u001b[1;31mKeyError\u001b[0m                                  Traceback (most recent call last)",
      "\u001b[1;32m~\\anaconda3\\lib\\site-packages\\pandas\\core\\indexes\\base.py\u001b[0m in \u001b[0;36mget_loc\u001b[1;34m(self, key, method, tolerance)\u001b[0m\n\u001b[0;32m   3079\u001b[0m             \u001b[1;32mtry\u001b[0m\u001b[1;33m:\u001b[0m\u001b[1;33m\u001b[0m\u001b[1;33m\u001b[0m\u001b[0m\n\u001b[1;32m-> 3080\u001b[1;33m                 \u001b[1;32mreturn\u001b[0m \u001b[0mself\u001b[0m\u001b[1;33m.\u001b[0m\u001b[0m_engine\u001b[0m\u001b[1;33m.\u001b[0m\u001b[0mget_loc\u001b[0m\u001b[1;33m(\u001b[0m\u001b[0mcasted_key\u001b[0m\u001b[1;33m)\u001b[0m\u001b[1;33m\u001b[0m\u001b[1;33m\u001b[0m\u001b[0m\n\u001b[0m\u001b[0;32m   3081\u001b[0m             \u001b[1;32mexcept\u001b[0m \u001b[0mKeyError\u001b[0m \u001b[1;32mas\u001b[0m \u001b[0merr\u001b[0m\u001b[1;33m:\u001b[0m\u001b[1;33m\u001b[0m\u001b[1;33m\u001b[0m\u001b[0m\n",
      "\u001b[1;32mpandas\\_libs\\index.pyx\u001b[0m in \u001b[0;36mpandas._libs.index.IndexEngine.get_loc\u001b[1;34m()\u001b[0m\n",
      "\u001b[1;32mpandas\\_libs\\index.pyx\u001b[0m in \u001b[0;36mpandas._libs.index.IndexEngine.get_loc\u001b[1;34m()\u001b[0m\n",
      "\u001b[1;32mpandas\\_libs\\hashtable_class_helper.pxi\u001b[0m in \u001b[0;36mpandas._libs.hashtable.PyObjectHashTable.get_item\u001b[1;34m()\u001b[0m\n",
      "\u001b[1;32mpandas\\_libs\\hashtable_class_helper.pxi\u001b[0m in \u001b[0;36mpandas._libs.hashtable.PyObjectHashTable.get_item\u001b[1;34m()\u001b[0m\n",
      "\u001b[1;31mKeyError\u001b[0m: 'Id'",
      "\nThe above exception was the direct cause of the following exception:\n",
      "\u001b[1;31mKeyError\u001b[0m                                  Traceback (most recent call last)",
      "\u001b[1;32m<ipython-input-206-100b4c0537eb>\u001b[0m in \u001b[0;36m<module>\u001b[1;34m\u001b[0m\n\u001b[1;32m----> 1\u001b[1;33m \u001b[0mkag_submission\u001b[0m\u001b[1;33m=\u001b[0m\u001b[1;33m{\u001b[0m\u001b[1;34m'Id'\u001b[0m \u001b[1;33m:\u001b[0m \u001b[0mhd_test_df\u001b[0m\u001b[1;33m[\u001b[0m\u001b[1;34m'Id'\u001b[0m\u001b[1;33m]\u001b[0m\u001b[1;33m,\u001b[0m \u001b[1;34m'SalePrice'\u001b[0m \u001b[1;33m:\u001b[0m \u001b[0mkag_preds\u001b[0m\u001b[1;33m}\u001b[0m\u001b[1;33m\u001b[0m\u001b[1;33m\u001b[0m\u001b[0m\n\u001b[0m",
      "\u001b[1;32m~\\anaconda3\\lib\\site-packages\\pandas\\core\\frame.py\u001b[0m in \u001b[0;36m__getitem__\u001b[1;34m(self, key)\u001b[0m\n\u001b[0;32m   3022\u001b[0m             \u001b[1;32mif\u001b[0m \u001b[0mself\u001b[0m\u001b[1;33m.\u001b[0m\u001b[0mcolumns\u001b[0m\u001b[1;33m.\u001b[0m\u001b[0mnlevels\u001b[0m \u001b[1;33m>\u001b[0m \u001b[1;36m1\u001b[0m\u001b[1;33m:\u001b[0m\u001b[1;33m\u001b[0m\u001b[1;33m\u001b[0m\u001b[0m\n\u001b[0;32m   3023\u001b[0m                 \u001b[1;32mreturn\u001b[0m \u001b[0mself\u001b[0m\u001b[1;33m.\u001b[0m\u001b[0m_getitem_multilevel\u001b[0m\u001b[1;33m(\u001b[0m\u001b[0mkey\u001b[0m\u001b[1;33m)\u001b[0m\u001b[1;33m\u001b[0m\u001b[1;33m\u001b[0m\u001b[0m\n\u001b[1;32m-> 3024\u001b[1;33m             \u001b[0mindexer\u001b[0m \u001b[1;33m=\u001b[0m \u001b[0mself\u001b[0m\u001b[1;33m.\u001b[0m\u001b[0mcolumns\u001b[0m\u001b[1;33m.\u001b[0m\u001b[0mget_loc\u001b[0m\u001b[1;33m(\u001b[0m\u001b[0mkey\u001b[0m\u001b[1;33m)\u001b[0m\u001b[1;33m\u001b[0m\u001b[1;33m\u001b[0m\u001b[0m\n\u001b[0m\u001b[0;32m   3025\u001b[0m             \u001b[1;32mif\u001b[0m \u001b[0mis_integer\u001b[0m\u001b[1;33m(\u001b[0m\u001b[0mindexer\u001b[0m\u001b[1;33m)\u001b[0m\u001b[1;33m:\u001b[0m\u001b[1;33m\u001b[0m\u001b[1;33m\u001b[0m\u001b[0m\n\u001b[0;32m   3026\u001b[0m                 \u001b[0mindexer\u001b[0m \u001b[1;33m=\u001b[0m \u001b[1;33m[\u001b[0m\u001b[0mindexer\u001b[0m\u001b[1;33m]\u001b[0m\u001b[1;33m\u001b[0m\u001b[1;33m\u001b[0m\u001b[0m\n",
      "\u001b[1;32m~\\anaconda3\\lib\\site-packages\\pandas\\core\\indexes\\base.py\u001b[0m in \u001b[0;36mget_loc\u001b[1;34m(self, key, method, tolerance)\u001b[0m\n\u001b[0;32m   3080\u001b[0m                 \u001b[1;32mreturn\u001b[0m \u001b[0mself\u001b[0m\u001b[1;33m.\u001b[0m\u001b[0m_engine\u001b[0m\u001b[1;33m.\u001b[0m\u001b[0mget_loc\u001b[0m\u001b[1;33m(\u001b[0m\u001b[0mcasted_key\u001b[0m\u001b[1;33m)\u001b[0m\u001b[1;33m\u001b[0m\u001b[1;33m\u001b[0m\u001b[0m\n\u001b[0;32m   3081\u001b[0m             \u001b[1;32mexcept\u001b[0m \u001b[0mKeyError\u001b[0m \u001b[1;32mas\u001b[0m \u001b[0merr\u001b[0m\u001b[1;33m:\u001b[0m\u001b[1;33m\u001b[0m\u001b[1;33m\u001b[0m\u001b[0m\n\u001b[1;32m-> 3082\u001b[1;33m                 \u001b[1;32mraise\u001b[0m \u001b[0mKeyError\u001b[0m\u001b[1;33m(\u001b[0m\u001b[0mkey\u001b[0m\u001b[1;33m)\u001b[0m \u001b[1;32mfrom\u001b[0m \u001b[0merr\u001b[0m\u001b[1;33m\u001b[0m\u001b[1;33m\u001b[0m\u001b[0m\n\u001b[0m\u001b[0;32m   3083\u001b[0m \u001b[1;33m\u001b[0m\u001b[0m\n\u001b[0;32m   3084\u001b[0m         \u001b[1;32mif\u001b[0m \u001b[0mtolerance\u001b[0m \u001b[1;32mis\u001b[0m \u001b[1;32mnot\u001b[0m \u001b[1;32mNone\u001b[0m\u001b[1;33m:\u001b[0m\u001b[1;33m\u001b[0m\u001b[1;33m\u001b[0m\u001b[0m\n",
      "\u001b[1;31mKeyError\u001b[0m: 'Id'"
     ]
    }
   ],
   "source": [
    "kag_submission={'Id' : hd_test_df['Id'], 'SalePrice' : kag_preds}"
   ]
  },
  {
   "cell_type": "code",
   "execution_count": null,
   "id": "893baf6e-53af-4b13-8744-b3375f52ae09",
   "metadata": {},
   "outputs": [],
   "source": [
    "kag_submission = pd.DataFrame(kag_submission)"
   ]
  },
  {
   "cell_type": "code",
   "execution_count": null,
   "id": "80cc4cdf-7664-44c8-bdb7-32294a35bd00",
   "metadata": {},
   "outputs": [],
   "source": [
    "kag_submission.to_csv('./pjw_submission.csv', index=False)"
   ]
  },
  {
   "cell_type": "code",
   "execution_count": null,
   "id": "1ce709e9-dc8c-414f-840c-4b89f6eec154",
   "metadata": {},
   "outputs": [],
   "source": []
  }
 ],
 "metadata": {
  "kernelspec": {
   "display_name": "Python 3",
   "language": "python",
   "name": "python3"
  },
  "language_info": {
   "codemirror_mode": {
    "name": "ipython",
    "version": 3
   },
   "file_extension": ".py",
   "mimetype": "text/x-python",
   "name": "python",
   "nbconvert_exporter": "python",
   "pygments_lexer": "ipython3",
   "version": "3.8.8"
  }
 },
 "nbformat": 4,
 "nbformat_minor": 5
}
